{
 "cells": [
  {
   "cell_type": "markdown",
   "id": "cardiovascular-study",
   "metadata": {},
   "source": [
    "#### Audio Classification Data Preprocessing"
   ]
  },
  {
   "cell_type": "code",
   "execution_count": 1,
   "id": "boxed-central",
   "metadata": {},
   "outputs": [],
   "source": [
    "### Let's read a sample audio using librosa\n",
    "import librosa\n",
    "audio_file_path='D:\\\\dataset\\\\UrbanSound8K\\\\audio\\\\fold1\\\\9031-3-4-0.wav'\n",
    "librosa_audio_data,librosa_sample_rate=librosa.load(audio_file_path)"
   ]
  },
  {
   "cell_type": "code",
   "execution_count": 2,
   "id": "variable-airline",
   "metadata": {},
   "outputs": [
    {
     "name": "stdout",
     "output_type": "stream",
     "text": [
      "[0.0535574  0.07807359 0.06897732 ... 0.06880059 0.07718992 0.        ]\n"
     ]
    }
   ],
   "source": [
    "print(librosa_audio_data)"
   ]
  },
  {
   "cell_type": "code",
   "execution_count": 3,
   "id": "swedish-minute",
   "metadata": {},
   "outputs": [
    {
     "data": {
      "text/plain": [
       "[<matplotlib.lines.Line2D at 0x1c1bd45f490>]"
      ]
     },
     "execution_count": 3,
     "metadata": {},
     "output_type": "execute_result"
    },
    {
     "data": {
      "image/png": "[encoded data removed]",
      "text/plain": [
       "<Figure size 864x288 with 1 Axes>"
      ]
     },
     "metadata": {
      "needs_background": "light"
     },
     "output_type": "display_data"
    }
   ],
   "source": [
    "### Lets plot the librosa audio data\n",
    "import matplotlib.pyplot as plt\n",
    "# Original audio with 1 channel \n",
    "plt.figure(figsize=(12, 4))\n",
    "plt.plot(librosa_audio_data)"
   ]
  },
  {
   "cell_type": "markdown",
   "id": "comparative-ontario",
   "metadata": {},
   "source": [
    "#### Observation\n",
    "Here Librosa converts the signal to mono, meaning the channel will alays be 1"
   ]
  },
  {
   "cell_type": "code",
   "execution_count": 4,
   "id": "norman-producer",
   "metadata": {},
   "outputs": [],
   "source": [
    "### Lets read with scipy\n",
    "from scipy.io import wavfile as wav\n",
    "wave_sample_rate, wave_audio = wav.read(audio_file_path) "
   ]
  },
  {
   "cell_type": "code",
   "execution_count": 5,
   "id": "acting-functionality",
   "metadata": {},
   "outputs": [
    {
     "data": {
      "text/plain": [
       "array([2377, 2377, 2371, ..., 2351, 2327, 2313], dtype=int16)"
      ]
     },
     "execution_count": 5,
     "metadata": {},
     "output_type": "execute_result"
    }
   ],
   "source": [
    "wave_audio"
   ]
  },
  {
   "cell_type": "code",
   "execution_count": 6,
   "id": "pressing-college",
   "metadata": {},
   "outputs": [
    {
     "data": {
      "text/plain": [
       "[<matplotlib.lines.Line2D at 0x1c1be5c2fd0>]"
      ]
     },
     "execution_count": 6,
     "metadata": {},
     "output_type": "execute_result"
    },
    {
     "data": {
      "image/png": "[encoded data removed]",
      "text/plain": [
       "<Figure size 864x288 with 1 Axes>"
      ]
     },
     "metadata": {
      "needs_background": "light"
     },
     "output_type": "display_data"
    }
   ],
   "source": [
    "import matplotlib.pyplot as plt\n",
    "\n",
    "# Original audio with 2 channels \n",
    "plt.figure(figsize=(12, 4))\n",
    "plt.plot(wave_audio)"
   ]
  },
  {
   "cell_type": "markdown",
   "id": "applicable-priest",
   "metadata": {},
   "source": [
    "### Extract Features\n",
    "Here we will be using Mel-Frequency Cepstral Coefficients(MFCC) from the audio \n",
    "samples.\n",
    "The MFCC summarises the frequency distribution across the window size, so it is possible to analyse both the frequency and time characteristics of the sound. These audio representations will allow us to identify features for classification."
   ]
  },
  {
   "cell_type": "code",
   "execution_count": 7,
   "id": "chinese-north",
   "metadata": {},
   "outputs": [
    {
     "name": "stdout",
     "output_type": "stream",
     "text": [
      "(40, 36)\n"
     ]
    }
   ],
   "source": [
    "mfccs = librosa.feature.mfcc(y=librosa_audio_data, sr=librosa_sample_rate, n_mfcc=40)\n",
    "print(mfccs.shape)"
   ]
  },
  {
   "cell_type": "code",
   "execution_count": 8,
   "id": "sporting-freeware",
   "metadata": {},
   "outputs": [
    {
     "data": {
      "text/plain": [
       "array([[-4.9263629e+02, -5.1666699e+02, -3.4434473e+02, ...,\n",
       "        -4.5265356e+02, -4.4227603e+02, -3.9506955e+02],\n",
       "       [ 2.1022778e+01,  3.2360680e+01, -1.4441717e-01, ...,\n",
       "         4.0504066e+01,  1.3646534e+01,  4.0124183e+00],\n",
       "       [ 3.1373375e+01,  2.4198242e+01, -7.5386192e+01, ...,\n",
       "        -1.5294082e+01, -3.9495051e+00,  8.5138664e+00],\n",
       "       ...,\n",
       "       [ 5.3062348e+00,  4.0444374e+00,  8.4519835e+00, ...,\n",
       "         2.2136710e+00,  4.2268376e+00,  4.9588656e+00],\n",
       "       [ 3.4258902e+00,  3.5631077e+00, -1.7474413e-01, ...,\n",
       "        -1.7491052e+00,  1.8455843e+00,  5.6898022e+00],\n",
       "       [ 4.0504341e+00,  5.1131124e+00,  2.7819359e+00, ...,\n",
       "        -6.4594660e+00, -3.1788251e+00,  4.3545055e+00]], dtype=float32)"
      ]
     },
     "execution_count": 8,
     "metadata": {},
     "output_type": "execute_result"
    }
   ],
   "source": [
    "mfccs"
   ]
  },
  {
   "cell_type": "code",
   "execution_count": 9,
   "id": "liberal-journalist",
   "metadata": {},
   "outputs": [
    {
     "data": {
      "text/html": [
       "<div>\n",
       "<style scoped>\n",
       "    .dataframe tbody tr th:only-of-type {\n",
       "        vertical-align: middle;\n",
       "    }\n",
       "\n",
       "    .dataframe tbody tr th {\n",
       "        vertical-align: top;\n",
       "    }\n",
       "\n",
       "    .dataframe thead th {\n",
       "        text-align: right;\n",
       "    }\n",
       "</style>\n",
       "<table border=\"1\" class=\"dataframe\">\n",
       "  <thead>\n",
       "    <tr style=\"text-align: right;\">\n",
       "      <th></th>\n",
       "      <th>slice_file_name</th>\n",
       "      <th>fsID</th>\n",
       "      <th>start</th>\n",
       "      <th>end</th>\n",
       "      <th>salience</th>\n",
       "      <th>fold</th>\n",
       "      <th>classID</th>\n",
       "      <th>class</th>\n",
       "    </tr>\n",
       "  </thead>\n",
       "  <tbody>\n",
       "    <tr>\n",
       "      <th>0</th>\n",
       "      <td>100032-3-0-0.wav</td>\n",
       "      <td>100032</td>\n",
       "      <td>0.0</td>\n",
       "      <td>0.317551</td>\n",
       "      <td>1</td>\n",
       "      <td>5</td>\n",
       "      <td>3</td>\n",
       "      <td>dog_bark</td>\n",
       "    </tr>\n",
       "    <tr>\n",
       "      <th>1</th>\n",
       "      <td>100263-2-0-117.wav</td>\n",
       "      <td>100263</td>\n",
       "      <td>58.5</td>\n",
       "      <td>62.500000</td>\n",
       "      <td>1</td>\n",
       "      <td>5</td>\n",
       "      <td>2</td>\n",
       "      <td>children_playing</td>\n",
       "    </tr>\n",
       "    <tr>\n",
       "      <th>2</th>\n",
       "      <td>100263-2-0-121.wav</td>\n",
       "      <td>100263</td>\n",
       "      <td>60.5</td>\n",
       "      <td>64.500000</td>\n",
       "      <td>1</td>\n",
       "      <td>5</td>\n",
       "      <td>2</td>\n",
       "      <td>children_playing</td>\n",
       "    </tr>\n",
       "    <tr>\n",
       "      <th>3</th>\n",
       "      <td>100263-2-0-126.wav</td>\n",
       "      <td>100263</td>\n",
       "      <td>63.0</td>\n",
       "      <td>67.000000</td>\n",
       "      <td>1</td>\n",
       "      <td>5</td>\n",
       "      <td>2</td>\n",
       "      <td>children_playing</td>\n",
       "    </tr>\n",
       "    <tr>\n",
       "      <th>4</th>\n",
       "      <td>100263-2-0-137.wav</td>\n",
       "      <td>100263</td>\n",
       "      <td>68.5</td>\n",
       "      <td>72.500000</td>\n",
       "      <td>1</td>\n",
       "      <td>5</td>\n",
       "      <td>2</td>\n",
       "      <td>children_playing</td>\n",
       "    </tr>\n",
       "  </tbody>\n",
       "</table>\n",
       "</div>"
      ],
      "text/plain": [
       "      slice_file_name    fsID  start        end  salience  fold  classID  \\\n",
       "0    100032-3-0-0.wav  100032    0.0   0.317551         1     5        3   \n",
       "1  100263-2-0-117.wav  100263   58.5  62.500000         1     5        2   \n",
       "2  100263-2-0-121.wav  100263   60.5  64.500000         1     5        2   \n",
       "3  100263-2-0-126.wav  100263   63.0  67.000000         1     5        2   \n",
       "4  100263-2-0-137.wav  100263   68.5  72.500000         1     5        2   \n",
       "\n",
       "              class  \n",
       "0          dog_bark  \n",
       "1  children_playing  \n",
       "2  children_playing  \n",
       "3  children_playing  \n",
       "4  children_playing  "
      ]
     },
     "execution_count": 9,
     "metadata": {},
     "output_type": "execute_result"
    }
   ],
   "source": [
    "#### Extracting MFCC's For every audio file\n",
    "import pandas as pd\n",
    "import os\n",
    "import librosa\n",
    "\n",
    "audio_dataset_path=\"D:\\\\dataset\\\\UrbanSound8K\\\\audio\"\n",
    "metadata=pd.read_csv(\"D:\\\\dataset\\\\UrbanSound8K\\\\metadata\\\\UrbanSound8K.csv\")\n",
    "metadata.head()"
   ]
  },
  {
   "cell_type": "code",
   "execution_count": 10,
   "id": "chinese-calendar",
   "metadata": {},
   "outputs": [],
   "source": [
    "def features_extractor(file):\n",
    "    audio, sample_rate = librosa.load(file_name, res_type='kaiser_fast') \n",
    "    mfccs_features = librosa.feature.mfcc(y=audio, sr=sample_rate, n_mfcc=40)\n",
    "    mfccs_scaled_features = np.mean(mfccs_features.T,axis=0)\n",
    "    \n",
    "    return mfccs_scaled_features\n",
    "    "
   ]
  },
  {
   "cell_type": "code",
   "execution_count": null,
   "id": "nuclear-sponsorship",
   "metadata": {},
   "outputs": [
    {
     "name": "stderr",
     "output_type": "stream",
     "text": [
      "1864it [01:33, 21.53it/s]"
     ]
    }
   ],
   "source": [
    "import numpy as np\n",
    "from tqdm import tqdm\n",
    "### Now we iterate through every audio file and extract features \n",
    "### using Mel-Frequency Cepstral Coefficients\n",
    "extracted_features=[]\n",
    "for index_num,row in tqdm(metadata.iterrows()):\n",
    "    file_name = os.path.join(os.path.abspath(audio_dataset_path),'fold'+str(row[\"fold\"])+'/',str(row[\"slice_file_name\"]))\n",
    "    final_class_labels=row[\"class\"]\n",
    "    data=features_extractor(file_name)\n",
    "    extracted_features.append([data,final_class_labels])"
   ]
  },
  {
   "cell_type": "code",
   "execution_count": 15,
   "id": "acoustic-wagner",
   "metadata": {},
   "outputs": [
    {
     "data": {
      "text/html": [
       "<div>\n",
       "<style scoped>\n",
       "    .dataframe tbody tr th:only-of-type {\n",
       "        vertical-align: middle;\n",
       "    }\n",
       "\n",
       "    .dataframe tbody tr th {\n",
       "        vertical-align: top;\n",
       "    }\n",
       "\n",
       "    .dataframe thead th {\n",
       "        text-align: right;\n",
       "    }\n",
       "</style>\n",
       "<table border=\"1\" class=\"dataframe\">\n",
       "  <thead>\n",
       "    <tr style=\"text-align: right;\">\n",
       "      <th></th>\n",
       "      <th>feature</th>\n",
       "      <th>class</th>\n",
       "    </tr>\n",
       "  </thead>\n",
       "  <tbody>\n",
       "    <tr>\n",
       "      <th>0</th>\n",
       "      <td>[-215.79301, 71.66612, -131.81377, -52.091328,...</td>\n",
       "      <td>dog_bark</td>\n",
       "    </tr>\n",
       "    <tr>\n",
       "      <th>1</th>\n",
       "      <td>[-424.68677, 110.56227, -54.148235, 62.01074, ...</td>\n",
       "      <td>children_playing</td>\n",
       "    </tr>\n",
       "    <tr>\n",
       "      <th>2</th>\n",
       "      <td>[-459.56467, 122.800354, -47.92471, 53.265694,...</td>\n",
       "      <td>children_playing</td>\n",
       "    </tr>\n",
       "    <tr>\n",
       "      <th>3</th>\n",
       "      <td>[-414.55377, 102.896904, -36.66495, 54.18041, ...</td>\n",
       "      <td>children_playing</td>\n",
       "    </tr>\n",
       "    <tr>\n",
       "      <th>4</th>\n",
       "      <td>[-447.397, 115.0954, -53.809113, 61.608585, 1....</td>\n",
       "      <td>children_playing</td>\n",
       "    </tr>\n",
       "  </tbody>\n",
       "</table>\n",
       "</div>"
      ],
      "text/plain": [
       "                                             feature             class\n",
       "0  [-215.79301, 71.66612, -131.81377, -52.091328,...          dog_bark\n",
       "1  [-424.68677, 110.56227, -54.148235, 62.01074, ...  children_playing\n",
       "2  [-459.56467, 122.800354, -47.92471, 53.265694,...  children_playing\n",
       "3  [-414.55377, 102.896904, -36.66495, 54.18041, ...  children_playing\n",
       "4  [-447.397, 115.0954, -53.809113, 61.608585, 1....  children_playing"
      ]
     },
     "execution_count": 15,
     "metadata": {},
     "output_type": "execute_result"
    }
   ],
   "source": [
    "### converting extracted_features to Pandas dataframe\n",
    "extracted_features_df=pd.DataFrame(extracted_features,columns=['feature','class'])\n",
    "extracted_features_df.head()"
   ]
  },
  {
   "cell_type": "code",
   "execution_count": 16,
   "id": "characteristic-sudan",
   "metadata": {},
   "outputs": [],
   "source": [
    "### Split the dataset into independent and dependent dataset\n",
    "X=np.array(extracted_features_df['feature'].tolist())\n",
    "y=np.array(extracted_features_df['class'].tolist())"
   ]
  },
  {
   "cell_type": "code",
   "execution_count": 17,
   "id": "friendly-placement",
   "metadata": {},
   "outputs": [
    {
     "data": {
      "text/plain": [
       "(8732, 40)"
      ]
     },
     "execution_count": 17,
     "metadata": {},
     "output_type": "execute_result"
    }
   ],
   "source": [
    "X.shape"
   ]
  },
  {
   "cell_type": "code",
   "execution_count": 18,
   "id": "japanese-cheese",
   "metadata": {},
   "outputs": [
    {
     "data": {
      "text/plain": [
       "array(['dog_bark', 'children_playing', 'children_playing', ...,\n",
       "       'car_horn', 'car_horn', 'car_horn'], dtype='<U16')"
      ]
     },
     "execution_count": 18,
     "metadata": {},
     "output_type": "execute_result"
    }
   ],
   "source": [
    "y"
   ]
  },
  {
   "cell_type": "code",
   "execution_count": 19,
   "id": "wired-church",
   "metadata": {},
   "outputs": [],
   "source": [
    "### Label Encoding\n",
    "###y=np.array(pd.get_dummies(y))\n",
    "### Label Encoder\n",
    "from tensorflow.keras.utils import to_categorical\n",
    "from sklearn.preprocessing import LabelEncoder\n",
    "labelencoder=LabelEncoder()\n",
    "y=to_categorical(labelencoder.fit_transform(y))"
   ]
  },
  {
   "cell_type": "code",
   "execution_count": 20,
   "id": "sitting-anniversary",
   "metadata": {},
   "outputs": [
    {
     "data": {
      "text/plain": [
       "array([[0., 0., 0., ..., 0., 0., 0.],\n",
       "       [0., 0., 1., ..., 0., 0., 0.],\n",
       "       [0., 0., 1., ..., 0., 0., 0.],\n",
       "       ...,\n",
       "       [0., 1., 0., ..., 0., 0., 0.],\n",
       "       [0., 1., 0., ..., 0., 0., 0.],\n",
       "       [0., 1., 0., ..., 0., 0., 0.]], dtype=float32)"
      ]
     },
     "execution_count": 20,
     "metadata": {},
     "output_type": "execute_result"
    }
   ],
   "source": [
    "y"
   ]
  },
  {
   "cell_type": "code",
   "execution_count": 21,
   "id": "documentary-priority",
   "metadata": {},
   "outputs": [],
   "source": [
    "### Train Test Split\n",
    "from sklearn.model_selection import train_test_split\n",
    "X_train,X_test,y_train,y_test=train_test_split(X,y,test_size=0.2,random_state=0)"
   ]
  },
  {
   "cell_type": "code",
   "execution_count": 22,
   "id": "analyzed-payday",
   "metadata": {},
   "outputs": [
    {
     "data": {
      "text/plain": [
       "array([[-1.3183614e+02,  1.1397464e+02, -2.3956861e+01, ...,\n",
       "         3.3314774e+00, -1.4786109e+00,  2.8736601e+00],\n",
       "       [-1.4074220e+01,  9.1916939e+01, -8.6787214e+00, ...,\n",
       "        -3.3844023e+00, -5.2119045e+00, -1.5936136e+00],\n",
       "       [-4.9532028e+01,  1.5521857e-01, -2.0369110e+01, ...,\n",
       "         2.0491767e+00, -8.0537492e-01,  2.7793026e+00],\n",
       "       ...,\n",
       "       [-4.2699332e+02,  9.2890656e+01,  3.0233388e+00, ...,\n",
       "         8.6335993e-01,  6.4766800e-01,  7.8490508e-01],\n",
       "       [-1.4607024e+02,  1.3709459e+02, -3.4298344e+01, ...,\n",
       "         1.3777871e+00, -1.9530845e+00, -8.9652127e-01],\n",
       "       [-4.2167450e+02,  2.1169032e+02,  2.6820304e+00, ...,\n",
       "        -5.1484952e+00, -3.6400862e+00, -1.3321608e+00]], dtype=float32)"
      ]
     },
     "execution_count": 22,
     "metadata": {},
     "output_type": "execute_result"
    }
   ],
   "source": [
    "X_train"
   ]
  },
  {
   "cell_type": "code",
   "execution_count": 23,
   "id": "female-study",
   "metadata": {},
   "outputs": [
    {
     "data": {
      "text/plain": [
       "array([[0., 0., 0., ..., 0., 0., 0.],\n",
       "       [0., 0., 1., ..., 0., 0., 0.],\n",
       "       [0., 0., 1., ..., 0., 0., 0.],\n",
       "       ...,\n",
       "       [0., 1., 0., ..., 0., 0., 0.],\n",
       "       [0., 1., 0., ..., 0., 0., 0.],\n",
       "       [0., 1., 0., ..., 0., 0., 0.]], dtype=float32)"
      ]
     },
     "execution_count": 23,
     "metadata": {},
     "output_type": "execute_result"
    }
   ],
   "source": [
    "y"
   ]
  },
  {
   "cell_type": "code",
   "execution_count": 24,
   "id": "flexible-lithuania",
   "metadata": {},
   "outputs": [
    {
     "data": {
      "text/plain": [
       "(6985, 40)"
      ]
     },
     "execution_count": 24,
     "metadata": {},
     "output_type": "execute_result"
    }
   ],
   "source": [
    "X_train.shape"
   ]
  },
  {
   "cell_type": "code",
   "execution_count": 26,
   "id": "instrumental-equity",
   "metadata": {},
   "outputs": [
    {
     "data": {
      "text/plain": [
       "(1747, 40)"
      ]
     },
     "execution_count": 26,
     "metadata": {},
     "output_type": "execute_result"
    }
   ],
   "source": [
    "X_test.shape"
   ]
  },
  {
   "cell_type": "code",
   "execution_count": 27,
   "id": "chemical-vermont",
   "metadata": {},
   "outputs": [
    {
     "data": {
      "text/plain": [
       "(6985, 10)"
      ]
     },
     "execution_count": 27,
     "metadata": {},
     "output_type": "execute_result"
    }
   ],
   "source": [
    "y_train.shape"
   ]
  },
  {
   "cell_type": "code",
   "execution_count": 28,
   "id": "governing-natural",
   "metadata": {},
   "outputs": [
    {
     "data": {
      "text/plain": [
       "(1747, 10)"
      ]
     },
     "execution_count": 28,
     "metadata": {},
     "output_type": "execute_result"
    }
   ],
   "source": [
    "y_test.shape"
   ]
  },
  {
   "cell_type": "markdown",
   "id": "express-vessel",
   "metadata": {},
   "source": [
    "### Model Creation"
   ]
  },
  {
   "cell_type": "code",
   "execution_count": 29,
   "id": "loose-portugal",
   "metadata": {},
   "outputs": [
    {
     "name": "stdout",
     "output_type": "stream",
     "text": [
      "2.5.1\n"
     ]
    }
   ],
   "source": [
    "import tensorflow as tf\n",
    "print(tf.__version__)"
   ]
  },
  {
   "cell_type": "code",
   "execution_count": 30,
   "id": "indonesian-accessory",
   "metadata": {},
   "outputs": [],
   "source": [
    "from tensorflow.keras.models import Sequential\n",
    "from tensorflow.keras.layers import Dense,Dropout,Activation,Flatten\n",
    "from tensorflow.keras.optimizers import Adam\n",
    "from sklearn import metrics"
   ]
  },
  {
   "cell_type": "code",
   "execution_count": 31,
   "id": "valuable-substitute",
   "metadata": {},
   "outputs": [],
   "source": [
    "### No of classes\n",
    "num_labels=y.shape[1]"
   ]
  },
  {
   "cell_type": "code",
   "execution_count": null,
   "id": "choice-contract",
   "metadata": {},
   "outputs": [],
   "source": []
  },
  {
   "cell_type": "code",
   "execution_count": 32,
   "id": "found-outside",
   "metadata": {},
   "outputs": [],
   "source": [
    "model=Sequential()\n",
    "###first layer\n",
    "model.add(Dense(100,input_shape=(40,)))\n",
    "model.add(Activation('relu'))\n",
    "model.add(Dropout(0.5))\n",
    "###second layer\n",
    "model.add(Dense(200))\n",
    "model.add(Activation('relu'))\n",
    "model.add(Dropout(0.5))\n",
    "###third layer\n",
    "model.add(Dense(100))\n",
    "model.add(Activation('relu'))\n",
    "model.add(Dropout(0.5))\n",
    "\n",
    "###final layer\n",
    "model.add(Dense(num_labels))\n",
    "model.add(Activation('softmax'))"
   ]
  },
  {
   "cell_type": "code",
   "execution_count": 27,
   "id": "described-anaheim",
   "metadata": {},
   "outputs": [
    {
     "name": "stdout",
     "output_type": "stream",
     "text": [
      "Model: \"sequential\"\n",
      "_________________________________________________________________\n",
      "Layer (type)                 Output Shape              Param #   \n",
      "=================================================================\n",
      "dense (Dense)                (None, 100)               4100      \n",
      "_________________________________________________________________\n",
      "activation (Activation)      (None, 100)               0         \n",
      "_________________________________________________________________\n",
      "dropout (Dropout)            (None, 100)               0         \n",
      "_________________________________________________________________\n",
      "dense_1 (Dense)              (None, 200)               20200     \n",
      "_________________________________________________________________\n",
      "activation_1 (Activation)    (None, 200)               0         \n",
      "_________________________________________________________________\n",
      "dropout_1 (Dropout)          (None, 200)               0         \n",
      "_________________________________________________________________\n",
      "dense_2 (Dense)              (None, 100)               20100     \n",
      "_________________________________________________________________\n",
      "activation_2 (Activation)    (None, 100)               0         \n",
      "_________________________________________________________________\n",
      "dropout_2 (Dropout)          (None, 100)               0         \n",
      "_________________________________________________________________\n",
      "dense_3 (Dense)              (None, 10)                1010      \n",
      "_________________________________________________________________\n",
      "activation_3 (Activation)    (None, 10)                0         \n",
      "=================================================================\n",
      "Total params: 45,410\n",
      "Trainable params: 45,410\n",
      "Non-trainable params: 0\n",
      "_________________________________________________________________\n"
     ]
    }
   ],
   "source": [
    "model.summary()"
   ]
  },
  {
   "cell_type": "code",
   "execution_count": 33,
   "id": "radical-finding",
   "metadata": {},
   "outputs": [],
   "source": [
    "model.compile(loss='categorical_crossentropy',metrics=['accuracy'],optimizer='adam')"
   ]
  },
  {
   "cell_type": "code",
   "execution_count": 34,
   "id": "alpha-adapter",
   "metadata": {},
   "outputs": [
    {
     "name": "stdout",
     "output_type": "stream",
     "text": [
      "Epoch 1/100\n",
      "219/219 [==============================] - 2s 5ms/step - loss: 10.1407 - accuracy: 0.1233 - val_loss: 2.2910 - val_accuracy: 0.1156\n",
      "\n",
      "Epoch 00001: val_loss improved from inf to 2.29097, saving model to saved_models\\audio_classification.hdf5\n",
      "Epoch 2/100\n",
      "219/219 [==============================] - 1s 2ms/step - loss: 2.5054 - accuracy: 0.1187 - val_loss: 2.2783 - val_accuracy: 0.1139\n",
      "\n",
      "Epoch 00002: val_loss improved from 2.29097 to 2.27829, saving model to saved_models\\audio_classification.hdf5\n",
      "Epoch 3/100\n",
      "219/219 [==============================] - 1s 3ms/step - loss: 2.3400 - accuracy: 0.1244 - val_loss: 2.2616 - val_accuracy: 0.1225\n",
      "\n",
      "Epoch 00003: val_loss improved from 2.27829 to 2.26164, saving model to saved_models\\audio_classification.hdf5\n",
      "Epoch 4/100\n",
      "219/219 [==============================] - 1s 3ms/step - loss: 2.2804 - accuracy: 0.1359 - val_loss: 2.2340 - val_accuracy: 0.1317\n",
      "\n",
      "Epoch 00004: val_loss improved from 2.26164 to 2.23403, saving model to saved_models\\audio_classification.hdf5\n",
      "Epoch 5/100\n",
      "219/219 [==============================] - 1s 3ms/step - loss: 2.2491 - accuracy: 0.1526 - val_loss: 2.2012 - val_accuracy: 0.1483\n",
      "\n",
      "Epoch 00005: val_loss improved from 2.23403 to 2.20118, saving model to saved_models\\audio_classification.hdf5\n",
      "Epoch 6/100\n",
      "219/219 [==============================] - 1s 2ms/step - loss: 2.2103 - accuracy: 0.1641 - val_loss: 2.1560 - val_accuracy: 0.1517\n",
      "\n",
      "Epoch 00006: val_loss improved from 2.20118 to 2.15600, saving model to saved_models\\audio_classification.hdf5\n",
      "Epoch 7/100\n",
      "219/219 [==============================] - 1s 2ms/step - loss: 2.1841 - accuracy: 0.1652 - val_loss: 2.1278 - val_accuracy: 0.1717\n",
      "\n",
      "Epoch 00007: val_loss improved from 2.15600 to 2.12784, saving model to saved_models\\audio_classification.hdf5\n",
      "Epoch 8/100\n",
      "219/219 [==============================] - 1s 2ms/step - loss: 2.1545 - accuracy: 0.1800 - val_loss: 2.1069 - val_accuracy: 0.1734\n",
      "\n",
      "Epoch 00008: val_loss improved from 2.12784 to 2.10688, saving model to saved_models\\audio_classification.hdf5\n",
      "Epoch 9/100\n",
      "219/219 [==============================] - 1s 2ms/step - loss: 2.1402 - accuracy: 0.1877 - val_loss: 2.0572 - val_accuracy: 0.2055\n",
      "\n",
      "Epoch 00009: val_loss improved from 2.10688 to 2.05719, saving model to saved_models\\audio_classification.hdf5\n",
      "Epoch 10/100\n",
      "219/219 [==============================] - 1s 2ms/step - loss: 2.0952 - accuracy: 0.2066 - val_loss: 2.0274 - val_accuracy: 0.2341\n",
      "\n",
      "Epoch 00010: val_loss improved from 2.05719 to 2.02742, saving model to saved_models\\audio_classification.hdf5\n",
      "Epoch 11/100\n",
      "219/219 [==============================] - 1s 3ms/step - loss: 2.0651 - accuracy: 0.2198 - val_loss: 1.9870 - val_accuracy: 0.2736\n",
      "\n",
      "Epoch 00011: val_loss improved from 2.02742 to 1.98697, saving model to saved_models\\audio_classification.hdf5\n",
      "Epoch 12/100\n",
      "219/219 [==============================] - 1s 3ms/step - loss: 2.0563 - accuracy: 0.2321 - val_loss: 1.9646 - val_accuracy: 0.2793\n",
      "\n",
      "Epoch 00012: val_loss improved from 1.98697 to 1.96456, saving model to saved_models\\audio_classification.hdf5\n",
      "Epoch 13/100\n",
      "219/219 [==============================] - 1s 3ms/step - loss: 2.0274 - accuracy: 0.2437 - val_loss: 1.9347 - val_accuracy: 0.2885\n",
      "\n",
      "Epoch 00013: val_loss improved from 1.96456 to 1.93471, saving model to saved_models\\audio_classification.hdf5\n",
      "Epoch 14/100\n",
      "219/219 [==============================] - 1s 2ms/step - loss: 1.9933 - accuracy: 0.2550 - val_loss: 1.9122 - val_accuracy: 0.3022\n",
      "\n",
      "Epoch 00014: val_loss improved from 1.93471 to 1.91220, saving model to saved_models\\audio_classification.hdf5\n",
      "Epoch 15/100\n",
      "219/219 [==============================] - 1s 2ms/step - loss: 1.9673 - accuracy: 0.2712 - val_loss: 1.8810 - val_accuracy: 0.3017\n",
      "\n",
      "Epoch 00015: val_loss improved from 1.91220 to 1.88097, saving model to saved_models\\audio_classification.hdf5\n",
      "Epoch 16/100\n",
      "219/219 [==============================] - 1s 2ms/step - loss: 1.9155 - accuracy: 0.2843 - val_loss: 1.7633 - val_accuracy: 0.3532\n",
      "\n",
      "Epoch 00016: val_loss improved from 1.88097 to 1.76331, saving model to saved_models\\audio_classification.hdf5\n",
      "Epoch 17/100\n",
      "219/219 [==============================] - 1s 3ms/step - loss: 1.8528 - accuracy: 0.2962 - val_loss: 1.6883 - val_accuracy: 0.3572\n",
      "\n",
      "Epoch 00017: val_loss improved from 1.76331 to 1.68831, saving model to saved_models\\audio_classification.hdf5\n",
      "Epoch 18/100\n",
      "219/219 [==============================] - 1s 3ms/step - loss: 1.8108 - accuracy: 0.3167 - val_loss: 1.6314 - val_accuracy: 0.4127\n",
      "\n",
      "Epoch 00018: val_loss improved from 1.68831 to 1.63142, saving model to saved_models\\audio_classification.hdf5\n",
      "Epoch 19/100\n",
      "219/219 [==============================] - 1s 3ms/step - loss: 1.7528 - accuracy: 0.3420 - val_loss: 1.6469 - val_accuracy: 0.4076\n",
      "\n",
      "Epoch 00019: val_loss did not improve from 1.63142\n",
      "Epoch 20/100\n",
      "219/219 [==============================] - 1s 2ms/step - loss: 1.7313 - accuracy: 0.3562 - val_loss: 1.5805 - val_accuracy: 0.4591\n",
      "\n",
      "Epoch 00020: val_loss improved from 1.63142 to 1.58051, saving model to saved_models\\audio_classification.hdf5\n",
      "Epoch 21/100\n",
      "219/219 [==============================] - 1s 2ms/step - loss: 1.6887 - accuracy: 0.3785 - val_loss: 1.5362 - val_accuracy: 0.4854\n",
      "\n",
      "Epoch 00021: val_loss improved from 1.58051 to 1.53622, saving model to saved_models\\audio_classification.hdf5\n",
      "Epoch 22/100\n",
      "219/219 [==============================] - 1s 2ms/step - loss: 1.6442 - accuracy: 0.3885 - val_loss: 1.4976 - val_accuracy: 0.4860\n",
      "\n",
      "Epoch 00022: val_loss improved from 1.53622 to 1.49758, saving model to saved_models\\audio_classification.hdf5\n",
      "Epoch 23/100\n",
      "219/219 [==============================] - 1s 2ms/step - loss: 1.6361 - accuracy: 0.4072 - val_loss: 1.4515 - val_accuracy: 0.5146\n",
      "\n",
      "Epoch 00023: val_loss improved from 1.49758 to 1.45154, saving model to saved_models\\audio_classification.hdf5\n",
      "Epoch 24/100\n",
      "219/219 [==============================] - 1s 2ms/step - loss: 1.5796 - accuracy: 0.4304 - val_loss: 1.3919 - val_accuracy: 0.5369\n",
      "\n",
      "Epoch 00024: val_loss improved from 1.45154 to 1.39191, saving model to saved_models\\audio_classification.hdf5\n",
      "Epoch 25/100\n",
      "219/219 [==============================] - 1s 2ms/step - loss: 1.5581 - accuracy: 0.4346 - val_loss: 1.3837 - val_accuracy: 0.5381\n",
      "\n",
      "Epoch 00025: val_loss improved from 1.39191 to 1.38371, saving model to saved_models\\audio_classification.hdf5\n",
      "Epoch 26/100\n",
      "219/219 [==============================] - 1s 2ms/step - loss: 1.5404 - accuracy: 0.4412 - val_loss: 1.3700 - val_accuracy: 0.5392\n",
      "\n",
      "Epoch 00026: val_loss improved from 1.38371 to 1.36999, saving model to saved_models\\audio_classification.hdf5\n",
      "Epoch 27/100\n",
      "219/219 [==============================] - 1s 2ms/step - loss: 1.5041 - accuracy: 0.4643 - val_loss: 1.2958 - val_accuracy: 0.5736\n",
      "\n",
      "Epoch 00027: val_loss improved from 1.36999 to 1.29575, saving model to saved_models\\audio_classification.hdf5\n",
      "Epoch 28/100\n",
      "219/219 [==============================] - 1s 2ms/step - loss: 1.4897 - accuracy: 0.4722 - val_loss: 1.3105 - val_accuracy: 0.5615\n",
      "\n",
      "Epoch 00028: val_loss did not improve from 1.29575\n",
      "Epoch 29/100\n",
      "219/219 [==============================] - 1s 2ms/step - loss: 1.4669 - accuracy: 0.4829 - val_loss: 1.2887 - val_accuracy: 0.5673\n",
      "\n",
      "Epoch 00029: val_loss improved from 1.29575 to 1.28875, saving model to saved_models\\audio_classification.hdf5\n",
      "Epoch 30/100\n",
      "219/219 [==============================] - 0s 2ms/step - loss: 1.4455 - accuracy: 0.4981 - val_loss: 1.2160 - val_accuracy: 0.6005\n",
      "\n",
      "Epoch 00030: val_loss improved from 1.28875 to 1.21596, saving model to saved_models\\audio_classification.hdf5\n",
      "Epoch 31/100\n",
      "219/219 [==============================] - 1s 2ms/step - loss: 1.4022 - accuracy: 0.5112 - val_loss: 1.2381 - val_accuracy: 0.5999\n",
      "\n",
      "Epoch 00031: val_loss did not improve from 1.21596\n",
      "Epoch 32/100\n",
      "219/219 [==============================] - 1s 2ms/step - loss: 1.3935 - accuracy: 0.5107 - val_loss: 1.1932 - val_accuracy: 0.6131\n",
      "\n",
      "Epoch 00032: val_loss improved from 1.21596 to 1.19319, saving model to saved_models\\audio_classification.hdf5\n",
      "Epoch 33/100\n",
      "219/219 [==============================] - 1s 2ms/step - loss: 1.3927 - accuracy: 0.5198 - val_loss: 1.1525 - val_accuracy: 0.6171\n",
      "\n",
      "Epoch 00033: val_loss improved from 1.19319 to 1.15252, saving model to saved_models\\audio_classification.hdf5\n",
      "Epoch 34/100\n"
     ]
    },
    {
     "name": "stdout",
     "output_type": "stream",
     "text": [
      "219/219 [==============================] - 1s 2ms/step - loss: 1.3644 - accuracy: 0.5241 - val_loss: 1.1646 - val_accuracy: 0.6434\n",
      "\n",
      "Epoch 00034: val_loss did not improve from 1.15252\n",
      "Epoch 35/100\n",
      "219/219 [==============================] - 1s 2ms/step - loss: 1.3383 - accuracy: 0.5357 - val_loss: 1.1323 - val_accuracy: 0.6388\n",
      "\n",
      "Epoch 00035: val_loss improved from 1.15252 to 1.13230, saving model to saved_models\\audio_classification.hdf5\n",
      "Epoch 36/100\n",
      "219/219 [==============================] - 1s 2ms/step - loss: 1.3024 - accuracy: 0.5459 - val_loss: 1.1219 - val_accuracy: 0.6485\n",
      "\n",
      "Epoch 00036: val_loss improved from 1.13230 to 1.12189, saving model to saved_models\\audio_classification.hdf5\n",
      "Epoch 37/100\n",
      "219/219 [==============================] - 1s 2ms/step - loss: 1.2756 - accuracy: 0.5579 - val_loss: 1.1021 - val_accuracy: 0.6302\n",
      "\n",
      "Epoch 00037: val_loss improved from 1.12189 to 1.10211, saving model to saved_models\\audio_classification.hdf5\n",
      "Epoch 38/100\n",
      "219/219 [==============================] - 1s 2ms/step - loss: 1.2935 - accuracy: 0.5582 - val_loss: 1.1001 - val_accuracy: 0.6291\n",
      "\n",
      "Epoch 00038: val_loss improved from 1.10211 to 1.10012, saving model to saved_models\\audio_classification.hdf5\n",
      "Epoch 39/100\n",
      "219/219 [==============================] - 1s 2ms/step - loss: 1.2711 - accuracy: 0.5676 - val_loss: 1.0900 - val_accuracy: 0.6606\n",
      "\n",
      "Epoch 00039: val_loss improved from 1.10012 to 1.08999, saving model to saved_models\\audio_classification.hdf5\n",
      "Epoch 40/100\n",
      "219/219 [==============================] - 1s 2ms/step - loss: 1.2567 - accuracy: 0.5749 - val_loss: 1.0451 - val_accuracy: 0.6680\n",
      "\n",
      "Epoch 00040: val_loss improved from 1.08999 to 1.04510, saving model to saved_models\\audio_classification.hdf5\n",
      "Epoch 41/100\n",
      "219/219 [==============================] - 1s 2ms/step - loss: 1.2336 - accuracy: 0.5797 - val_loss: 1.0423 - val_accuracy: 0.6617\n",
      "\n",
      "Epoch 00041: val_loss improved from 1.04510 to 1.04227, saving model to saved_models\\audio_classification.hdf5\n",
      "Epoch 42/100\n",
      "219/219 [==============================] - 1s 2ms/step - loss: 1.2394 - accuracy: 0.5752 - val_loss: 1.0435 - val_accuracy: 0.6617\n",
      "\n",
      "Epoch 00042: val_loss did not improve from 1.04227\n",
      "Epoch 43/100\n",
      "219/219 [==============================] - 1s 2ms/step - loss: 1.2391 - accuracy: 0.5805 - val_loss: 1.0272 - val_accuracy: 0.6588\n",
      "\n",
      "Epoch 00043: val_loss improved from 1.04227 to 1.02721, saving model to saved_models\\audio_classification.hdf5\n",
      "Epoch 44/100\n",
      "219/219 [==============================] - 1s 2ms/step - loss: 1.2100 - accuracy: 0.5907 - val_loss: 1.0003 - val_accuracy: 0.6766\n",
      "\n",
      "Epoch 00044: val_loss improved from 1.02721 to 1.00027, saving model to saved_models\\audio_classification.hdf5\n",
      "Epoch 45/100\n",
      "219/219 [==============================] - 1s 2ms/step - loss: 1.2006 - accuracy: 0.5953 - val_loss: 1.0140 - val_accuracy: 0.6657\n",
      "\n",
      "Epoch 00045: val_loss did not improve from 1.00027\n",
      "Epoch 46/100\n",
      "219/219 [==============================] - 1s 2ms/step - loss: 1.1750 - accuracy: 0.6024 - val_loss: 1.0024 - val_accuracy: 0.6777\n",
      "\n",
      "Epoch 00046: val_loss did not improve from 1.00027\n",
      "Epoch 47/100\n",
      "219/219 [==============================] - 1s 2ms/step - loss: 1.1800 - accuracy: 0.6023 - val_loss: 0.9998 - val_accuracy: 0.6789\n",
      "\n",
      "Epoch 00047: val_loss improved from 1.00027 to 0.99980, saving model to saved_models\\audio_classification.hdf5\n",
      "Epoch 48/100\n",
      "219/219 [==============================] - 1s 2ms/step - loss: 1.1473 - accuracy: 0.6120 - val_loss: 0.9967 - val_accuracy: 0.6777\n",
      "\n",
      "Epoch 00048: val_loss improved from 0.99980 to 0.99671, saving model to saved_models\\audio_classification.hdf5\n",
      "Epoch 49/100\n",
      "219/219 [==============================] - 1s 2ms/step - loss: 1.1539 - accuracy: 0.6199 - val_loss: 0.9724 - val_accuracy: 0.6920\n",
      "\n",
      "Epoch 00049: val_loss improved from 0.99671 to 0.97239, saving model to saved_models\\audio_classification.hdf5\n",
      "Epoch 50/100\n",
      "219/219 [==============================] - 1s 2ms/step - loss: 1.1514 - accuracy: 0.6094 - val_loss: 0.9497 - val_accuracy: 0.6926\n",
      "\n",
      "Epoch 00050: val_loss improved from 0.97239 to 0.94972, saving model to saved_models\\audio_classification.hdf5\n",
      "Epoch 51/100\n",
      "219/219 [==============================] - 1s 2ms/step - loss: 1.1350 - accuracy: 0.6077 - val_loss: 0.9642 - val_accuracy: 0.6903\n",
      "\n",
      "Epoch 00051: val_loss did not improve from 0.94972\n",
      "Epoch 52/100\n",
      "219/219 [==============================] - 1s 2ms/step - loss: 1.1261 - accuracy: 0.6106 - val_loss: 0.9493 - val_accuracy: 0.7035\n",
      "\n",
      "Epoch 00052: val_loss improved from 0.94972 to 0.94928, saving model to saved_models\\audio_classification.hdf5\n",
      "Epoch 53/100\n",
      "219/219 [==============================] - 1s 2ms/step - loss: 1.1244 - accuracy: 0.6143 - val_loss: 0.9476 - val_accuracy: 0.7064\n",
      "\n",
      "Epoch 00053: val_loss improved from 0.94928 to 0.94757, saving model to saved_models\\audio_classification.hdf5\n",
      "Epoch 54/100\n",
      "219/219 [==============================] - 1s 2ms/step - loss: 1.1103 - accuracy: 0.6199 - val_loss: 0.9592 - val_accuracy: 0.6840\n",
      "\n",
      "Epoch 00054: val_loss did not improve from 0.94757\n",
      "Epoch 55/100\n",
      "219/219 [==============================] - 1s 2ms/step - loss: 1.1151 - accuracy: 0.6142 - val_loss: 0.9109 - val_accuracy: 0.7086\n",
      "\n",
      "Epoch 00055: val_loss improved from 0.94757 to 0.91094, saving model to saved_models\\audio_classification.hdf5\n",
      "Epoch 56/100\n",
      "219/219 [==============================] - 1s 2ms/step - loss: 1.1152 - accuracy: 0.6216 - val_loss: 0.9365 - val_accuracy: 0.7081\n",
      "\n",
      "Epoch 00056: val_loss did not improve from 0.91094\n",
      "Epoch 57/100\n",
      "219/219 [==============================] - 1s 2ms/step - loss: 1.1268 - accuracy: 0.6265 - val_loss: 0.9360 - val_accuracy: 0.6989\n",
      "\n",
      "Epoch 00057: val_loss did not improve from 0.91094\n",
      "Epoch 58/100\n",
      "219/219 [==============================] - 1s 2ms/step - loss: 1.1232 - accuracy: 0.6243 - val_loss: 0.9267 - val_accuracy: 0.7041\n",
      "\n",
      "Epoch 00058: val_loss did not improve from 0.91094\n",
      "Epoch 59/100\n",
      "219/219 [==============================] - 1s 2ms/step - loss: 1.0918 - accuracy: 0.6366 - val_loss: 0.9110 - val_accuracy: 0.7098\n",
      "\n",
      "Epoch 00059: val_loss did not improve from 0.91094\n",
      "Epoch 60/100\n",
      "219/219 [==============================] - 1s 3ms/step - loss: 1.1128 - accuracy: 0.6230 - val_loss: 0.9239 - val_accuracy: 0.7012\n",
      "\n",
      "Epoch 00060: val_loss did not improve from 0.91094\n",
      "Epoch 61/100\n",
      "219/219 [==============================] - 1s 3ms/step - loss: 1.0743 - accuracy: 0.6389 - val_loss: 0.9078 - val_accuracy: 0.7029\n",
      "\n",
      "Epoch 00061: val_loss improved from 0.91094 to 0.90778, saving model to saved_models\\audio_classification.hdf5\n",
      "Epoch 62/100\n",
      "219/219 [==============================] - 1s 3ms/step - loss: 1.0830 - accuracy: 0.6332 - val_loss: 0.9021 - val_accuracy: 0.7098\n",
      "\n",
      "Epoch 00062: val_loss improved from 0.90778 to 0.90214, saving model to saved_models\\audio_classification.hdf5\n",
      "Epoch 63/100\n",
      "219/219 [==============================] - 1s 2ms/step - loss: 1.0704 - accuracy: 0.6415 - val_loss: 0.9058 - val_accuracy: 0.7155\n",
      "\n",
      "Epoch 00063: val_loss did not improve from 0.90214\n",
      "Epoch 64/100\n",
      "219/219 [==============================] - 1s 3ms/step - loss: 1.0831 - accuracy: 0.6391 - val_loss: 0.9134 - val_accuracy: 0.6995\n",
      "\n",
      "Epoch 00064: val_loss did not improve from 0.90214\n",
      "Epoch 65/100\n",
      "219/219 [==============================] - 1s 3ms/step - loss: 1.0689 - accuracy: 0.6399 - val_loss: 0.8736 - val_accuracy: 0.7184\n",
      "\n",
      "Epoch 00065: val_loss improved from 0.90214 to 0.87362, saving model to saved_models\\audio_classification.hdf5\n",
      "Epoch 66/100\n",
      "219/219 [==============================] - 1s 3ms/step - loss: 1.0672 - accuracy: 0.6392 - val_loss: 0.8847 - val_accuracy: 0.7121\n",
      "\n",
      "Epoch 00066: val_loss did not improve from 0.87362\n",
      "Epoch 67/100\n",
      "219/219 [==============================] - 1s 3ms/step - loss: 1.0663 - accuracy: 0.6366 - val_loss: 0.8906 - val_accuracy: 0.7212\n",
      "\n",
      "Epoch 00067: val_loss did not improve from 0.87362\n",
      "Epoch 68/100\n",
      "219/219 [==============================] - 1s 3ms/step - loss: 1.0662 - accuracy: 0.6407 - val_loss: 0.8586 - val_accuracy: 0.7258\n",
      "\n",
      "Epoch 00068: val_loss improved from 0.87362 to 0.85856, saving model to saved_models\\audio_classification.hdf5\n",
      "Epoch 69/100\n",
      "219/219 [==============================] - 1s 3ms/step - loss: 1.0579 - accuracy: 0.6498 - val_loss: 0.9164 - val_accuracy: 0.7035\n",
      "\n",
      "Epoch 00069: val_loss did not improve from 0.85856\n",
      "Epoch 70/100\n"
     ]
    },
    {
     "name": "stdout",
     "output_type": "stream",
     "text": [
      "219/219 [==============================] - 1s 3ms/step - loss: 1.0498 - accuracy: 0.6419 - val_loss: 0.8827 - val_accuracy: 0.7121\n",
      "\n",
      "Epoch 00070: val_loss did not improve from 0.85856\n",
      "Epoch 71/100\n",
      "219/219 [==============================] - 1s 3ms/step - loss: 1.0235 - accuracy: 0.6494 - val_loss: 0.8572 - val_accuracy: 0.7252\n",
      "\n",
      "Epoch 00071: val_loss improved from 0.85856 to 0.85719, saving model to saved_models\\audio_classification.hdf5\n",
      "Epoch 72/100\n",
      "219/219 [==============================] - 1s 3ms/step - loss: 1.0416 - accuracy: 0.6545 - val_loss: 0.8630 - val_accuracy: 0.7252\n",
      "\n",
      "Epoch 00072: val_loss did not improve from 0.85719\n",
      "Epoch 73/100\n",
      "219/219 [==============================] - 1s 3ms/step - loss: 1.0414 - accuracy: 0.6490 - val_loss: 0.8569 - val_accuracy: 0.7230\n",
      "\n",
      "Epoch 00073: val_loss improved from 0.85719 to 0.85693, saving model to saved_models\\audio_classification.hdf5\n",
      "Epoch 74/100\n",
      "219/219 [==============================] - 1s 3ms/step - loss: 1.0400 - accuracy: 0.6544 - val_loss: 0.8656 - val_accuracy: 0.7161\n",
      "\n",
      "Epoch 00074: val_loss did not improve from 0.85693\n",
      "Epoch 75/100\n",
      "219/219 [==============================] - 1s 3ms/step - loss: 1.0305 - accuracy: 0.6561 - val_loss: 0.8699 - val_accuracy: 0.7201\n",
      "\n",
      "Epoch 00075: val_loss did not improve from 0.85693\n",
      "Epoch 76/100\n",
      "219/219 [==============================] - 1s 3ms/step - loss: 1.0312 - accuracy: 0.6548 - val_loss: 0.8763 - val_accuracy: 0.7167\n",
      "\n",
      "Epoch 00076: val_loss did not improve from 0.85693\n",
      "Epoch 77/100\n",
      "219/219 [==============================] - 1s 3ms/step - loss: 1.0234 - accuracy: 0.6544 - val_loss: 0.8450 - val_accuracy: 0.7355\n",
      "\n",
      "Epoch 00077: val_loss improved from 0.85693 to 0.84499, saving model to saved_models\\audio_classification.hdf5\n",
      "Epoch 78/100\n",
      "219/219 [==============================] - 1s 3ms/step - loss: 1.0136 - accuracy: 0.6588 - val_loss: 0.8344 - val_accuracy: 0.7390\n",
      "\n",
      "Epoch 00078: val_loss improved from 0.84499 to 0.83442, saving model to saved_models\\audio_classification.hdf5\n",
      "Epoch 79/100\n",
      "219/219 [==============================] - 1s 2ms/step - loss: 1.0247 - accuracy: 0.6610 - val_loss: 0.8624 - val_accuracy: 0.7270\n",
      "\n",
      "Epoch 00079: val_loss did not improve from 0.83442\n",
      "Epoch 80/100\n",
      "219/219 [==============================] - 1s 2ms/step - loss: 1.0087 - accuracy: 0.6617 - val_loss: 0.8685 - val_accuracy: 0.7121\n",
      "\n",
      "Epoch 00080: val_loss did not improve from 0.83442\n",
      "Epoch 81/100\n",
      "219/219 [==============================] - 1s 2ms/step - loss: 1.0123 - accuracy: 0.6587 - val_loss: 0.8793 - val_accuracy: 0.7149\n",
      "\n",
      "Epoch 00081: val_loss did not improve from 0.83442\n",
      "Epoch 82/100\n",
      "219/219 [==============================] - 1s 2ms/step - loss: 1.0196 - accuracy: 0.6481 - val_loss: 0.8277 - val_accuracy: 0.7270\n",
      "\n",
      "Epoch 00082: val_loss improved from 0.83442 to 0.82769, saving model to saved_models\\audio_classification.hdf5\n",
      "Epoch 83/100\n",
      "219/219 [==============================] - 1s 2ms/step - loss: 0.9948 - accuracy: 0.6634 - val_loss: 0.8462 - val_accuracy: 0.7258\n",
      "\n",
      "Epoch 00083: val_loss did not improve from 0.82769\n",
      "Epoch 84/100\n",
      "219/219 [==============================] - 1s 2ms/step - loss: 1.0022 - accuracy: 0.6584 - val_loss: 0.8255 - val_accuracy: 0.7430\n",
      "\n",
      "Epoch 00084: val_loss improved from 0.82769 to 0.82554, saving model to saved_models\\audio_classification.hdf5\n",
      "Epoch 85/100\n",
      "219/219 [==============================] - 1s 2ms/step - loss: 1.0029 - accuracy: 0.6647 - val_loss: 0.8629 - val_accuracy: 0.7241\n",
      "\n",
      "Epoch 00085: val_loss did not improve from 0.82554\n",
      "Epoch 86/100\n",
      "219/219 [==============================] - 1s 2ms/step - loss: 1.0084 - accuracy: 0.6571 - val_loss: 0.8241 - val_accuracy: 0.7361\n",
      "\n",
      "Epoch 00086: val_loss improved from 0.82554 to 0.82411, saving model to saved_models\\audio_classification.hdf5\n",
      "Epoch 87/100\n",
      "219/219 [==============================] - 1s 2ms/step - loss: 1.0069 - accuracy: 0.6667 - val_loss: 0.8313 - val_accuracy: 0.7338\n",
      "\n",
      "Epoch 00087: val_loss did not improve from 0.82411\n",
      "Epoch 88/100\n",
      "219/219 [==============================] - 1s 2ms/step - loss: 1.0156 - accuracy: 0.6574 - val_loss: 0.8283 - val_accuracy: 0.7407\n",
      "\n",
      "Epoch 00088: val_loss did not improve from 0.82411\n",
      "Epoch 89/100\n",
      "219/219 [==============================] - 1s 2ms/step - loss: 1.0035 - accuracy: 0.6611 - val_loss: 0.8168 - val_accuracy: 0.7407\n",
      "\n",
      "Epoch 00089: val_loss improved from 0.82411 to 0.81685, saving model to saved_models\\audio_classification.hdf5\n",
      "Epoch 90/100\n",
      "219/219 [==============================] - 1s 2ms/step - loss: 1.0208 - accuracy: 0.6576 - val_loss: 0.8341 - val_accuracy: 0.7310\n",
      "\n",
      "Epoch 00090: val_loss did not improve from 0.81685\n",
      "Epoch 91/100\n",
      "219/219 [==============================] - 1s 2ms/step - loss: 1.0005 - accuracy: 0.6697 - val_loss: 0.8247 - val_accuracy: 0.7333\n",
      "\n",
      "Epoch 00091: val_loss did not improve from 0.81685\n",
      "Epoch 92/100\n",
      "219/219 [==============================] - 1s 2ms/step - loss: 0.9884 - accuracy: 0.6747 - val_loss: 0.8107 - val_accuracy: 0.7504\n",
      "\n",
      "Epoch 00092: val_loss improved from 0.81685 to 0.81065, saving model to saved_models\\audio_classification.hdf5\n",
      "Epoch 93/100\n",
      "219/219 [==============================] - 1s 2ms/step - loss: 0.9927 - accuracy: 0.6634 - val_loss: 0.8222 - val_accuracy: 0.7298\n",
      "\n",
      "Epoch 00093: val_loss did not improve from 0.81065\n",
      "Epoch 94/100\n",
      "219/219 [==============================] - 1s 2ms/step - loss: 0.9817 - accuracy: 0.6693 - val_loss: 0.8322 - val_accuracy: 0.7252\n",
      "\n",
      "Epoch 00094: val_loss did not improve from 0.81065\n",
      "Epoch 95/100\n",
      "219/219 [==============================] - 1s 2ms/step - loss: 1.0053 - accuracy: 0.6653 - val_loss: 0.8111 - val_accuracy: 0.7418\n",
      "\n",
      "Epoch 00095: val_loss did not improve from 0.81065\n",
      "Epoch 96/100\n",
      "219/219 [==============================] - 1s 2ms/step - loss: 0.9856 - accuracy: 0.6696 - val_loss: 0.8349 - val_accuracy: 0.7361\n",
      "\n",
      "Epoch 00096: val_loss did not improve from 0.81065\n",
      "Epoch 97/100\n",
      "219/219 [==============================] - 1s 2ms/step - loss: 0.9994 - accuracy: 0.6663 - val_loss: 0.8069 - val_accuracy: 0.7424\n",
      "\n",
      "Epoch 00097: val_loss improved from 0.81065 to 0.80689, saving model to saved_models\\audio_classification.hdf5\n",
      "Epoch 98/100\n",
      "219/219 [==============================] - 0s 2ms/step - loss: 0.9907 - accuracy: 0.6697 - val_loss: 0.8172 - val_accuracy: 0.7367\n",
      "\n",
      "Epoch 00098: val_loss did not improve from 0.80689\n",
      "Epoch 99/100\n",
      "219/219 [==============================] - 1s 2ms/step - loss: 0.9821 - accuracy: 0.6703 - val_loss: 0.7996 - val_accuracy: 0.7470\n",
      "\n",
      "Epoch 00099: val_loss improved from 0.80689 to 0.79958, saving model to saved_models\\audio_classification.hdf5\n",
      "Epoch 100/100\n",
      "219/219 [==============================] - 1s 2ms/step - loss: 0.9909 - accuracy: 0.6598 - val_loss: 0.7996 - val_accuracy: 0.7550\n",
      "\n",
      "Epoch 00100: val_loss improved from 0.79958 to 0.79957, saving model to saved_models\\audio_classification.hdf5\n",
      "Training completed in time:  0:00:57.356472\n"
     ]
    }
   ],
   "source": [
    "## Trianing my model\n",
    "from tensorflow.keras.callbacks import ModelCheckpoint\n",
    "from datetime import datetime \n",
    "\n",
    "num_epochs = 100\n",
    "num_batch_size = 32\n",
    "\n",
    "checkpointer = ModelCheckpoint(filepath='saved_models/audio_classification.hdf5', \n",
    "                               verbose=1, save_best_only=True)\n",
    "start = datetime.now()\n",
    "\n",
    "model.fit(X_train, y_train, batch_size=num_batch_size, epochs=num_epochs, validation_data=(X_test, y_test), callbacks=[checkpointer], verbose=1)\n",
    "\n",
    "\n",
    "duration = datetime.now() - start\n",
    "print(\"Training completed in time: \", duration)"
   ]
  },
  {
   "cell_type": "code",
   "execution_count": 35,
   "id": "virgin-butter",
   "metadata": {},
   "outputs": [
    {
     "name": "stdout",
     "output_type": "stream",
     "text": [
      "0.7550085783004761\n"
     ]
    }
   ],
   "source": [
    "test_accuracy=model.evaluate(X_test,y_test,verbose=0)\n",
    "print(test_accuracy[1])"
   ]
  },
  {
   "cell_type": "code",
   "execution_count": null,
   "id": "laughing-genesis",
   "metadata": {},
   "outputs": [],
   "source": []
  },
  {
   "cell_type": "code",
   "execution_count": 37,
   "id": "strange-driving",
   "metadata": {},
   "outputs": [
    {
     "data": {
      "text/plain": [
       "array([-466.1843    ,    1.5388278 ,  -34.397358  ,   35.715332  ,\n",
       "        -15.166929  ,  -18.850813  ,   -0.7415805 ,  -15.99989   ,\n",
       "        -21.354332  ,    7.650684  ,  -29.031452  ,  -19.142824  ,\n",
       "         -2.6798913 ,   -8.466883  ,  -14.7660475 ,   -7.004778  ,\n",
       "         -7.103754  ,    8.887754  ,   14.911873  ,   21.47102   ,\n",
       "         21.336624  ,    0.91695195,  -18.795404  ,   -5.0017214 ,\n",
       "         -0.70152664,    2.91399   ,   -6.710599  ,  -16.638536  ,\n",
       "         -9.821647  ,   12.8619585 ,    0.65529794,  -23.953394  ,\n",
       "        -15.200551  ,    9.210791  ,   10.4198    ,   -0.5791612 ,\n",
       "         -1.2440346 ,   17.722294  ,   13.837573  ,   -5.164349  ],\n",
       "      dtype=float32)"
      ]
     },
     "execution_count": 37,
     "metadata": {},
     "output_type": "execute_result"
    }
   ],
   "source": [
    "X_test[1]"
   ]
  },
  {
   "cell_type": "code",
   "execution_count": 40,
   "id": "intensive-conservative",
   "metadata": {},
   "outputs": [
    {
     "data": {
      "text/plain": [
       "array([5, 3, 4, ..., 1, 9, 0], dtype=int64)"
      ]
     },
     "execution_count": 40,
     "metadata": {},
     "output_type": "execute_result"
    }
   ],
   "source": [
    "model.predict_classes(X_test)"
   ]
  },
  {
   "cell_type": "markdown",
   "id": "advanced-booth",
   "metadata": {},
   "source": [
    "### Testing Some Test Audio Data\n",
    "\n",
    "Steps\n",
    "- Preprocess the new audio data\n",
    "- predict the classes\n",
    "- Invere transform your Predicted Label"
   ]
  },
  {
   "cell_type": "code",
   "execution_count": 42,
   "id": "chubby-newsletter",
   "metadata": {
    "scrolled": true
   },
   "outputs": [
    {
     "name": "stdout",
     "output_type": "stream",
     "text": [
      "[-2.2847768e+02  7.5238388e+01  4.7343155e+01  5.1996834e+01\n",
      "  2.7693552e+01  4.3854050e+01  6.5433774e+00  1.9044016e+01\n",
      " -1.3927026e+00  1.3753165e+01 -4.9718547e+00  1.0101815e+01\n",
      " -3.3822734e+00  6.0568795e+00 -2.7916880e+00  4.3424425e+00\n",
      " -9.9330072e+00 -1.2488376e+00 -5.7163463e+00  4.5201951e-01\n",
      " -3.0023450e-01  1.7723334e+00 -4.5670905e+00  1.0600184e+00\n",
      " -5.4100733e+00  2.2344241e-01 -3.0643210e+00 -3.3105681e+00\n",
      " -2.2783313e+00  7.7272040e-01 -4.9528465e+00 -1.6929680e+00\n",
      " -9.8045045e-01 -2.2544191e+00 -8.7030387e-01 -5.9006512e-01\n",
      " -5.8801937e+00 -1.0711617e+00 -2.4973516e+00 -3.0930781e+00]\n",
      "[[-2.2847768e+02  7.5238388e+01  4.7343155e+01  5.1996834e+01\n",
      "   2.7693552e+01  4.3854050e+01  6.5433774e+00  1.9044016e+01\n",
      "  -1.3927026e+00  1.3753165e+01 -4.9718547e+00  1.0101815e+01\n",
      "  -3.3822734e+00  6.0568795e+00 -2.7916880e+00  4.3424425e+00\n",
      "  -9.9330072e+00 -1.2488376e+00 -5.7163463e+00  4.5201951e-01\n",
      "  -3.0023450e-01  1.7723334e+00 -4.5670905e+00  1.0600184e+00\n",
      "  -5.4100733e+00  2.2344241e-01 -3.0643210e+00 -3.3105681e+00\n",
      "  -2.2783313e+00  7.7272040e-01 -4.9528465e+00 -1.6929680e+00\n",
      "  -9.8045045e-01 -2.2544191e+00 -8.7030387e-01 -5.9006512e-01\n",
      "  -5.8801937e+00 -1.0711617e+00 -2.4973516e+00 -3.0930781e+00]]\n",
      "(1, 40)\n",
      "[5]\n"
     ]
    },
    {
     "data": {
      "text/plain": [
       "array(['engine_idling'], dtype='<U16')"
      ]
     },
     "execution_count": 42,
     "metadata": {},
     "output_type": "execute_result"
    }
   ],
   "source": [
    "filename=\"D:\\\\dataset\\\\train_curated\\\\00c17dd2.wav\"\n",
    "audio, sample_rate = librosa.load(filename, res_type='kaiser_fast') \n",
    "mfccs_features = librosa.feature.mfcc(y=audio, sr=sample_rate, n_mfcc=40)\n",
    "mfccs_scaled_features = np.mean(mfccs_features.T,axis=0)\n",
    "\n",
    "print(mfccs_scaled_features)\n",
    "mfccs_scaled_features=mfccs_scaled_features.reshape(1,-1)\n",
    "print(mfccs_scaled_features)\n",
    "print(mfccs_scaled_features.shape)\n",
    "predicted_label=model.predict_classes(mfccs_scaled_features)\n",
    "print(predicted_label)\n",
    "prediction_class = labelencoder.inverse_transform(predicted_label) \n",
    "prediction_class"
   ]
  },
  {
   "cell_type": "code",
   "execution_count": null,
   "id": "inclusive-theorem",
   "metadata": {},
   "outputs": [],
   "source": []
  }
 ],
 "metadata": {
  "kernelspec": {
   "display_name": "Python 3",
   "language": "python",
   "name": "python3"
  },
  "language_info": {
   "codemirror_mode": {
    "name": "ipython",
    "version": 3
   },
   "file_extension": ".py",
   "mimetype": "text/x-python",
   "name": "python",
   "nbconvert_exporter": "python",
   "pygments_lexer": "ipython3",
   "version": "3.8.8"
  }
 },
 "nbformat": 4,
 "nbformat_minor": 5
}
