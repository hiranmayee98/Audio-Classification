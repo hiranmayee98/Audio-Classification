{
 "cells": [
  {
   "cell_type": "code",
   "execution_count": 111,
   "id": "07b89b56",
   "metadata": {},
   "outputs": [],
   "source": [
    "\n",
    "import pandas as pd\n",
    "import numpy as np\n",
    "\n",
    "pd.plotting.register_matplotlib_converters()\n",
    "import matplotlib.pyplot as plt\n",
    "%matplotlib inline\n",
    "import seaborn as sns\n",
    "\n",
    "from sklearn.model_selection import train_test_split\n",
    "from sklearn.metrics import classification_report\n",
    "from sklearn.model_selection import GridSearchCV\n",
    "\n",
    "from sklearn.preprocessing import MinMaxScaler"
   ]
  },
  {
   "cell_type": "code",
   "execution_count": 112,
   "id": "9d4cb7a9",
   "metadata": {},
   "outputs": [],
   "source": [
    "from tensorflow.keras.models import Sequential\n",
    "from tensorflow.keras.layers import Conv2D, Flatten, Dense, MaxPool2D, Dropout\n",
    "from tensorflow.keras.utils import to_categorical \n",
    "\n",
    "from sklearn.svm import SVC"
   ]
  },
  {
   "cell_type": "code",
   "execution_count": 113,
   "id": "0e445472",
   "metadata": {},
   "outputs": [],
   "source": [
    "import os\n",
    "import librosa\n",
    "import librosa.display\n",
    "import glob \n",
    "import skimage"
   ]
  },
  {
   "cell_type": "code",
   "execution_count": 114,
   "id": "0a548181",
   "metadata": {},
   "outputs": [
    {
     "data": {
      "text/html": [
       "<div>\n",
       "<style scoped>\n",
       "    .dataframe tbody tr th:only-of-type {\n",
       "        vertical-align: middle;\n",
       "    }\n",
       "\n",
       "    .dataframe tbody tr th {\n",
       "        vertical-align: top;\n",
       "    }\n",
       "\n",
       "    .dataframe thead th {\n",
       "        text-align: right;\n",
       "    }\n",
       "</style>\n",
       "<table border=\"1\" class=\"dataframe\">\n",
       "  <thead>\n",
       "    <tr style=\"text-align: right;\">\n",
       "      <th></th>\n",
       "      <th>slice_file_name</th>\n",
       "      <th>fsID</th>\n",
       "      <th>start</th>\n",
       "      <th>end</th>\n",
       "      <th>salience</th>\n",
       "      <th>fold</th>\n",
       "      <th>classID</th>\n",
       "      <th>class</th>\n",
       "    </tr>\n",
       "  </thead>\n",
       "  <tbody>\n",
       "    <tr>\n",
       "      <th>0</th>\n",
       "      <td>100032-3-0-0.wav</td>\n",
       "      <td>100032</td>\n",
       "      <td>0.0</td>\n",
       "      <td>0.317551</td>\n",
       "      <td>1</td>\n",
       "      <td>5</td>\n",
       "      <td>3</td>\n",
       "      <td>dog_bark</td>\n",
       "    </tr>\n",
       "    <tr>\n",
       "      <th>1</th>\n",
       "      <td>100263-2-0-117.wav</td>\n",
       "      <td>100263</td>\n",
       "      <td>58.5</td>\n",
       "      <td>62.500000</td>\n",
       "      <td>1</td>\n",
       "      <td>5</td>\n",
       "      <td>2</td>\n",
       "      <td>children_playing</td>\n",
       "    </tr>\n",
       "    <tr>\n",
       "      <th>2</th>\n",
       "      <td>100263-2-0-121.wav</td>\n",
       "      <td>100263</td>\n",
       "      <td>60.5</td>\n",
       "      <td>64.500000</td>\n",
       "      <td>1</td>\n",
       "      <td>5</td>\n",
       "      <td>2</td>\n",
       "      <td>children_playing</td>\n",
       "    </tr>\n",
       "    <tr>\n",
       "      <th>3</th>\n",
       "      <td>100263-2-0-126.wav</td>\n",
       "      <td>100263</td>\n",
       "      <td>63.0</td>\n",
       "      <td>67.000000</td>\n",
       "      <td>1</td>\n",
       "      <td>5</td>\n",
       "      <td>2</td>\n",
       "      <td>children_playing</td>\n",
       "    </tr>\n",
       "    <tr>\n",
       "      <th>4</th>\n",
       "      <td>100263-2-0-137.wav</td>\n",
       "      <td>100263</td>\n",
       "      <td>68.5</td>\n",
       "      <td>72.500000</td>\n",
       "      <td>1</td>\n",
       "      <td>5</td>\n",
       "      <td>2</td>\n",
       "      <td>children_playing</td>\n",
       "    </tr>\n",
       "  </tbody>\n",
       "</table>\n",
       "</div>"
      ],
      "text/plain": [
       "      slice_file_name    fsID  start        end  salience  fold  classID  \\\n",
       "0    100032-3-0-0.wav  100032    0.0   0.317551         1     5        3   \n",
       "1  100263-2-0-117.wav  100263   58.5  62.500000         1     5        2   \n",
       "2  100263-2-0-121.wav  100263   60.5  64.500000         1     5        2   \n",
       "3  100263-2-0-126.wav  100263   63.0  67.000000         1     5        2   \n",
       "4  100263-2-0-137.wav  100263   68.5  72.500000         1     5        2   \n",
       "\n",
       "              class  \n",
       "0          dog_bark  \n",
       "1  children_playing  \n",
       "2  children_playing  \n",
       "3  children_playing  \n",
       "4  children_playing  "
      ]
     },
     "execution_count": 114,
     "metadata": {},
     "output_type": "execute_result"
    }
   ],
   "source": [
    "df = pd.read_csv(\"D:\\\\dataset\\\\UrbanSound8K\\\\metadata\\\\UrbanSound8K.csv\")\n",
    "\n",
    "'''We will extract classes from this metadata.'''\n",
    "\n",
    "df.head()"
   ]
  },
  {
   "cell_type": "code",
   "execution_count": 115,
   "id": "ec780860",
   "metadata": {},
   "outputs": [],
   "source": [
    "dat1, sampling_rate1 = librosa.load('D:\\\\dataset\\\\UrbanSound8K\\\\audio\\\\fold5\\\\100032-3-0-0.wav')\n",
    "dat2, sampling_rate2 = librosa.load('D:\\\\dataset\\\\UrbanSound8K\\\\audio\\\\fold5\\\\100263-2-0-117.wav')"
   ]
  },
  {
   "cell_type": "code",
   "execution_count": 116,
   "id": "6537d6d0",
   "metadata": {},
   "outputs": [
    {
     "data": {
      "text/plain": [
       "Text(0.5, 1.0, 'Linear-frequency power spectrogram')"
      ]
     },
     "execution_count": 116,
     "metadata": {},
     "output_type": "execute_result"
    },
    {
     "data": {
      "image/png": "[encoded data removed]",
      "text/plain": [
       "<Figure size 1440x720 with 2 Axes>"
      ]
     },
     "metadata": {
      "needs_background": "light"
     },
     "output_type": "display_data"
    }
   ],
   "source": [
    "plt.figure(figsize=(20, 10))\n",
    "D = librosa.amplitude_to_db(np.abs(librosa.stft(dat1)), ref=np.max)\n",
    "plt.subplot(4, 2, 1)\n",
    "librosa.display.specshow(D, y_axis='linear')\n",
    "plt.colorbar(format='%+2.0f dB')\n",
    "plt.title('Linear-frequency power spectrogram')"
   ]
  },
  {
   "cell_type": "code",
   "execution_count": 117,
   "id": "bc5ea0e5",
   "metadata": {},
   "outputs": [
    {
     "data": {
      "text/plain": [
       "Text(0.5, 1.0, 'Linear-frequency power spectrogram')"
      ]
     },
     "execution_count": 117,
     "metadata": {},
     "output_type": "execute_result"
    },
    {
     "data": {
      "image/png": "[encoded data removed]",
      "text/plain": [
       "<Figure size 1440x720 with 2 Axes>"
      ]
     },
     "metadata": {
      "needs_background": "light"
     },
     "output_type": "display_data"
    }
   ],
   "source": [
    "plt.figure(figsize=(20, 10))\n",
    "D = librosa.amplitude_to_db(np.abs(librosa.stft(dat2)), ref=np.max)\n",
    "plt.subplot(4, 2, 1)\n",
    "librosa.display.specshow(D, y_axis='linear')\n",
    "plt.colorbar(format='%+2.0f dB')\n",
    "plt.title('Linear-frequency power spectrogram')"
   ]
  },
  {
   "cell_type": "code",
   "execution_count": 118,
   "id": "2b10abd9",
   "metadata": {},
   "outputs": [
    {
     "data": {
      "image/png": "[encoded data removed]",
      "text/plain": [
       "<Figure size 720x360 with 2 Axes>"
      ]
     },
     "metadata": {
      "needs_background": "light"
     },
     "output_type": "display_data"
    },
    {
     "data": {
      "image/png": "[encoded data removed]",
      "text/plain": [
       "<Figure size 720x360 with 2 Axes>"
      ]
     },
     "metadata": {
      "needs_background": "light"
     },
     "output_type": "display_data"
    },
    {
     "data": {
      "image/png": "[encoded data removed]",
      "text/plain": [
       "<Figure size 720x360 with 2 Axes>"
      ]
     },
     "metadata": {
      "needs_background": "light"
     },
     "output_type": "display_data"
    }
   ],
   "source": [
    "arr = np.array(df[\"slice_file_name\"])\n",
    "fold = np.array(df[\"fold\"])\n",
    "cla = np.array(df[\"class\"])\n",
    "\n",
    "for i in range(192, 197, 2):\n",
    "    path = 'D:\\\\dataset\\\\UrbanSound8K\\\\audio\\\\fold' + str(fold[i]) + '\\\\' + arr[i]\n",
    "    data, sampling_rate = librosa.load(path)\n",
    "    plt.figure(figsize=(10, 5))\n",
    "    D = librosa.amplitude_to_db(np.abs(librosa.stft(data)), ref=np.max)\n",
    "    plt.subplot(4, 2, 1)\n",
    "    librosa.display.specshow(D, y_axis='linear')\n",
    "    plt.colorbar(format='%+2.0f dB')\n",
    "    plt.title(cla[i])"
   ]
  },
  {
   "cell_type": "code",
   "execution_count": 119,
   "id": "1de4d7b5",
   "metadata": {},
   "outputs": [
    {
     "data": {
      "text/plain": [
       "(128, 14)"
      ]
     },
     "execution_count": 119,
     "metadata": {},
     "output_type": "execute_result"
    }
   ],
   "source": [
    "dat1, sampling_rate1 = librosa.load('D:\\\\dataset\\\\UrbanSound8K\\\\audio\\\\fold5\\\\100032-3-0-0.wav')\n",
    "arr = librosa.feature.melspectrogram(y=dat1, sr=sampling_rate1)\n",
    "arr.shape"
   ]
  },
  {
   "cell_type": "code",
   "execution_count": 120,
   "id": "db4a26cb",
   "metadata": {},
   "outputs": [],
   "source": [
    "feature = []\n",
    "label = []\n",
    "\n",
    "def parser(row):\n",
    "    # Function to load files and extract features\n",
    "    for i in range(8732):\n",
    "        file_name = 'D:\\\\dataset\\\\UrbanSound8K\\\\audio\\\\fold' + str(df[\"fold\"][i]) + '\\\\' + df[\"slice_file_name\"][i]\n",
    "        # Here kaiser_fast is a technique used for faster extraction\n",
    "        X, sample_rate = librosa.load(file_name, res_type='kaiser_fast') \n",
    "        # We extract mfcc feature from data\n",
    "        mels = np.mean(librosa.feature.melspectrogram(y=X, sr=sample_rate).T,axis=0)        \n",
    "        feature.append(mels)\n",
    "        label.append(df[\"classID\"][i])\n",
    "    return [feature, label]"
   ]
  },
  {
   "cell_type": "code",
   "execution_count": 121,
   "id": "e573bca4",
   "metadata": {},
   "outputs": [
    {
     "data": {
      "text/plain": [
       "[]"
      ]
     },
     "execution_count": 121,
     "metadata": {},
     "output_type": "execute_result"
    }
   ],
   "source": [
    "feature"
   ]
  },
  {
   "cell_type": "code",
   "execution_count": null,
   "id": "e4fb10c5",
   "metadata": {},
   "outputs": [],
   "source": []
  },
  {
   "cell_type": "code",
   "execution_count": 122,
   "id": "8a277af0",
   "metadata": {},
   "outputs": [
    {
     "name": "stderr",
     "output_type": "stream",
     "text": [
      "D:\\Ana\\lib\\site-packages\\librosa\\core\\spectrum.py:222: UserWarning: n_fft=2048 is too small for input signal of length=1323\n",
      "  warnings.warn(\n",
      "D:\\Ana\\lib\\site-packages\\librosa\\core\\spectrum.py:222: UserWarning: n_fft=2048 is too small for input signal of length=1103\n",
      "  warnings.warn(\n",
      "D:\\Ana\\lib\\site-packages\\librosa\\core\\spectrum.py:222: UserWarning: n_fft=2048 is too small for input signal of length=1523\n",
      "  warnings.warn(\n"
     ]
    }
   ],
   "source": [
    "temp = parser(df)"
   ]
  },
  {
   "cell_type": "code",
   "execution_count": null,
   "id": "70857ea2",
   "metadata": {},
   "outputs": [],
   "source": []
  },
  {
   "cell_type": "code",
   "execution_count": 123,
   "id": "1176a259",
   "metadata": {},
   "outputs": [
    {
     "data": {
      "text/plain": [
       "array([ 0.        ,  0.        ,  0.        , ..., -0.13903877,\n",
       "       -0.15396479, -0.12887858], dtype=float32)"
      ]
     },
     "execution_count": 123,
     "metadata": {},
     "output_type": "execute_result"
    }
   ],
   "source": [
    "data"
   ]
  },
  {
   "cell_type": "code",
   "execution_count": 124,
   "id": "16e76488",
   "metadata": {},
   "outputs": [
    {
     "name": "stderr",
     "output_type": "stream",
     "text": [
      "<ipython-input-124-16088c198d1d>:1: VisibleDeprecationWarning: Creating an ndarray from ragged nested sequences (which is a list-or-tuple of lists-or-tuples-or ndarrays with different lengths or shapes) is deprecated. If you meant to do this, you must specify 'dtype=object' when creating the ndarray\n",
      "  temp = np.array(temp)\n"
     ]
    }
   ],
   "source": [
    "temp = np.array(temp)\n",
    "data = temp.transpose()"
   ]
  },
  {
   "cell_type": "code",
   "execution_count": 125,
   "id": "6fa49b89",
   "metadata": {},
   "outputs": [
    {
     "data": {
      "text/plain": [
       "array([0.01356488, 0.02534647, 0.02361279, ..., 0.00716996, 0.00383315,\n",
       "       0.        ], dtype=float32)"
      ]
     },
     "execution_count": 125,
     "metadata": {},
     "output_type": "execute_result"
    }
   ],
   "source": [
    "X"
   ]
  },
  {
   "cell_type": "code",
   "execution_count": 126,
   "id": "008c38ec",
   "metadata": {},
   "outputs": [
    {
     "name": "stdout",
     "output_type": "stream",
     "text": [
      "(8732,) (8732,)\n"
     ]
    }
   ],
   "source": [
    "X_ = data[:, 0]\n",
    "Y = data[:, 1]\n",
    "print(X_.shape, Y.shape)\n",
    "X = np.empty([8732, 128])"
   ]
  },
  {
   "cell_type": "code",
   "execution_count": 127,
   "id": "68b1bb1d",
   "metadata": {},
   "outputs": [
    {
     "data": {
      "text/plain": [
       "array([3, 2, 2, ..., 1, 1, 1], dtype=object)"
      ]
     },
     "execution_count": 127,
     "metadata": {},
     "output_type": "execute_result"
    }
   ],
   "source": [
    "Y"
   ]
  },
  {
   "cell_type": "code",
   "execution_count": 128,
   "id": "dd0eaacf",
   "metadata": {},
   "outputs": [
    {
     "data": {
      "text/plain": [
       "(8732,)"
      ]
     },
     "execution_count": 128,
     "metadata": {},
     "output_type": "execute_result"
    }
   ],
   "source": [
    "Y.shape"
   ]
  },
  {
   "cell_type": "code",
   "execution_count": 129,
   "id": "370ff8fb",
   "metadata": {},
   "outputs": [
    {
     "data": {
      "text/plain": [
       "(8732, 128)"
      ]
     },
     "execution_count": 129,
     "metadata": {},
     "output_type": "execute_result"
    }
   ],
   "source": [
    "X.shape"
   ]
  },
  {
   "cell_type": "code",
   "execution_count": 130,
   "id": "81af87fc",
   "metadata": {},
   "outputs": [],
   "source": [
    "for i in range(8732):\n",
    "    X[i] = (X_[i])"
   ]
  },
  {
   "cell_type": "code",
   "execution_count": 131,
   "id": "39cb88c2",
   "metadata": {},
   "outputs": [
    {
     "data": {
      "text/plain": [
       "array([[2.69797547e-05, 2.21967508e-04, 2.99852749e-04, ...,\n",
       "        2.13047184e-04, 8.36914296e-06, 6.56874647e-07],\n",
       "       [4.97026183e-02, 4.95300293e-02, 3.71738970e-02, ...,\n",
       "        3.52364751e-08, 1.27020767e-08, 6.44720410e-09],\n",
       "       [3.08508892e-02, 2.80217305e-02, 3.64455692e-02, ...,\n",
       "        1.57836286e-08, 4.88009277e-09, 2.65019717e-09],\n",
       "       ...,\n",
       "       [1.63492076e-02, 6.28008023e-02, 6.23560697e-02, ...,\n",
       "        4.95597305e-06, 7.77829257e-07, 1.89893413e-07],\n",
       "       [2.41814945e-02, 7.76272714e-02, 6.35417327e-02, ...,\n",
       "        1.77421171e-07, 4.56534117e-08, 1.88543190e-08],\n",
       "       [3.62176672e-02, 5.45288920e-02, 9.47519615e-02, ...,\n",
       "        1.16510398e-06, 3.44087340e-07, 1.89945368e-07]])"
      ]
     },
     "execution_count": 131,
     "metadata": {},
     "output_type": "execute_result"
    }
   ],
   "source": [
    "X"
   ]
  },
  {
   "cell_type": "code",
   "execution_count": 132,
   "id": "1f514a53",
   "metadata": {},
   "outputs": [],
   "source": [
    "Y = to_categorical(Y) #reversefunction "
   ]
  },
  {
   "cell_type": "code",
   "execution_count": 133,
   "id": "1cd29995",
   "metadata": {},
   "outputs": [
    {
     "name": "stdout",
     "output_type": "stream",
     "text": [
      "(8732, 128)\n",
      "(8732, 10)\n"
     ]
    }
   ],
   "source": [
    "print(X.shape)\n",
    "print(Y.shape)"
   ]
  },
  {
   "cell_type": "code",
   "execution_count": 134,
   "id": "15e7b9b6",
   "metadata": {},
   "outputs": [],
   "source": [
    "X_train, X_test, Y_train, Y_test = train_test_split(X, Y, random_state = 1)"
   ]
  },
  {
   "cell_type": "code",
   "execution_count": null,
   "id": "93422d9b",
   "metadata": {},
   "outputs": [],
   "source": []
  },
  {
   "cell_type": "code",
   "execution_count": 135,
   "id": "dd360288",
   "metadata": {},
   "outputs": [
    {
     "data": {
      "text/plain": [
       "(6549, 128)"
      ]
     },
     "execution_count": 135,
     "metadata": {},
     "output_type": "execute_result"
    }
   ],
   "source": [
    "X_train.shape"
   ]
  },
  {
   "cell_type": "code",
   "execution_count": 136,
   "id": "47932b06",
   "metadata": {},
   "outputs": [
    {
     "data": {
      "text/plain": [
       "(2183, 128)"
      ]
     },
     "execution_count": 136,
     "metadata": {},
     "output_type": "execute_result"
    }
   ],
   "source": [
    "X_test.shape"
   ]
  },
  {
   "cell_type": "code",
   "execution_count": 159,
   "id": "8c7a1144",
   "metadata": {},
   "outputs": [],
   "source": [
    "#X_train = X_train.reshape(6549,16,8,1)\n",
    "#X_test = X_test.reshape(2183, 16, 8, 1)\n",
    "\n",
    "X_train = X_train.reshape(X_train.shape[0],32,4,1) #samplesize\n",
    "X_test = X_test.reshape(X_test.shape[0],32,4,1)"
   ]
  },
  {
   "cell_type": "code",
   "execution_count": 160,
   "id": "9dc74a11",
   "metadata": {},
   "outputs": [
    {
     "data": {
      "text/plain": [
       "array([[[1.27187377e-05],\n",
       "        [2.54834886e-04],\n",
       "        [1.54628383e-03],\n",
       "        [3.00249481e-03]],\n",
       "\n",
       "       [[2.54429714e-03],\n",
       "        [1.68291549e-03],\n",
       "        [1.53539435e-03],\n",
       "        [2.87744752e-03]],\n",
       "\n",
       "       [[3.39966011e-03],\n",
       "        [3.31097189e-03],\n",
       "        [2.41633086e-03],\n",
       "        [2.51584291e-03]],\n",
       "\n",
       "       [[2.02747621e-03],\n",
       "        [1.27027452e-03],\n",
       "        [1.21222949e-03],\n",
       "        [1.35796901e-03]],\n",
       "\n",
       "       [[1.66429428e-03],\n",
       "        [1.07732322e-03],\n",
       "        [1.13056903e-03],\n",
       "        [1.35794631e-03]],\n",
       "\n",
       "       [[1.15517387e-03],\n",
       "        [1.30047731e-03],\n",
       "        [2.06162361e-03],\n",
       "        [2.05150573e-03]],\n",
       "\n",
       "       [[1.62134762e-03],\n",
       "        [1.53297931e-03],\n",
       "        [1.25641341e-03],\n",
       "        [1.07902789e-03]],\n",
       "\n",
       "       [[1.08996360e-03],\n",
       "        [9.64637613e-04],\n",
       "        [1.06119970e-03],\n",
       "        [1.20971748e-03]],\n",
       "\n",
       "       [[1.35797227e-03],\n",
       "        [1.31623540e-03],\n",
       "        [1.02430349e-03],\n",
       "        [1.33664499e-03]],\n",
       "\n",
       "       [[1.51092431e-03],\n",
       "        [7.81255309e-04],\n",
       "        [1.00388913e-03],\n",
       "        [1.79405021e-03]],\n",
       "\n",
       "       [[1.39429152e-03],\n",
       "        [9.04394547e-04],\n",
       "        [7.25050340e-04],\n",
       "        [5.64722810e-04]],\n",
       "\n",
       "       [[4.83092968e-04],\n",
       "        [4.20772965e-04],\n",
       "        [3.92035610e-04],\n",
       "        [4.97279456e-04]],\n",
       "\n",
       "       [[5.96765836e-04],\n",
       "        [4.23682039e-04],\n",
       "        [3.04575311e-04],\n",
       "        [3.64921463e-04]],\n",
       "\n",
       "       [[2.87399889e-04],\n",
       "        [1.72331784e-04],\n",
       "        [1.22881989e-04],\n",
       "        [9.67470914e-05]],\n",
       "\n",
       "       [[9.16956487e-05],\n",
       "        [8.29689452e-05],\n",
       "        [7.04164850e-05],\n",
       "        [5.30410180e-05]],\n",
       "\n",
       "       [[4.61924683e-05],\n",
       "        [4.66497804e-05],\n",
       "        [5.21046240e-05],\n",
       "        [4.24586251e-05]],\n",
       "\n",
       "       [[4.86001154e-05],\n",
       "        [3.23205713e-05],\n",
       "        [2.80291624e-05],\n",
       "        [2.38229677e-05]],\n",
       "\n",
       "       [[2.04010012e-05],\n",
       "        [2.23248171e-05],\n",
       "        [2.02682550e-05],\n",
       "        [1.72808996e-05]],\n",
       "\n",
       "       [[1.54803929e-05],\n",
       "        [1.40821185e-05],\n",
       "        [1.61006137e-05],\n",
       "        [2.20608490e-05]],\n",
       "\n",
       "       [[2.94311885e-05],\n",
       "        [3.87101391e-05],\n",
       "        [6.31334333e-05],\n",
       "        [9.94828151e-05]],\n",
       "\n",
       "       [[5.57889725e-05],\n",
       "        [3.32964482e-05],\n",
       "        [2.30780843e-05],\n",
       "        [2.60629095e-05]],\n",
       "\n",
       "       [[1.22078243e-04],\n",
       "        [1.58672716e-04],\n",
       "        [6.84691404e-05],\n",
       "        [5.63289104e-05]],\n",
       "\n",
       "       [[1.68513743e-05],\n",
       "        [1.52238890e-05],\n",
       "        [1.17875106e-05],\n",
       "        [8.93663673e-06]],\n",
       "\n",
       "       [[8.68723055e-06],\n",
       "        [7.73857664e-06],\n",
       "        [7.21544393e-06],\n",
       "        [6.17241449e-06]],\n",
       "\n",
       "       [[5.50145978e-06],\n",
       "        [5.23273548e-06],\n",
       "        [4.58880868e-06],\n",
       "        [4.54645624e-06]],\n",
       "\n",
       "       [[4.25825147e-06],\n",
       "        [4.51300730e-06],\n",
       "        [4.90744969e-06],\n",
       "        [4.35942593e-06]],\n",
       "\n",
       "       [[3.94906328e-06],\n",
       "        [5.53824339e-06],\n",
       "        [6.03590570e-06],\n",
       "        [5.57063868e-06]],\n",
       "\n",
       "       [[5.41399186e-06],\n",
       "        [5.38763425e-06],\n",
       "        [5.23015251e-06],\n",
       "        [3.57617478e-06]],\n",
       "\n",
       "       [[3.40172369e-06],\n",
       "        [2.37620748e-06],\n",
       "        [1.98673411e-06],\n",
       "        [2.01139460e-06]],\n",
       "\n",
       "       [[2.03723152e-06],\n",
       "        [2.30175669e-06],\n",
       "        [1.71037982e-06],\n",
       "        [1.26027771e-06]],\n",
       "\n",
       "       [[9.71789859e-07],\n",
       "        [6.99078271e-07],\n",
       "        [3.90602253e-07],\n",
       "        [1.85654343e-07]],\n",
       "\n",
       "       [[5.98169976e-08],\n",
       "        [1.44059520e-08],\n",
       "        [2.77772694e-09],\n",
       "        [4.49839721e-10]]])"
      ]
     },
     "execution_count": 160,
     "metadata": {},
     "output_type": "execute_result"
    }
   ],
   "source": [
    "X_test[1]"
   ]
  },
  {
   "cell_type": "code",
   "execution_count": 167,
   "id": "d616ea5e",
   "metadata": {},
   "outputs": [],
   "source": [
    "#input_dim = (16,8, 1)\n",
    "input_dim=(32,4,1)\n"
   ]
  },
  {
   "cell_type": "code",
   "execution_count": 168,
   "id": "9765524b",
   "metadata": {},
   "outputs": [],
   "source": [
    "model = Sequential()"
   ]
  },
  {
   "cell_type": "code",
   "execution_count": 169,
   "id": "07bb7fad",
   "metadata": {},
   "outputs": [],
   "source": [
    "\n",
    "\n",
    "\n",
    "model.add(Conv2D(64, (1, 1), padding = \"same\", activation = \"tanh\", input_shape = input_dim))\n",
    "model.add(MaxPool2D(pool_size=(2, 2)))\n",
    "model.add(Dropout(0.1))\n",
    "\n",
    "model.add(Conv2D(128, (1, 1), padding = \"same\", activation = \"tanh\"))\n",
    "model.add(MaxPool2D(pool_size=(2, 2)))\n",
    "model.add(Dropout(0.1))\n",
    "\n",
    "\n",
    "\n",
    "\n",
    "model.add(Flatten())\n",
    "\n",
    "#lstm layers\n",
    "#2 layers\n",
    "\n",
    "model.add(Dense(1024, activation = \"tanh\"))\n",
    "model.add(Dense(10, activation = \"softmax\"))"
   ]
  },
  {
   "cell_type": "code",
   "execution_count": 170,
   "id": "b7b47710",
   "metadata": {},
   "outputs": [],
   "source": [
    "model.compile(optimizer = 'adam', loss = 'categorical_crossentropy', metrics = ['accuracy'])"
   ]
  },
  {
   "cell_type": "code",
   "execution_count": 171,
   "id": "cf3a4329",
   "metadata": {},
   "outputs": [
    {
     "name": "stdout",
     "output_type": "stream",
     "text": [
      "Epoch 1/50\n",
      "131/131 [==============================] - 5s 36ms/step - loss: 1.6931 - accuracy: 0.4045 - val_loss: 1.6541 - val_accuracy: 0.4379\n",
      "Epoch 2/50\n",
      "131/131 [==============================] - 3s 26ms/step - loss: 1.5142 - accuracy: 0.4677 - val_loss: 1.6666 - val_accuracy: 0.4288\n",
      "Epoch 3/50\n",
      "131/131 [==============================] - 4s 28ms/step - loss: 1.4649 - accuracy: 0.4863 - val_loss: 1.4980 - val_accuracy: 0.4782\n",
      "Epoch 4/50\n",
      "131/131 [==============================] - 4s 27ms/step - loss: 1.4323 - accuracy: 0.4932 - val_loss: 1.5246 - val_accuracy: 0.4787\n",
      "Epoch 5/50\n",
      "131/131 [==============================] - 4s 27ms/step - loss: 1.3830 - accuracy: 0.5098 - val_loss: 1.4427 - val_accuracy: 0.4947\n",
      "Epoch 6/50\n",
      "131/131 [==============================] - 4s 27ms/step - loss: 1.3413 - accuracy: 0.5254 - val_loss: 1.4083 - val_accuracy: 0.5286\n",
      "Epoch 7/50\n",
      "131/131 [==============================] - 4s 30ms/step - loss: 1.3152 - accuracy: 0.5353 - val_loss: 1.3845 - val_accuracy: 0.5222\n",
      "Epoch 8/50\n",
      "131/131 [==============================] - 4s 27ms/step - loss: 1.2820 - accuracy: 0.5512 - val_loss: 1.2763 - val_accuracy: 0.5607\n",
      "Epoch 9/50\n",
      "131/131 [==============================] - 3s 27ms/step - loss: 1.2469 - accuracy: 0.5561 - val_loss: 1.3115 - val_accuracy: 0.5346\n",
      "Epoch 10/50\n",
      "131/131 [==============================] - 3s 27ms/step - loss: 1.2087 - accuracy: 0.5755 - val_loss: 1.2427 - val_accuracy: 0.5529\n",
      "Epoch 11/50\n",
      "131/131 [==============================] - 3s 26ms/step - loss: 1.1678 - accuracy: 0.5903 - val_loss: 1.2011 - val_accuracy: 0.5799\n",
      "Epoch 12/50\n",
      "131/131 [==============================] - 3s 27ms/step - loss: 1.1279 - accuracy: 0.6106 - val_loss: 1.1672 - val_accuracy: 0.5932\n",
      "Epoch 13/50\n",
      "131/131 [==============================] - 4s 27ms/step - loss: 1.0944 - accuracy: 0.6196 - val_loss: 1.1175 - val_accuracy: 0.6363\n",
      "Epoch 14/50\n",
      "131/131 [==============================] - 3s 26ms/step - loss: 1.0476 - accuracy: 0.6401 - val_loss: 1.1417 - val_accuracy: 0.5905\n",
      "Epoch 15/50\n",
      "131/131 [==============================] - 3s 25ms/step - loss: 1.0081 - accuracy: 0.6554 - val_loss: 1.0614 - val_accuracy: 0.6583\n",
      "Epoch 16/50\n",
      "131/131 [==============================] - 4s 28ms/step - loss: 0.9657 - accuracy: 0.6745 - val_loss: 1.0143 - val_accuracy: 0.6633\n",
      "Epoch 17/50\n",
      "131/131 [==============================] - 4s 27ms/step - loss: 0.9368 - accuracy: 0.6793 - val_loss: 0.9743 - val_accuracy: 0.6748\n",
      "Epoch 18/50\n",
      "131/131 [==============================] - 3s 26ms/step - loss: 0.8953 - accuracy: 0.6913 - val_loss: 0.9861 - val_accuracy: 0.6702\n",
      "Epoch 19/50\n",
      "131/131 [==============================] - 4s 27ms/step - loss: 0.8712 - accuracy: 0.7041 - val_loss: 0.9403 - val_accuracy: 0.6844\n",
      "Epoch 20/50\n",
      "131/131 [==============================] - 3s 27ms/step - loss: 0.8352 - accuracy: 0.7143 - val_loss: 0.9592 - val_accuracy: 0.6844\n",
      "Epoch 21/50\n",
      "131/131 [==============================] - 4s 27ms/step - loss: 0.8076 - accuracy: 0.7247 - val_loss: 0.8995 - val_accuracy: 0.7018\n",
      "Epoch 22/50\n",
      "131/131 [==============================] - 4s 27ms/step - loss: 0.7763 - accuracy: 0.7377 - val_loss: 0.8985 - val_accuracy: 0.7105\n",
      "Epoch 23/50\n",
      "131/131 [==============================] - 3s 26ms/step - loss: 0.7466 - accuracy: 0.7441 - val_loss: 0.8517 - val_accuracy: 0.7197\n",
      "Epoch 24/50\n",
      "131/131 [==============================] - 3s 26ms/step - loss: 0.7287 - accuracy: 0.7566 - val_loss: 0.8523 - val_accuracy: 0.7215\n",
      "Epoch 25/50\n",
      "131/131 [==============================] - 3s 26ms/step - loss: 0.6908 - accuracy: 0.7658 - val_loss: 0.8143 - val_accuracy: 0.7302\n",
      "Epoch 26/50\n",
      "131/131 [==============================] - 3s 26ms/step - loss: 0.6602 - accuracy: 0.7801 - val_loss: 0.8276 - val_accuracy: 0.7316\n",
      "Epoch 27/50\n",
      "131/131 [==============================] - 3s 25ms/step - loss: 0.6499 - accuracy: 0.7867 - val_loss: 0.8110 - val_accuracy: 0.7352\n",
      "Epoch 28/50\n",
      "131/131 [==============================] - 3s 26ms/step - loss: 0.6152 - accuracy: 0.7978 - val_loss: 0.7846 - val_accuracy: 0.7439\n",
      "Epoch 29/50\n",
      "131/131 [==============================] - 4s 30ms/step - loss: 0.5929 - accuracy: 0.8035 - val_loss: 0.7626 - val_accuracy: 0.7494\n",
      "Epoch 30/50\n",
      "131/131 [==============================] - 3s 27ms/step - loss: 0.5835 - accuracy: 0.8091 - val_loss: 0.7868 - val_accuracy: 0.7426\n",
      "Epoch 31/50\n",
      "131/131 [==============================] - 3s 27ms/step - loss: 0.5551 - accuracy: 0.8120 - val_loss: 0.7317 - val_accuracy: 0.7586\n",
      "Epoch 32/50\n",
      "131/131 [==============================] - 3s 26ms/step - loss: 0.5404 - accuracy: 0.8189 - val_loss: 0.7390 - val_accuracy: 0.7581\n",
      "Epoch 33/50\n",
      "131/131 [==============================] - 3s 26ms/step - loss: 0.5081 - accuracy: 0.8351 - val_loss: 0.7230 - val_accuracy: 0.7632\n",
      "Epoch 34/50\n",
      "131/131 [==============================] - 3s 25ms/step - loss: 0.4867 - accuracy: 0.8423 - val_loss: 0.7050 - val_accuracy: 0.7778\n",
      "Epoch 35/50\n",
      "131/131 [==============================] - 4s 27ms/step - loss: 0.4807 - accuracy: 0.8427 - val_loss: 0.7298 - val_accuracy: 0.7439\n",
      "Epoch 36/50\n",
      "131/131 [==============================] - 4s 29ms/step - loss: 0.4599 - accuracy: 0.8497 - val_loss: 0.7250 - val_accuracy: 0.7659\n",
      "Epoch 37/50\n",
      "131/131 [==============================] - 4s 28ms/step - loss: 0.4426 - accuracy: 0.8548 - val_loss: 0.6848 - val_accuracy: 0.7769\n",
      "Epoch 38/50\n",
      "131/131 [==============================] - 3s 25ms/step - loss: 0.4325 - accuracy: 0.8601 - val_loss: 0.6918 - val_accuracy: 0.7797\n",
      "Epoch 39/50\n",
      "131/131 [==============================] - 3s 25ms/step - loss: 0.4181 - accuracy: 0.8615 - val_loss: 0.7070 - val_accuracy: 0.7682\n",
      "Epoch 40/50\n",
      "131/131 [==============================] - 3s 25ms/step - loss: 0.4192 - accuracy: 0.8624 - val_loss: 0.6771 - val_accuracy: 0.7787\n",
      "Epoch 41/50\n",
      "131/131 [==============================] - 3s 25ms/step - loss: 0.3853 - accuracy: 0.8733 - val_loss: 0.6916 - val_accuracy: 0.7806\n",
      "Epoch 42/50\n",
      "131/131 [==============================] - 3s 25ms/step - loss: 0.3782 - accuracy: 0.8740 - val_loss: 0.6797 - val_accuracy: 0.7778\n",
      "Epoch 43/50\n",
      "131/131 [==============================] - 3s 26ms/step - loss: 0.3775 - accuracy: 0.8746 - val_loss: 0.6429 - val_accuracy: 0.8021\n",
      "Epoch 44/50\n",
      "131/131 [==============================] - 3s 25ms/step - loss: 0.3568 - accuracy: 0.8814 - val_loss: 0.6591 - val_accuracy: 0.7902\n",
      "Epoch 45/50\n",
      "131/131 [==============================] - 3s 25ms/step - loss: 0.3488 - accuracy: 0.8898 - val_loss: 0.6424 - val_accuracy: 0.7975\n",
      "Epoch 46/50\n",
      "131/131 [==============================] - 3s 25ms/step - loss: 0.3388 - accuracy: 0.8901 - val_loss: 0.6361 - val_accuracy: 0.7893\n",
      "Epoch 47/50\n",
      "131/131 [==============================] - 3s 25ms/step - loss: 0.3191 - accuracy: 0.8963 - val_loss: 0.6267 - val_accuracy: 0.8094\n",
      "Epoch 48/50\n",
      "131/131 [==============================] - 3s 25ms/step - loss: 0.3116 - accuracy: 0.8998 - val_loss: 0.6341 - val_accuracy: 0.7998\n",
      "Epoch 49/50\n",
      "131/131 [==============================] - 3s 25ms/step - loss: 0.3033 - accuracy: 0.9012 - val_loss: 0.6329 - val_accuracy: 0.8044\n",
      "Epoch 50/50\n",
      "131/131 [==============================] - 4s 27ms/step - loss: 0.2967 - accuracy: 0.9043 - val_loss: 0.6116 - val_accuracy: 0.8071\n"
     ]
    }
   ],
   "source": [
    "mod=model.fit(X_train, Y_train, epochs = 50, batch_size = 50, validation_data = (X_test, Y_test))"
   ]
  },
  {
   "cell_type": "code",
   "execution_count": 183,
   "id": "ddb3038c",
   "metadata": {},
   "outputs": [
    {
     "data": {
      "text/plain": [
       "{'loss': [1.6931015253067017,\n",
       "  1.514189600944519,\n",
       "  1.4649074077606201,\n",
       "  1.4322600364685059,\n",
       "  1.3830252885818481,\n",
       "  1.3413077592849731,\n",
       "  1.3152275085449219,\n",
       "  1.2820367813110352,\n",
       "  1.2468889951705933,\n",
       "  1.2086995840072632,\n",
       "  1.1677700281143188,\n",
       "  1.1278998851776123,\n",
       "  1.094366192817688,\n",
       "  1.0475605726242065,\n",
       "  1.008098840713501,\n",
       "  0.9657326340675354,\n",
       "  0.9367784261703491,\n",
       "  0.8953143954277039,\n",
       "  0.8712010383605957,\n",
       "  0.8351629376411438,\n",
       "  0.807594358921051,\n",
       "  0.7763221263885498,\n",
       "  0.7466199994087219,\n",
       "  0.7286658883094788,\n",
       "  0.6908167004585266,\n",
       "  0.660204291343689,\n",
       "  0.6498996019363403,\n",
       "  0.6152360439300537,\n",
       "  0.5929442644119263,\n",
       "  0.58349609375,\n",
       "  0.555067241191864,\n",
       "  0.5404430031776428,\n",
       "  0.5080626010894775,\n",
       "  0.4866844117641449,\n",
       "  0.4807109236717224,\n",
       "  0.45994871854782104,\n",
       "  0.4426397383213043,\n",
       "  0.4325086176395416,\n",
       "  0.4181312620639801,\n",
       "  0.41924428939819336,\n",
       "  0.3853320777416229,\n",
       "  0.3782086968421936,\n",
       "  0.3775026500225067,\n",
       "  0.3567921817302704,\n",
       "  0.3488120138645172,\n",
       "  0.3388400077819824,\n",
       "  0.3191460371017456,\n",
       "  0.31157955527305603,\n",
       "  0.30328255891799927,\n",
       "  0.2967442572116852],\n",
       " 'accuracy': [0.4044892489910126,\n",
       "  0.46770498156547546,\n",
       "  0.48633378744125366,\n",
       "  0.49320507049560547,\n",
       "  0.5098488330841064,\n",
       "  0.5254237055778503,\n",
       "  0.5353488922119141,\n",
       "  0.5512291789054871,\n",
       "  0.556115448474884,\n",
       "  0.5755077004432678,\n",
       "  0.5903191566467285,\n",
       "  0.6106275916099548,\n",
       "  0.619636595249176,\n",
       "  0.6400977373123169,\n",
       "  0.6553672552108765,\n",
       "  0.6744540929794312,\n",
       "  0.6793403625488281,\n",
       "  0.6912505626678467,\n",
       "  0.7040769457817078,\n",
       "  0.7143075466156006,\n",
       "  0.7246907949447632,\n",
       "  0.7376698851585388,\n",
       "  0.744083046913147,\n",
       "  0.7566040754318237,\n",
       "  0.7657657861709595,\n",
       "  0.7801191210746765,\n",
       "  0.7866849899291992,\n",
       "  0.7978317141532898,\n",
       "  0.8034814596176147,\n",
       "  0.8091311454772949,\n",
       "  0.8120323419570923,\n",
       "  0.8189036250114441,\n",
       "  0.8350893259048462,\n",
       "  0.8422660231590271,\n",
       "  0.842724084854126,\n",
       "  0.8497480750083923,\n",
       "  0.8547869920730591,\n",
       "  0.8601313233375549,\n",
       "  0.8615055680274963,\n",
       "  0.8624217510223389,\n",
       "  0.8732631206512451,\n",
       "  0.8740265965461731,\n",
       "  0.8746373653411865,\n",
       "  0.8813559412956238,\n",
       "  0.8897541761398315,\n",
       "  0.8900595307350159,\n",
       "  0.8963200449943542,\n",
       "  0.899832010269165,\n",
       "  0.9012063145637512,\n",
       "  0.9042602181434631],\n",
       " 'val_loss': [1.6540608406066895,\n",
       "  1.666642189025879,\n",
       "  1.497974157333374,\n",
       "  1.5245996713638306,\n",
       "  1.4426554441452026,\n",
       "  1.4083188772201538,\n",
       "  1.3844660520553589,\n",
       "  1.2763410806655884,\n",
       "  1.3115081787109375,\n",
       "  1.2426904439926147,\n",
       "  1.2010849714279175,\n",
       "  1.1671980619430542,\n",
       "  1.1174575090408325,\n",
       "  1.1416829824447632,\n",
       "  1.061366081237793,\n",
       "  1.01427161693573,\n",
       "  0.9743199348449707,\n",
       "  0.986113965511322,\n",
       "  0.9403093457221985,\n",
       "  0.9591506719589233,\n",
       "  0.8995164036750793,\n",
       "  0.8984552621841431,\n",
       "  0.8517177104949951,\n",
       "  0.8522945642471313,\n",
       "  0.8143312931060791,\n",
       "  0.8276308178901672,\n",
       "  0.8109734058380127,\n",
       "  0.7845564484596252,\n",
       "  0.7626484036445618,\n",
       "  0.7868446111679077,\n",
       "  0.7316802144050598,\n",
       "  0.739035427570343,\n",
       "  0.7229828834533691,\n",
       "  0.7050288915634155,\n",
       "  0.7297701835632324,\n",
       "  0.7249805927276611,\n",
       "  0.6848112344741821,\n",
       "  0.691803514957428,\n",
       "  0.7070238590240479,\n",
       "  0.6770573258399963,\n",
       "  0.6916173696517944,\n",
       "  0.6797385811805725,\n",
       "  0.6428894996643066,\n",
       "  0.6590904593467712,\n",
       "  0.6424164772033691,\n",
       "  0.6360984444618225,\n",
       "  0.6267112493515015,\n",
       "  0.6340919733047485,\n",
       "  0.6328759789466858,\n",
       "  0.6115840673446655],\n",
       " 'val_accuracy': [0.4379294514656067,\n",
       "  0.42876774072647095,\n",
       "  0.478240966796875,\n",
       "  0.4786990284919739,\n",
       "  0.4947320222854614,\n",
       "  0.5286303162574768,\n",
       "  0.5222171545028687,\n",
       "  0.5606963038444519,\n",
       "  0.5345854163169861,\n",
       "  0.5529088377952576,\n",
       "  0.5799358487129211,\n",
       "  0.5932203531265259,\n",
       "  0.636280357837677,\n",
       "  0.5904718041419983,\n",
       "  0.6582684516906738,\n",
       "  0.6633073687553406,\n",
       "  0.6747595071792603,\n",
       "  0.6701786518096924,\n",
       "  0.6843792796134949,\n",
       "  0.6843792796134949,\n",
       "  0.7017865180969238,\n",
       "  0.7104901671409607,\n",
       "  0.7196518778800964,\n",
       "  0.7214841842651367,\n",
       "  0.7301878333091736,\n",
       "  0.731562077999115,\n",
       "  0.7352267503738403,\n",
       "  0.7439303994178772,\n",
       "  0.7494273781776428,\n",
       "  0.742556095123291,\n",
       "  0.7585890889167786,\n",
       "  0.7581310272216797,\n",
       "  0.7631699442863464,\n",
       "  0.7778286933898926,\n",
       "  0.7439303994178772,\n",
       "  0.7659184336662292,\n",
       "  0.77691251039505,\n",
       "  0.7796609997749329,\n",
       "  0.7682088613510132,\n",
       "  0.7787448167800903,\n",
       "  0.7805771827697754,\n",
       "  0.7778286933898926,\n",
       "  0.8021072149276733,\n",
       "  0.79019695520401,\n",
       "  0.7975263595581055,\n",
       "  0.7892808318138123,\n",
       "  0.809436559677124,\n",
       "  0.7998167872428894,\n",
       "  0.8043976426124573,\n",
       "  0.8071461319923401]}"
      ]
     },
     "execution_count": 183,
     "metadata": {},
     "output_type": "execute_result"
    }
   ],
   "source": [
    "mod.history"
   ]
  },
  {
   "cell_type": "code",
   "execution_count": 184,
   "id": "95f082e5",
   "metadata": {},
   "outputs": [
    {
     "data": {
      "text/plain": [
       "<matplotlib.legend.Legend at 0x1632dc881c0>"
      ]
     },
     "execution_count": 184,
     "metadata": {},
     "output_type": "execute_result"
    },
    {
     "data": {
      "image/png": "[encoded data removed]",
      "text/plain": [
       "<Figure size 432x288 with 1 Axes>"
      ]
     },
     "metadata": {
      "needs_background": "light"
     },
     "output_type": "display_data"
    }
   ],
   "source": [
    "plt.subplot(211)\n",
    "plt.plot(mod.history['accuracy'])\n",
    "plt.plot(mod.history['val_accuracy'])\n",
    "\n",
    "plt.title('Model Accuracy')\n",
    "plt.xlabel('Epoch')\n",
    "plt.legend(['Training', 'Testing'], loc='lower right')"
   ]
  },
  {
   "cell_type": "code",
   "execution_count": null,
   "id": "9ac4cd16",
   "metadata": {},
   "outputs": [],
   "source": []
  },
  {
   "cell_type": "code",
   "execution_count": 185,
   "id": "74a5d55e",
   "metadata": {
    "scrolled": true
   },
   "outputs": [
    {
     "name": "stdout",
     "output_type": "stream",
     "text": [
      "Model: \"sequential_8\"\n",
      "_________________________________________________________________\n",
      "Layer (type)                 Output Shape              Param #   \n",
      "=================================================================\n",
      "conv2d_14 (Conv2D)           (None, 32, 4, 64)         128       \n",
      "_________________________________________________________________\n",
      "max_pooling2d_8 (MaxPooling2 (None, 16, 2, 64)         0         \n",
      "_________________________________________________________________\n",
      "dropout_7 (Dropout)          (None, 16, 2, 64)         0         \n",
      "_________________________________________________________________\n",
      "conv2d_15 (Conv2D)           (None, 16, 2, 128)        8320      \n",
      "_________________________________________________________________\n",
      "max_pooling2d_9 (MaxPooling2 (None, 8, 1, 128)         0         \n",
      "_________________________________________________________________\n",
      "dropout_8 (Dropout)          (None, 8, 1, 128)         0         \n",
      "_________________________________________________________________\n",
      "flatten_4 (Flatten)          (None, 1024)              0         \n",
      "_________________________________________________________________\n",
      "dense_8 (Dense)              (None, 1024)              1049600   \n",
      "_________________________________________________________________\n",
      "dense_9 (Dense)              (None, 10)                10250     \n",
      "=================================================================\n",
      "Total params: 1,068,298\n",
      "Trainable params: 1,068,298\n",
      "Non-trainable params: 0\n",
      "_________________________________________________________________\n"
     ]
    }
   ],
   "source": [
    "model.summary()"
   ]
  },
  {
   "cell_type": "code",
   "execution_count": null,
   "id": "fc85129d",
   "metadata": {},
   "outputs": [],
   "source": []
  },
  {
   "cell_type": "code",
   "execution_count": 186,
   "id": "5796f5a3",
   "metadata": {},
   "outputs": [
    {
     "name": "stdout",
     "output_type": "stream",
     "text": [
      "69/69 [==============================] - 0s 5ms/step - loss: 0.6116 - accuracy: 0.8071\n",
      "[0.6115841269493103, 0.8071461319923401]\n"
     ]
    }
   ],
   "source": [
    "predictions = model.predict(X_test)\n",
    "score = model.evaluate(X_test, Y_test)\n",
    "print(score)"
   ]
  },
  {
   "cell_type": "code",
   "execution_count": 187,
   "id": "6fca78f1",
   "metadata": {},
   "outputs": [],
   "source": [
    "predictions = model.predict(X_test)"
   ]
  },
  {
   "cell_type": "code",
   "execution_count": 188,
   "id": "30961e55",
   "metadata": {},
   "outputs": [
    {
     "name": "stderr",
     "output_type": "stream",
     "text": [
      "D:\\Ana\\lib\\site-packages\\tensorflow\\python\\keras\\engine\\sequential.py:455: UserWarning: `model.predict_classes()` is deprecated and will be removed after 2021-01-01. Please use instead:* `np.argmax(model.predict(x), axis=-1)`,   if your model does multi-class classification   (e.g. if it uses a `softmax` last-layer activation).* `(model.predict(x) > 0.5).astype(\"int32\")`,   if your model does binary classification   (e.g. if it uses a `sigmoid` last-layer activation).\n",
      "  warnings.warn('`model.predict_classes()` is deprecated and '\n"
     ]
    },
    {
     "data": {
      "text/plain": [
       "array([2, 8, 8, ..., 2, 4, 3], dtype=int64)"
      ]
     },
     "execution_count": 188,
     "metadata": {},
     "output_type": "execute_result"
    }
   ],
   "source": [
    "model.predict_classes(X_test)"
   ]
  },
  {
   "cell_type": "code",
   "execution_count": 189,
   "id": "151ebd9d",
   "metadata": {},
   "outputs": [],
   "source": [
    "preds = np.argmax(predictions, axis = 1)"
   ]
  },
  {
   "cell_type": "code",
   "execution_count": 190,
   "id": "32a1a644",
   "metadata": {},
   "outputs": [],
   "source": [
    "result = pd.DataFrame(preds)\n",
    "result.to_csv(\"UrbanSound8kResults.csv\")"
   ]
  },
  {
   "cell_type": "code",
   "execution_count": 180,
   "id": "9f96e070",
   "metadata": {},
   "outputs": [
    {
     "data": {
      "text/html": [
       "<div>\n",
       "<style scoped>\n",
       "    .dataframe tbody tr th:only-of-type {\n",
       "        vertical-align: middle;\n",
       "    }\n",
       "\n",
       "    .dataframe tbody tr th {\n",
       "        vertical-align: top;\n",
       "    }\n",
       "\n",
       "    .dataframe thead th {\n",
       "        text-align: right;\n",
       "    }\n",
       "</style>\n",
       "<table border=\"1\" class=\"dataframe\">\n",
       "  <thead>\n",
       "    <tr style=\"text-align: right;\">\n",
       "      <th></th>\n",
       "      <th>0</th>\n",
       "    </tr>\n",
       "  </thead>\n",
       "  <tbody>\n",
       "    <tr>\n",
       "      <th>0</th>\n",
       "      <td>2</td>\n",
       "    </tr>\n",
       "    <tr>\n",
       "      <th>1</th>\n",
       "      <td>8</td>\n",
       "    </tr>\n",
       "    <tr>\n",
       "      <th>2</th>\n",
       "      <td>8</td>\n",
       "    </tr>\n",
       "    <tr>\n",
       "      <th>3</th>\n",
       "      <td>5</td>\n",
       "    </tr>\n",
       "    <tr>\n",
       "      <th>4</th>\n",
       "      <td>5</td>\n",
       "    </tr>\n",
       "    <tr>\n",
       "      <th>...</th>\n",
       "      <td>...</td>\n",
       "    </tr>\n",
       "    <tr>\n",
       "      <th>2178</th>\n",
       "      <td>6</td>\n",
       "    </tr>\n",
       "    <tr>\n",
       "      <th>2179</th>\n",
       "      <td>9</td>\n",
       "    </tr>\n",
       "    <tr>\n",
       "      <th>2180</th>\n",
       "      <td>2</td>\n",
       "    </tr>\n",
       "    <tr>\n",
       "      <th>2181</th>\n",
       "      <td>4</td>\n",
       "    </tr>\n",
       "    <tr>\n",
       "      <th>2182</th>\n",
       "      <td>3</td>\n",
       "    </tr>\n",
       "  </tbody>\n",
       "</table>\n",
       "<p>2183 rows × 1 columns</p>\n",
       "</div>"
      ],
      "text/plain": [
       "      0\n",
       "0     2\n",
       "1     8\n",
       "2     8\n",
       "3     5\n",
       "4     5\n",
       "...  ..\n",
       "2178  6\n",
       "2179  9\n",
       "2180  2\n",
       "2181  4\n",
       "2182  3\n",
       "\n",
       "[2183 rows x 1 columns]"
      ]
     },
     "execution_count": 180,
     "metadata": {},
     "output_type": "execute_result"
    }
   ],
   "source": [
    "result"
   ]
  },
  {
   "cell_type": "code",
   "execution_count": 181,
   "id": "67958a03",
   "metadata": {},
   "outputs": [
    {
     "data": {
      "text/plain": [
       "(6549, 32, 4, 1)"
      ]
     },
     "execution_count": 181,
     "metadata": {},
     "output_type": "execute_result"
    }
   ],
   "source": [
    "X_train.shape"
   ]
  },
  {
   "cell_type": "code",
   "execution_count": null,
   "id": "38bffe2a",
   "metadata": {},
   "outputs": [],
   "source": [
    "\n"
   ]
  },
  {
   "cell_type": "code",
   "execution_count": 182,
   "id": "66f7ae01",
   "metadata": {},
   "outputs": [
    {
     "ename": "NameError",
     "evalue": "name 'mfccs_scaled_features' is not defined",
     "output_type": "error",
     "traceback": [
      "\u001b[1;31m---------------------------------------------------------------------------\u001b[0m",
      "\u001b[1;31mNameError\u001b[0m                                 Traceback (most recent call last)",
      "\u001b[1;32m<ipython-input-182-c3c92b79ce78>\u001b[0m in \u001b[0;36m<module>\u001b[1;34m\u001b[0m\n\u001b[1;32m----> 1\u001b[1;33m \u001b[0mpredicted_label\u001b[0m\u001b[1;33m=\u001b[0m\u001b[0mmodel\u001b[0m\u001b[1;33m.\u001b[0m\u001b[0mpredict_classes\u001b[0m\u001b[1;33m(\u001b[0m\u001b[0mmfccs_scaled_features\u001b[0m\u001b[1;33m)\u001b[0m\u001b[1;33m\u001b[0m\u001b[1;33m\u001b[0m\u001b[0m\n\u001b[0m\u001b[0;32m      2\u001b[0m \u001b[0mprint\u001b[0m\u001b[1;33m(\u001b[0m\u001b[0mpredicted_label\u001b[0m\u001b[1;33m)\u001b[0m\u001b[1;33m\u001b[0m\u001b[1;33m\u001b[0m\u001b[0m\n",
      "\u001b[1;31mNameError\u001b[0m: name 'mfccs_scaled_features' is not defined"
     ]
    }
   ],
   "source": [
    "predicted_label=model.predict_classes(mfccs_scaled_features)\n",
    "print(predicted_label)\n"
   ]
  },
  {
   "cell_type": "code",
   "execution_count": null,
   "id": "29781792",
   "metadata": {},
   "outputs": [],
   "source": [
    "from sklearn.metrics import classification_report\n",
    "classification_report(Y_test, predictions)"
   ]
  },
  {
   "cell_type": "code",
   "execution_count": null,
   "id": "3f325d65",
   "metadata": {},
   "outputs": [],
   "source": [
    " #Evaluating the model on the training and testing set\n",
    "score = model.evaluate(X_train, Y_train, verbose=0)\n",
    "print(\"Training Accuracy: \", score[1])\n",
    "\n",
    "score = model.evaluate(X_test, Y_test, verbose=0)\n",
    "print(\"Testing Accuracy: \", score[1])\n",
    "\n"
   ]
  },
  {
   "cell_type": "code",
   "execution_count": 211,
   "id": "2f39c0dc",
   "metadata": {
    "scrolled": false
   },
   "outputs": [],
   "source": [
    "file_name = \"D:\\\\dataset\\\\UrbanSound8K\\\\audio\\\\fold3\\\\9223-2-0-2.wav\"\n",
    "        # Here kaiser_fast is a technique used for faster extraction\n",
    "X, sample_rate = librosa.load(file_name, res_type='kaiser_fast') \n",
    "        # We extract mfcc feature from data\n",
    "mels = np.mean(librosa.feature.melspectrogram(y=X, sr=sample_rate).T,axis=0) "
   ]
  },
  {
   "cell_type": "code",
   "execution_count": 212,
   "id": "53ffc3dc",
   "metadata": {},
   "outputs": [],
   "source": [
    "mels=mels.transpose()\n",
    "mels=mels.reshape(1,32,4,1)"
   ]
  },
  {
   "cell_type": "code",
   "execution_count": 213,
   "id": "ea911c4e",
   "metadata": {},
   "outputs": [],
   "source": [
    "predictions = model.predict(mels)"
   ]
  },
  {
   "cell_type": "code",
   "execution_count": 214,
   "id": "1645c500",
   "metadata": {},
   "outputs": [],
   "source": [
    "\n",
    "\n",
    "preds = np.argmax(predictions, axis = 1)\n",
    "result = pd.DataFrame(preds)"
   ]
  },
  {
   "cell_type": "code",
   "execution_count": 215,
   "id": "84bee959",
   "metadata": {},
   "outputs": [
    {
     "data": {
      "text/html": [
       "<div>\n",
       "<style scoped>\n",
       "    .dataframe tbody tr th:only-of-type {\n",
       "        vertical-align: middle;\n",
       "    }\n",
       "\n",
       "    .dataframe tbody tr th {\n",
       "        vertical-align: top;\n",
       "    }\n",
       "\n",
       "    .dataframe thead th {\n",
       "        text-align: right;\n",
       "    }\n",
       "</style>\n",
       "<table border=\"1\" class=\"dataframe\">\n",
       "  <thead>\n",
       "    <tr style=\"text-align: right;\">\n",
       "      <th></th>\n",
       "      <th>0</th>\n",
       "    </tr>\n",
       "  </thead>\n",
       "  <tbody>\n",
       "    <tr>\n",
       "      <th>0</th>\n",
       "      <td>2</td>\n",
       "    </tr>\n",
       "  </tbody>\n",
       "</table>\n",
       "</div>"
      ],
      "text/plain": [
       "   0\n",
       "0  2"
      ]
     },
     "execution_count": 215,
     "metadata": {},
     "output_type": "execute_result"
    }
   ],
   "source": [
    "result"
   ]
  },
  {
   "cell_type": "code",
   "execution_count": 216,
   "id": "edd3b73a",
   "metadata": {},
   "outputs": [
    {
     "data": {
      "text/plain": [
       "0    2\n",
       "Name: 0, dtype: int64"
      ]
     },
     "execution_count": 216,
     "metadata": {},
     "output_type": "execute_result"
    }
   ],
   "source": [
    "result[0]"
   ]
  },
  {
   "cell_type": "code",
   "execution_count": null,
   "id": "4ddef984",
   "metadata": {},
   "outputs": [],
   "source": []
  },
  {
   "cell_type": "code",
   "execution_count": null,
   "id": "1d7a6550",
   "metadata": {},
   "outputs": [],
   "source": []
  },
  {
   "cell_type": "code",
   "execution_count": null,
   "id": "5dda8987",
   "metadata": {},
   "outputs": [],
   "source": []
  },
  {
   "cell_type": "code",
   "execution_count": null,
   "id": "71aeae85",
   "metadata": {},
   "outputs": [],
   "source": [
    "\n"
   ]
  },
  {
   "cell_type": "code",
   "execution_count": null,
   "id": "ff28865b",
   "metadata": {},
   "outputs": [],
   "source": []
  },
  {
   "cell_type": "code",
   "execution_count": null,
   "id": "c1f42cd3",
   "metadata": {},
   "outputs": [],
   "source": []
  },
  {
   "cell_type": "code",
   "execution_count": null,
   "id": "4509d844",
   "metadata": {},
   "outputs": [],
   "source": []
  }
 ],
 "metadata": {
  "kernelspec": {
   "display_name": "Python 3",
   "language": "python",
   "name": "python3"
  },
  "language_info": {
   "codemirror_mode": {
    "name": "ipython",
    "version": 3
   },
   "file_extension": ".py",
   "mimetype": "text/x-python",
   "name": "python",
   "nbconvert_exporter": "python",
   "pygments_lexer": "ipython3",
   "version": "3.8.8"
  }
 },
 "nbformat": 4,
 "nbformat_minor": 5
}
