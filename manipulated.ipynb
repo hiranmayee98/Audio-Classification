{
 "cells": [
  {
   "cell_type": "markdown",
   "metadata": {},
   "source": [
    "#### Audio Classification Data Preprocessing"
   ]
  },
  {
   "cell_type": "code",
   "execution_count": 7,
   "metadata": {},
   "outputs": [
    {
     "name": "stdout",
     "output_type": "stream",
     "text": [
      "Collecting librosa\n",
      "  Downloading librosa-0.8.1-py3-none-any.whl (203 kB)\n",
      "Requirement already satisfied: scipy>=1.0.0 in c:\\users\\laptop\\anaconda\\lib\\site-packages (from librosa) (1.4.1)\n",
      "Requirement already satisfied: scikit-learn!=0.19.0,>=0.14.0 in c:\\users\\laptop\\anaconda\\lib\\site-packages (from librosa) (0.22.1)\n",
      "Requirement already satisfied: numba>=0.43.0 in c:\\users\\laptop\\anaconda\\lib\\site-packages (from librosa) (0.48.0)\n",
      "Collecting resampy>=0.2.2\n",
      "  Downloading resampy-0.2.2.tar.gz (323 kB)\n",
      "Requirement already satisfied: numpy>=1.15.0 in c:\\users\\laptop\\anaconda\\lib\\site-packages (from librosa) (1.18.1)\n",
      "Requirement already satisfied: joblib>=0.14 in c:\\users\\laptop\\anaconda\\lib\\site-packages (from librosa) (0.14.1)\n",
      "Requirement already satisfied: decorator>=3.0.0 in c:\\users\\laptop\\anaconda\\lib\\site-packages (from librosa) (4.4.1)\n",
      "Collecting pooch>=1.0\n",
      "  Downloading pooch-1.4.0-py3-none-any.whl (51 kB)\n",
      "Collecting audioread>=2.0.0\n",
      "  Downloading audioread-2.1.9.tar.gz (377 kB)\n",
      "Collecting soundfile>=0.10.2\n",
      "  Downloading SoundFile-0.10.3.post1-py2.py3.cp26.cp27.cp32.cp33.cp34.cp35.cp36.pp27.pp32.pp33-none-win_amd64.whl (689 kB)\n",
      "Requirement already satisfied: packaging>=20.0 in c:\\users\\laptop\\anaconda\\lib\\site-packages (from librosa) (20.1)\n",
      "Requirement already satisfied: llvmlite<0.32.0,>=0.31.0dev0 in c:\\users\\laptop\\anaconda\\lib\\site-packages (from numba>=0.43.0->librosa) (0.31.0)\n",
      "Requirement already satisfied: setuptools in c:\\users\\laptop\\anaconda\\lib\\site-packages (from numba>=0.43.0->librosa) (45.2.0.post20200210)\n",
      "Requirement already satisfied: six>=1.3 in c:\\users\\laptop\\anaconda\\lib\\site-packages (from resampy>=0.2.2->librosa) (1.14.0)\n",
      "Collecting appdirs\n",
      "  Downloading appdirs-1.4.4-py2.py3-none-any.whl (9.6 kB)\n",
      "Requirement already satisfied: requests in c:\\users\\laptop\\anaconda\\lib\\site-packages (from pooch>=1.0->librosa) (2.22.0)\n",
      "Requirement already satisfied: cffi>=1.0 in c:\\users\\laptop\\anaconda\\lib\\site-packages (from soundfile>=0.10.2->librosa) (1.14.0)\n",
      "Requirement already satisfied: pyparsing>=2.0.2 in c:\\users\\laptop\\anaconda\\lib\\site-packages (from packaging>=20.0->librosa) (2.4.6)\n",
      "Requirement already satisfied: chardet<3.1.0,>=3.0.2 in c:\\users\\laptop\\anaconda\\lib\\site-packages (from requests->pooch>=1.0->librosa) (3.0.4)\n",
      "Requirement already satisfied: urllib3!=1.25.0,!=1.25.1,<1.26,>=1.21.1 in c:\\users\\laptop\\anaconda\\lib\\site-packages (from requests->pooch>=1.0->librosa) (1.25.8)\n",
      "Requirement already satisfied: certifi>=2017.4.17 in c:\\users\\laptop\\anaconda\\lib\\site-packages (from requests->pooch>=1.0->librosa) (2019.11.28)\n",
      "Requirement already satisfied: idna<2.9,>=2.5 in c:\\users\\laptop\\anaconda\\lib\\site-packages (from requests->pooch>=1.0->librosa) (2.8)\n",
      "Requirement already satisfied: pycparser in c:\\users\\laptop\\anaconda\\lib\\site-packages (from cffi>=1.0->soundfile>=0.10.2->librosa) (2.19)\n",
      "Building wheels for collected packages: resampy, audioread\n",
      "  Building wheel for resampy (setup.py): started\n",
      "  Building wheel for resampy (setup.py): finished with status 'done'\n",
      "  Created wheel for resampy: filename=resampy-0.2.2-py3-none-any.whl size=320723 sha256=b09d099b4d020e5961bfa391575d778713c21b6278d5112a6b78e32b52dc5a1a\n",
      "  Stored in directory: c:\\users\\laptop\\appdata\\local\\pip\\cache\\wheels\\a0\\18\\0a\\8ad18a597d8333a142c9789338a96a6208f1198d290ece356c\n",
      "  Building wheel for audioread (setup.py): started\n",
      "  Building wheel for audioread (setup.py): finished with status 'done'\n",
      "  Created wheel for audioread: filename=audioread-2.1.9-py3-none-any.whl size=23145 sha256=eaf4028052c8dae527dd95995bcda4b48f017d7e8e168f67ec9be18881c37522\n",
      "  Stored in directory: c:\\users\\laptop\\appdata\\local\\pip\\cache\\wheels\\ba\\7b\\eb\\213741ccc0678f63e346ab8dff10495995ca3f426af87b8d88\n",
      "Successfully built resampy audioread\n",
      "Installing collected packages: resampy, appdirs, pooch, audioread, soundfile, librosa\n",
      "Successfully installed appdirs-1.4.4 audioread-2.1.9 librosa-0.8.1 pooch-1.4.0 resampy-0.2.2 soundfile-0.10.3.post1\n",
      "Note: you may need to restart the kernel to use updated packages.\n"
     ]
    }
   ],
   "source": [
    "pip install librosa "
   ]
  },
  {
   "cell_type": "code",
   "execution_count": 8,
   "metadata": {},
   "outputs": [],
   "source": [
    "### Let's read a sample audio using librosa\n",
    "\n",
    "import librosa\n",
    "audio_file_path='C:\\\\Users\\\\Laptop\\\\Downloads\\\\UrbanSound8K\\\\dog.wav'\n",
    "librosa_audio_data,librosa_sample_rate=librosa.load(audio_file_path)\n"
   ]
  },
  {
   "cell_type": "code",
   "execution_count": 9,
   "metadata": {},
   "outputs": [
    {
     "name": "stdout",
     "output_type": "stream",
     "text": [
      "[ 2.2728866e-05 -4.2073693e-04 -9.0678880e-04 ...  9.9527719e-04\n",
      "  1.2307205e-03  1.1918487e-04]\n"
     ]
    }
   ],
   "source": [
    "print(librosa_audio_data)"
   ]
  },
  {
   "cell_type": "code",
   "execution_count": 11,
   "metadata": {},
   "outputs": [
    {
     "data": {
      "text/plain": [
       "[<matplotlib.lines.Line2D at 0x26940707348>]"
      ]
     },
     "execution_count": 11,
     "metadata": {},
     "output_type": "execute_result"
    },
    {
     "data": {
      "image/png": "[encoded data removed]",
      "text/plain": [
       "<Figure size 864x288 with 1 Axes>"
      ]
     },
     "metadata": {
      "needs_background": "light"
     },
     "output_type": "display_data"
    }
   ],
   "source": [
    "### Lets plot the librosa audio data\n",
    "import matplotlib.pyplot as plt\n",
    "# Original audio with 1 channel \n",
    "plt.figure(figsize=(12, 4))\n",
    "plt.plot(librosa_audio_data)"
   ]
  },
  {
   "cell_type": "markdown",
   "metadata": {},
   "source": [
    "#### Observation\n",
    "Here Librosa converts the signal to mono, meaning the channel will alays be 1"
   ]
  },
  {
   "cell_type": "code",
   "execution_count": 12,
   "metadata": {},
   "outputs": [],
   "source": [
    "### Lets read with scipy\n",
    "from scipy.io import wavfile as wav\n",
    "wave_sample_rate, wave_audio = wav.read(audio_file_path) "
   ]
  },
  {
   "cell_type": "code",
   "execution_count": 13,
   "metadata": {},
   "outputs": [
    {
     "data": {
      "text/plain": [
       "array([  3,  -3, -15, ...,  21,   4, -16], dtype=int16)"
      ]
     },
     "execution_count": 13,
     "metadata": {},
     "output_type": "execute_result"
    }
   ],
   "source": [
    "wave_audio"
   ]
  },
  {
   "cell_type": "code",
   "execution_count": 14,
   "metadata": {},
   "outputs": [
    {
     "data": {
      "text/plain": [
       "[<matplotlib.lines.Line2D at 0x2694081a148>]"
      ]
     },
     "execution_count": 14,
     "metadata": {},
     "output_type": "execute_result"
    },
    {
     "data": {
      "image/png": "[encoded data removed]",
      "text/plain": [
       "<Figure size 864x288 with 1 Axes>"
      ]
     },
     "metadata": {
      "needs_background": "light"
     },
     "output_type": "display_data"
    }
   ],
   "source": [
    "import matplotlib.pyplot as plt\n",
    "\n",
    "# Original audio with 2 channels \n",
    "plt.figure(figsize=(12, 4))\n",
    "plt.plot(wave_audio)"
   ]
  },
  {
   "cell_type": "markdown",
   "metadata": {},
   "source": [
    "### Extract Features\n",
    "Here we will be using Mel-Frequency Cepstral Coefficients(MFCC) from the audio \n",
    "samples.\n",
    "The MFCC summarises the frequency distribution across the window size, so it is possible to analyse both the frequency and time characteristics of the sound. These audio representations will allow us to identify features for classification."
   ]
  },
  {
   "cell_type": "code",
   "execution_count": 15,
   "metadata": {},
   "outputs": [
    {
     "name": "stdout",
     "output_type": "stream",
     "text": [
      "(40, 73)\n"
     ]
    }
   ],
   "source": [
    "mfccs = librosa.feature.mfcc(y=librosa_audio_data, sr=librosa_sample_rate, n_mfcc=40)\n",
    "print(mfccs.shape)"
   ]
  },
  {
   "cell_type": "code",
   "execution_count": 16,
   "metadata": {},
   "outputs": [
    {
     "data": {
      "text/plain": [
       "array([[-4.75742798e+02, -4.73901703e+02, -4.75206360e+02, ...,\n",
       "        -3.97253998e+02, -4.11900269e+02, -4.23133087e+02],\n",
       "       [ 8.06462021e+01,  7.66108398e+01,  7.31985474e+01, ...,\n",
       "         1.26723221e+02,  1.20031601e+02,  1.12464874e+02],\n",
       "       [ 1.69459324e+01,  1.95289078e+01,  1.80571518e+01, ...,\n",
       "        -5.73958039e-01, -3.09318006e-01,  7.08411396e-01],\n",
       "       ...,\n",
       "       [ 7.40375757e+00,  4.49693394e+00,  3.80271792e+00, ...,\n",
       "         4.47835922e-01,  8.87644231e-01,  7.38728619e+00],\n",
       "       [ 8.79580402e+00,  4.76240587e+00,  3.40281391e+00, ...,\n",
       "         2.87271810e+00,  2.47153711e+00,  5.96969748e+00],\n",
       "       [ 5.85931015e+00,  6.38092804e+00,  3.87446451e+00, ...,\n",
       "        -1.16599739e+00,  3.54458141e+00,  4.96152210e+00]], dtype=float32)"
      ]
     },
     "execution_count": 16,
     "metadata": {},
     "output_type": "execute_result"
    }
   ],
   "source": [
    "mfccs"
   ]
  },
  {
   "cell_type": "code",
   "execution_count": 59,
   "metadata": {},
   "outputs": [
    {
     "data": {
      "text/html": [
       "<div>\n",
       "<style scoped>\n",
       "    .dataframe tbody tr th:only-of-type {\n",
       "        vertical-align: middle;\n",
       "    }\n",
       "\n",
       "    .dataframe tbody tr th {\n",
       "        vertical-align: top;\n",
       "    }\n",
       "\n",
       "    .dataframe thead th {\n",
       "        text-align: right;\n",
       "    }\n",
       "</style>\n",
       "<table border=\"1\" class=\"dataframe\">\n",
       "  <thead>\n",
       "    <tr style=\"text-align: right;\">\n",
       "      <th></th>\n",
       "      <th>fname</th>\n",
       "      <th>labels</th>\n",
       "    </tr>\n",
       "  </thead>\n",
       "  <tbody>\n",
       "    <tr>\n",
       "      <th>0</th>\n",
       "      <td>0006ae4e.wav</td>\n",
       "      <td>Bark</td>\n",
       "    </tr>\n",
       "    <tr>\n",
       "      <th>1</th>\n",
       "      <td>0019ef41.wav</td>\n",
       "      <td>Raindrop</td>\n",
       "    </tr>\n",
       "    <tr>\n",
       "      <th>2</th>\n",
       "      <td>001ec0ad.wav</td>\n",
       "      <td>Finger_snapping</td>\n",
       "    </tr>\n",
       "    <tr>\n",
       "      <th>3</th>\n",
       "      <td>0026c7cb.wav</td>\n",
       "      <td>Run</td>\n",
       "    </tr>\n",
       "    <tr>\n",
       "      <th>4</th>\n",
       "      <td>0026f116.wav</td>\n",
       "      <td>Finger_snapping</td>\n",
       "    </tr>\n",
       "  </tbody>\n",
       "</table>\n",
       "</div>"
      ],
      "text/plain": [
       "          fname           labels\n",
       "0  0006ae4e.wav             Bark\n",
       "1  0019ef41.wav         Raindrop\n",
       "2  001ec0ad.wav  Finger_snapping\n",
       "3  0026c7cb.wav              Run\n",
       "4  0026f116.wav  Finger_snapping"
      ]
     },
     "execution_count": 59,
     "metadata": {},
     "output_type": "execute_result"
    }
   ],
   "source": [
    "#### Extracting MFCC's For every audio file\n",
    "import pandas as pd\n",
    "import os\n",
    "import librosa\n",
    "\n",
    "audio_dataset_path=\"C:\\\\Users\\\\Laptop\\\\Downloads\\\\train_curated\"\n",
    "metadata=pd.read_csv(\"C:\\\\Users\\\\Laptop\\\\Downloads\\\\train_curated.csv\")\n",
    "metadata.head()"
   ]
  },
  {
   "cell_type": "code",
   "execution_count": 55,
   "metadata": {},
   "outputs": [],
   "source": [
    "def features_extractor(file):\n",
    "    audio, sample_rate = librosa.load(file_name, res_type='kaiser_fast') \n",
    "    mfccs_features = librosa.feature.mfcc(y=audio, sr=sample_rate, n_mfcc=40)\n",
    "    mfccs_scaled_features = np.mean(mfccs_features.T,axis=0)\n",
    "    \n",
    "    return mfccs_scaled_features\n",
    "    "
   ]
  },
  {
   "cell_type": "code",
   "execution_count": 62,
   "metadata": {},
   "outputs": [
    {
     "name": "stderr",
     "output_type": "stream",
     "text": [
      "\r",
      "0it [00:00, ?it/s]"
     ]
    },
    {
     "name": "stdout",
     "output_type": "stream",
     "text": [
      "Requirement already satisfied: tqdm in c:\\users\\laptop\\anaconda\\lib\\site-packages (4.42.1)\n"
     ]
    },
    {
     "name": "stderr",
     "output_type": "stream",
     "text": [
      "4970it [23:26,  3.53it/s]\n"
     ]
    }
   ],
   "source": [
    "!pip install tqdm\n",
    "import numpy as np\n",
    "from tqdm import tqdm\n",
    "### Now we iterate through every audio file and extract features \n",
    "### using Mel-Frequency Cepstral Coefficients\n",
    "extracted_features=[]\n",
    "for index_num,row in tqdm(metadata.iterrows()):\n",
    "    file_name = os.path.join(os.path.abspath(audio_dataset_path),str(row[\"fname\"]))\n",
    "    final_class_labels=row[\"labels\"]\n",
    "    data=features_extractor(file_name)\n",
    "    extracted_features.append([data,final_class_labels])"
   ]
  },
  {
   "cell_type": "code",
   "execution_count": 63,
   "metadata": {},
   "outputs": [
    {
     "data": {
      "text/html": [
       "<div>\n",
       "<style scoped>\n",
       "    .dataframe tbody tr th:only-of-type {\n",
       "        vertical-align: middle;\n",
       "    }\n",
       "\n",
       "    .dataframe tbody tr th {\n",
       "        vertical-align: top;\n",
       "    }\n",
       "\n",
       "    .dataframe thead th {\n",
       "        text-align: right;\n",
       "    }\n",
       "</style>\n",
       "<table border=\"1\" class=\"dataframe\">\n",
       "  <thead>\n",
       "    <tr style=\"text-align: right;\">\n",
       "      <th></th>\n",
       "      <th>feature</th>\n",
       "      <th>labels</th>\n",
       "    </tr>\n",
       "  </thead>\n",
       "  <tbody>\n",
       "    <tr>\n",
       "      <th>0</th>\n",
       "      <td>[-453.7976, 162.72307, 2.6030183, 3.9901276, -...</td>\n",
       "      <td>Bark</td>\n",
       "    </tr>\n",
       "    <tr>\n",
       "      <th>1</th>\n",
       "      <td>[-638.8323, 80.006424, 18.729494, 51.929596, 9...</td>\n",
       "      <td>Raindrop</td>\n",
       "    </tr>\n",
       "    <tr>\n",
       "      <th>2</th>\n",
       "      <td>[-737.7109, 30.060478, 11.024119, 11.34007, 1....</td>\n",
       "      <td>Finger_snapping</td>\n",
       "    </tr>\n",
       "    <tr>\n",
       "      <th>3</th>\n",
       "      <td>[-387.2343, 85.65996, -2.8600616, 18.066645, -...</td>\n",
       "      <td>Run</td>\n",
       "    </tr>\n",
       "    <tr>\n",
       "      <th>4</th>\n",
       "      <td>[-712.6923, 5.8181663, -3.5076437, 4.864833, 4...</td>\n",
       "      <td>Finger_snapping</td>\n",
       "    </tr>\n",
       "  </tbody>\n",
       "</table>\n",
       "</div>"
      ],
      "text/plain": [
       "                                             feature           labels\n",
       "0  [-453.7976, 162.72307, 2.6030183, 3.9901276, -...             Bark\n",
       "1  [-638.8323, 80.006424, 18.729494, 51.929596, 9...         Raindrop\n",
       "2  [-737.7109, 30.060478, 11.024119, 11.34007, 1....  Finger_snapping\n",
       "3  [-387.2343, 85.65996, -2.8600616, 18.066645, -...              Run\n",
       "4  [-712.6923, 5.8181663, -3.5076437, 4.864833, 4...  Finger_snapping"
      ]
     },
     "execution_count": 63,
     "metadata": {},
     "output_type": "execute_result"
    }
   ],
   "source": [
    "### converting extracted_features to Pandas dataframe\n",
    "extracted_features_df=pd.DataFrame(extracted_features,columns=['feature','labels'])\n",
    "extracted_features_df.head()"
   ]
  },
  {
   "cell_type": "code",
   "execution_count": 64,
   "metadata": {},
   "outputs": [],
   "source": [
    "### Split the dataset into independent and dependent dataset\n",
    "X=np.array(extracted_features_df['feature'].tolist())\n",
    "y=np.array(extracted_features_df['labels'].tolist())"
   ]
  },
  {
   "cell_type": "code",
   "execution_count": 30,
   "metadata": {},
   "outputs": [
    {
     "data": {
      "text/plain": [
       "(8732, 40)"
      ]
     },
     "execution_count": 30,
     "metadata": {},
     "output_type": "execute_result"
    }
   ],
   "source": [
    "X.shape"
   ]
  },
  {
   "cell_type": "code",
   "execution_count": 65,
   "metadata": {},
   "outputs": [
    {
     "data": {
      "text/plain": [
       "array(['Bark', 'Raindrop', 'Finger_snapping', ..., 'Bus',\n",
       "       'Electric_guitar', 'Meow'], dtype='<U87')"
      ]
     },
     "execution_count": 65,
     "metadata": {},
     "output_type": "execute_result"
    }
   ],
   "source": [
    "y"
   ]
  },
  {
   "cell_type": "code",
   "execution_count": 32,
   "metadata": {},
   "outputs": [
    {
     "name": "stdout",
     "output_type": "stream",
     "text": [
      "Collecting tensorflow\n",
      "  Downloading tensorflow-2.5.0-cp37-cp37m-win_amd64.whl (422.6 MB)\n",
      "Collecting wrapt~=1.12.1\n",
      "  Downloading wrapt-1.12.1.tar.gz (27 kB)\n",
      "Collecting h5py~=3.1.0\n",
      "  Downloading h5py-3.1.0-cp37-cp37m-win_amd64.whl (2.7 MB)\n",
      "Collecting tensorboard~=2.5\n",
      "  Downloading tensorboard-2.5.0-py3-none-any.whl (6.0 MB)\n",
      "Collecting google-pasta~=0.2\n",
      "  Downloading google_pasta-0.2.0-py3-none-any.whl (57 kB)\n",
      "Collecting termcolor~=1.1.0\n",
      "  Downloading termcolor-1.1.0.tar.gz (3.9 kB)\n",
      "Collecting opt-einsum~=3.3.0\n",
      "  Downloading opt_einsum-3.3.0-py3-none-any.whl (65 kB)\n",
      "Collecting gast==0.4.0\n",
      "  Downloading gast-0.4.0-py3-none-any.whl (9.8 kB)\n",
      "Collecting numpy~=1.19.2\n",
      "  Downloading numpy-1.19.5-cp37-cp37m-win_amd64.whl (13.2 MB)\n",
      "Collecting wheel~=0.35\n",
      "  Downloading wheel-0.36.2-py2.py3-none-any.whl (35 kB)\n",
      "Collecting keras-preprocessing~=1.1.2\n",
      "  Downloading Keras_Preprocessing-1.1.2-py2.py3-none-any.whl (42 kB)\n",
      "Collecting absl-py~=0.10\n",
      "  Downloading absl_py-0.13.0-py3-none-any.whl (132 kB)\n",
      "Collecting tensorflow-estimator<2.6.0,>=2.5.0rc0\n",
      "  Downloading tensorflow_estimator-2.5.0-py2.py3-none-any.whl (462 kB)\n",
      "Collecting astunparse~=1.6.3\n",
      "  Downloading astunparse-1.6.3-py2.py3-none-any.whl (12 kB)\n",
      "Collecting typing-extensions~=3.7.4\n",
      "  Downloading typing_extensions-3.7.4.3-py3-none-any.whl (22 kB)\n",
      "Collecting flatbuffers~=1.12.0\n",
      "  Downloading flatbuffers-1.12-py2.py3-none-any.whl (15 kB)\n",
      "Collecting grpcio~=1.34.0\n",
      "  Downloading grpcio-1.34.1-cp37-cp37m-win_amd64.whl (2.9 MB)\n",
      "Collecting protobuf>=3.9.2\n",
      "  Downloading protobuf-3.17.3-cp37-cp37m-win_amd64.whl (909 kB)\n",
      "Collecting keras-nightly~=2.5.0.dev\n",
      "  Downloading keras_nightly-2.5.0.dev2021032900-py2.py3-none-any.whl (1.2 MB)\n",
      "Collecting six~=1.15.0\n",
      "  Downloading six-1.15.0-py2.py3-none-any.whl (10 kB)\n",
      "Collecting cached-property; python_version < \"3.8\"\n",
      "  Downloading cached_property-1.5.2-py2.py3-none-any.whl (7.6 kB)\n",
      "Collecting google-auth-oauthlib<0.5,>=0.4.1\n",
      "  Downloading google_auth_oauthlib-0.4.4-py2.py3-none-any.whl (18 kB)\n",
      "Collecting google-auth<2,>=1.6.3\n",
      "  Downloading google_auth-1.33.1-py2.py3-none-any.whl (152 kB)\n",
      "Collecting markdown>=2.6.8\n",
      "  Downloading Markdown-3.3.4-py3-none-any.whl (97 kB)\n",
      "Collecting tensorboard-data-server<0.7.0,>=0.6.0\n",
      "  Downloading tensorboard_data_server-0.6.1-py3-none-any.whl (2.4 kB)\n",
      "Collecting tensorboard-plugin-wit>=1.6.0\n",
      "  Downloading tensorboard_plugin_wit-1.8.0-py3-none-any.whl (781 kB)\n",
      "Requirement already satisfied, skipping upgrade: setuptools>=41.0.0 in c:\\users\\laptop\\anaconda\\lib\\site-packages (from tensorboard~=2.5->tensorflow) (45.2.0.post20200210)\n",
      "Requirement already satisfied, skipping upgrade: werkzeug>=0.11.15 in c:\\users\\laptop\\anaconda\\lib\\site-packages (from tensorboard~=2.5->tensorflow) (1.0.0)\n",
      "Requirement already satisfied, skipping upgrade: requests<3,>=2.21.0 in c:\\users\\laptop\\anaconda\\lib\\site-packages (from tensorboard~=2.5->tensorflow) (2.22.0)\n",
      "Collecting requests-oauthlib>=0.7.0\n",
      "  Downloading requests_oauthlib-1.3.0-py2.py3-none-any.whl (23 kB)\n",
      "Collecting rsa<5,>=3.1.4; python_version >= \"3.6\"\n",
      "  Downloading rsa-4.7.2-py3-none-any.whl (34 kB)\n",
      "Collecting pyasn1-modules>=0.2.1\n",
      "  Downloading pyasn1_modules-0.2.8-py2.py3-none-any.whl (155 kB)\n",
      "Collecting cachetools<5.0,>=2.0.0\n",
      "  Downloading cachetools-4.2.2-py3-none-any.whl (11 kB)\n",
      "Requirement already satisfied, skipping upgrade: importlib-metadata; python_version < \"3.8\" in c:\\users\\laptop\\anaconda\\lib\\site-packages (from markdown>=2.6.8->tensorboard~=2.5->tensorflow) (1.5.0)\n",
      "Requirement already satisfied, skipping upgrade: idna<2.9,>=2.5 in c:\\users\\laptop\\anaconda\\lib\\site-packages (from requests<3,>=2.21.0->tensorboard~=2.5->tensorflow) (2.8)\n",
      "Requirement already satisfied, skipping upgrade: chardet<3.1.0,>=3.0.2 in c:\\users\\laptop\\anaconda\\lib\\site-packages (from requests<3,>=2.21.0->tensorboard~=2.5->tensorflow) (3.0.4)\n",
      "Requirement already satisfied, skipping upgrade: urllib3!=1.25.0,!=1.25.1,<1.26,>=1.21.1 in c:\\users\\laptop\\anaconda\\lib\\site-packages (from requests<3,>=2.21.0->tensorboard~=2.5->tensorflow) (1.25.8)\n",
      "Requirement already satisfied, skipping upgrade: certifi>=2017.4.17 in c:\\users\\laptop\\anaconda\\lib\\site-packages (from requests<3,>=2.21.0->tensorboard~=2.5->tensorflow) (2019.11.28)\n",
      "Collecting oauthlib>=3.0.0\n",
      "  Downloading oauthlib-3.1.1-py2.py3-none-any.whl (146 kB)\n",
      "Collecting pyasn1>=0.1.3\n",
      "  Downloading pyasn1-0.4.8-py2.py3-none-any.whl (77 kB)\n",
      "Requirement already satisfied, skipping upgrade: zipp>=0.5 in c:\\users\\laptop\\anaconda\\lib\\site-packages (from importlib-metadata; python_version < \"3.8\"->markdown>=2.6.8->tensorboard~=2.5->tensorflow) (2.2.0)\n",
      "Building wheels for collected packages: wrapt, termcolor\n",
      "  Building wheel for wrapt (setup.py): started\n",
      "  Building wheel for wrapt (setup.py): finished with status 'done'\n",
      "  Created wheel for wrapt: filename=wrapt-1.12.1-py3-none-any.whl size=19558 sha256=b8383d54f50ea1bed42a56073814e0a0f3d52817d0e0fb60f43e99a108a85cdd\n",
      "  Stored in directory: c:\\users\\laptop\\appdata\\local\\pip\\cache\\wheels\\62\\76\\4c\\aa25851149f3f6d9785f6c869387ad82b3fd37582fa8147ac6\n",
      "  Building wheel for termcolor (setup.py): started\n",
      "  Building wheel for termcolor (setup.py): finished with status 'done'\n",
      "  Created wheel for termcolor: filename=termcolor-1.1.0-py3-none-any.whl size=4835 sha256=66dcfdd3a42fd4e65bef3f9fcba8542f56e47d5e172bcefd1cde49d2c5b5c98f\n",
      "  Stored in directory: c:\\users\\laptop\\appdata\\local\\pip\\cache\\wheels\\3f\\e3\\ec\\8a8336ff196023622fbcb36de0c5a5c218cbb24111d1d4c7f2\n",
      "Successfully built wrapt termcolor\n",
      "Installing collected packages: wrapt, cached-property, numpy, h5py, six, protobuf, oauthlib, requests-oauthlib, pyasn1, rsa, pyasn1-modules, cachetools, google-auth, google-auth-oauthlib, markdown, grpcio, tensorboard-data-server, wheel, absl-py, tensorboard-plugin-wit, tensorboard, google-pasta, termcolor, opt-einsum, gast, keras-preprocessing, tensorflow-estimator, astunparse, typing-extensions, flatbuffers, keras-nightly, tensorflow\n",
      "  Attempting uninstall: wrapt\n",
      "    Found existing installation: wrapt 1.11.2\n",
      "    Uninstalling wrapt-1.11.2:\n",
      "      Successfully uninstalled wrapt-1.11.2\n",
      "  Attempting uninstall: numpy\n",
      "    Found existing installation: numpy 1.18.1\n",
      "    Uninstalling numpy-1.18.1:\n",
      "      Successfully uninstalled numpy-1.18.1\n",
      "  Attempting uninstall: h5py\n",
      "    Found existing installation: h5py 2.10.0\n",
      "    Uninstalling h5py-2.10.0:\n",
      "      Successfully uninstalled h5py-2.10.0\n",
      "  Attempting uninstall: six\n",
      "    Found existing installation: six 1.14.0\n",
      "    Uninstalling six-1.14.0:\n",
      "      Successfully uninstalled six-1.14.0\n",
      "  Attempting uninstall: wheel\n",
      "    Found existing installation: wheel 0.34.2\n",
      "    Uninstalling wheel-0.34.2:\n",
      "      Successfully uninstalled wheel-0.34.2\n",
      "Successfully installed absl-py-0.13.0 astunparse-1.6.3 cached-property-1.5.2 cachetools-4.2.2 flatbuffers-1.12 gast-0.4.0 google-auth-1.33.1 google-auth-oauthlib-0.4.4 google-pasta-0.2.0 grpcio-1.34.1 h5py-3.1.0 keras-nightly-2.5.0.dev2021032900 keras-preprocessing-1.1.2 markdown-3.3.4 numpy-1.19.5 oauthlib-3.1.1 opt-einsum-3.3.0 protobuf-3.17.3 pyasn1-0.4.8 pyasn1-modules-0.2.8 requests-oauthlib-1.3.0 rsa-4.7.2 six-1.15.0 tensorboard-2.5.0 tensorboard-data-server-0.6.1 tensorboard-plugin-wit-1.8.0 tensorflow-2.5.0 tensorflow-estimator-2.5.0 termcolor-1.1.0 typing-extensions-3.7.4.3 wheel-0.36.2 wrapt-1.12.1\n",
      "Note: you may need to restart the kernel to use updated packages.\n"
     ]
    },
    {
     "name": "stderr",
     "output_type": "stream",
     "text": [
      "ERROR: pytest-astropy 0.8.0 requires pytest-cov>=2.0, which is not installed.\n",
      "ERROR: pytest-astropy 0.8.0 requires pytest-filter-subpackage>=0.1, which is not installed.\n",
      "ERROR: astroid 2.3.3 requires typed-ast<1.5,>=1.4.0; implementation_name == \"cpython\" and python_version < \"3.8\", which is not installed.\n",
      "ERROR: astroid 2.3.3 has requirement wrapt==1.11.*, but you'll have wrapt 1.12.1 which is incompatible.\n"
     ]
    }
   ],
   "source": [
    "pip install --upgrade tensorflow"
   ]
  },
  {
   "cell_type": "code",
   "execution_count": 66,
   "metadata": {},
   "outputs": [],
   "source": [
    "### Label Encoding\n",
    "###y=np.array(pd.get_dummies(y))\n",
    "### Label Encoder\n",
    "from tensorflow.keras.utils import to_categorical\n",
    "from sklearn.preprocessing import LabelEncoder\n",
    "labelencoder=LabelEncoder()\n",
    "y=to_categorical(labelencoder.fit_transform(y))"
   ]
  },
  {
   "cell_type": "code",
   "execution_count": 67,
   "metadata": {},
   "outputs": [
    {
     "data": {
      "text/plain": [
       "array([[0., 0., 0., ..., 0., 0., 0.],\n",
       "       [0., 0., 0., ..., 0., 0., 0.],\n",
       "       [0., 0., 0., ..., 0., 0., 0.],\n",
       "       ...,\n",
       "       [0., 0., 0., ..., 0., 0., 0.],\n",
       "       [0., 0., 0., ..., 0., 0., 0.],\n",
       "       [0., 0., 0., ..., 0., 0., 0.]], dtype=float32)"
      ]
     },
     "execution_count": 67,
     "metadata": {},
     "output_type": "execute_result"
    }
   ],
   "source": [
    "y"
   ]
  },
  {
   "cell_type": "code",
   "execution_count": 68,
   "metadata": {},
   "outputs": [],
   "source": [
    "### Train Test Split\n",
    "from sklearn.model_selection import train_test_split\n",
    "X_train,X_test,y_train,y_test=train_test_split(X,y,test_size=0.2,random_state=0)"
   ]
  },
  {
   "cell_type": "code",
   "execution_count": 69,
   "metadata": {},
   "outputs": [
    {
     "data": {
      "text/plain": [
       "array([[-5.7303766e+02,  6.0795921e+01, -1.1843763e+01, ...,\n",
       "         1.4681212e+00,  1.2443150e+00,  3.4441507e-01],\n",
       "       [-4.6224606e+02,  2.9871761e+01,  6.6033888e+00, ...,\n",
       "        -1.9360162e-01,  1.1359508e-01,  2.5468140e+00],\n",
       "       [-3.1505804e+02,  7.7575096e+01,  3.3244682e+01, ...,\n",
       "        -2.0116990e+00, -3.0628953e+00, -1.1990908e+00],\n",
       "       ...,\n",
       "       [-4.3000648e+01,  5.7870811e+01, -2.7499269e+01, ...,\n",
       "         2.1006968e+00, -1.3282578e+00,  1.8658497e+00],\n",
       "       [-5.4343616e+02,  7.2157463e+01, -3.9566665e+00, ...,\n",
       "        -8.9035493e-01, -3.3504848e+00, -1.3270109e+00],\n",
       "       [-1.6268649e+02, -2.8030338e+01, -3.2142719e+01, ...,\n",
       "        -8.4638917e-01, -3.2052824e-01,  2.6570618e+00]], dtype=float32)"
      ]
     },
     "execution_count": 69,
     "metadata": {},
     "output_type": "execute_result"
    }
   ],
   "source": [
    "X_train"
   ]
  },
  {
   "cell_type": "code",
   "execution_count": 70,
   "metadata": {},
   "outputs": [
    {
     "data": {
      "text/plain": [
       "array([[0., 0., 0., ..., 0., 0., 0.],\n",
       "       [0., 0., 0., ..., 0., 0., 0.],\n",
       "       [0., 0., 0., ..., 0., 0., 0.],\n",
       "       ...,\n",
       "       [0., 0., 0., ..., 0., 0., 0.],\n",
       "       [0., 0., 0., ..., 0., 0., 0.],\n",
       "       [0., 0., 0., ..., 0., 0., 0.]], dtype=float32)"
      ]
     },
     "execution_count": 70,
     "metadata": {},
     "output_type": "execute_result"
    }
   ],
   "source": [
    "y"
   ]
  },
  {
   "cell_type": "code",
   "execution_count": 71,
   "metadata": {},
   "outputs": [
    {
     "data": {
      "text/plain": [
       "(3976, 40)"
      ]
     },
     "execution_count": 71,
     "metadata": {},
     "output_type": "execute_result"
    }
   ],
   "source": [
    "X_train.shape"
   ]
  },
  {
   "cell_type": "code",
   "execution_count": 72,
   "metadata": {},
   "outputs": [
    {
     "data": {
      "text/plain": [
       "(994, 40)"
      ]
     },
     "execution_count": 72,
     "metadata": {},
     "output_type": "execute_result"
    }
   ],
   "source": [
    "X_test.shape"
   ]
  },
  {
   "cell_type": "code",
   "execution_count": 73,
   "metadata": {},
   "outputs": [
    {
     "data": {
      "text/plain": [
       "(3976, 213)"
      ]
     },
     "execution_count": 73,
     "metadata": {},
     "output_type": "execute_result"
    }
   ],
   "source": [
    "y_train.shape"
   ]
  },
  {
   "cell_type": "code",
   "execution_count": 74,
   "metadata": {},
   "outputs": [
    {
     "data": {
      "text/plain": [
       "(994, 213)"
      ]
     },
     "execution_count": 74,
     "metadata": {},
     "output_type": "execute_result"
    }
   ],
   "source": [
    "y_test.shape"
   ]
  },
  {
   "cell_type": "markdown",
   "metadata": {},
   "source": [
    "### Model Creation"
   ]
  },
  {
   "cell_type": "code",
   "execution_count": 75,
   "metadata": {},
   "outputs": [
    {
     "name": "stdout",
     "output_type": "stream",
     "text": [
      "2.5.0\n"
     ]
    }
   ],
   "source": [
    "import tensorflow as tf\n",
    "print(tf.__version__)"
   ]
  },
  {
   "cell_type": "code",
   "execution_count": 76,
   "metadata": {},
   "outputs": [],
   "source": [
    "from tensorflow.keras.models import Sequential\n",
    "from tensorflow.keras.layers import Dense,Dropout,Activation,Flatten\n",
    "from tensorflow.keras.optimizers import Adam\n",
    "from sklearn import metrics"
   ]
  },
  {
   "cell_type": "code",
   "execution_count": null,
   "metadata": {},
   "outputs": [],
   "source": []
  },
  {
   "cell_type": "code",
   "execution_count": 77,
   "metadata": {},
   "outputs": [],
   "source": [
    "### No of classes\n",
    "num_labels=y.shape[1]"
   ]
  },
  {
   "cell_type": "code",
   "execution_count": 78,
   "metadata": {},
   "outputs": [],
   "source": [
    "model=Sequential()\n",
    "###first layer\n",
    "model.add(Dense(100,input_shape=(40,)))\n",
    "model.add(Activation('relu'))\n",
    "model.add(Dropout(0.5))\n",
    "###second layer\n",
    "model.add(Dense(200))\n",
    "model.add(Activation('relu'))\n",
    "model.add(Dropout(0.5))\n",
    "###third layer\n",
    "model.add(Dense(100))\n",
    "model.add(Activation('relu'))\n",
    "model.add(Dropout(0.5))\n",
    "\n",
    "###final layer\n",
    "model.add(Dense(num_labels))\n",
    "model.add(Activation('softmax'))"
   ]
  },
  {
   "cell_type": "code",
   "execution_count": 79,
   "metadata": {},
   "outputs": [
    {
     "name": "stdout",
     "output_type": "stream",
     "text": [
      "Model: \"sequential_1\"\n",
      "_________________________________________________________________\n",
      "Layer (type)                 Output Shape              Param #   \n",
      "=================================================================\n",
      "dense_4 (Dense)              (None, 100)               4100      \n",
      "_________________________________________________________________\n",
      "activation_4 (Activation)    (None, 100)               0         \n",
      "_________________________________________________________________\n",
      "dropout_3 (Dropout)          (None, 100)               0         \n",
      "_________________________________________________________________\n",
      "dense_5 (Dense)              (None, 200)               20200     \n",
      "_________________________________________________________________\n",
      "activation_5 (Activation)    (None, 200)               0         \n",
      "_________________________________________________________________\n",
      "dropout_4 (Dropout)          (None, 200)               0         \n",
      "_________________________________________________________________\n",
      "dense_6 (Dense)              (None, 100)               20100     \n",
      "_________________________________________________________________\n",
      "activation_6 (Activation)    (None, 100)               0         \n",
      "_________________________________________________________________\n",
      "dropout_5 (Dropout)          (None, 100)               0         \n",
      "_________________________________________________________________\n",
      "dense_7 (Dense)              (None, 213)               21513     \n",
      "_________________________________________________________________\n",
      "activation_7 (Activation)    (None, 213)               0         \n",
      "=================================================================\n",
      "Total params: 65,913\n",
      "Trainable params: 65,913\n",
      "Non-trainable params: 0\n",
      "_________________________________________________________________\n"
     ]
    }
   ],
   "source": [
    "model.summary()"
   ]
  },
  {
   "cell_type": "code",
   "execution_count": 80,
   "metadata": {},
   "outputs": [],
   "source": [
    "model.compile(loss='categorical_crossentropy',metrics=['accuracy'],optimizer='adam')"
   ]
  },
  {
   "cell_type": "code",
   "execution_count": 81,
   "metadata": {},
   "outputs": [
    {
     "name": "stdout",
     "output_type": "stream",
     "text": [
      "Epoch 1/100\n",
      "125/125 [==============================] - 10s 16ms/step - loss: 20.0275 - accuracy: 0.0063 - val_loss: 5.3165 - val_accuracy: 0.0101\n",
      "\n",
      "Epoch 00001: val_loss improved from inf to 5.31648, saving model to saved_models\\audio_classification.hdf5\n",
      "Epoch 2/100\n",
      "125/125 [==============================] - 1s 8ms/step - loss: 5.6855 - accuracy: 0.0131 - val_loss: 5.2550 - val_accuracy: 0.0111\n",
      "\n",
      "Epoch 00002: val_loss improved from 5.31648 to 5.25496, saving model to saved_models\\audio_classification.hdf5\n",
      "Epoch 3/100\n",
      "125/125 [==============================] - 1s 9ms/step - loss: 5.3530 - accuracy: 0.0116 - val_loss: 5.1958 - val_accuracy: 0.0111\n",
      "\n",
      "Epoch 00003: val_loss improved from 5.25496 to 5.19576, saving model to saved_models\\audio_classification.hdf5\n",
      "Epoch 4/100\n",
      "125/125 [==============================] - 1s 8ms/step - loss: 5.2424 - accuracy: 0.0171 - val_loss: 5.1412 - val_accuracy: 0.0111\n",
      "\n",
      "Epoch 00004: val_loss improved from 5.19576 to 5.14125, saving model to saved_models\\audio_classification.hdf5\n",
      "Epoch 5/100\n",
      "125/125 [==============================] - 1s 8ms/step - loss: 5.1393 - accuracy: 0.0163 - val_loss: 5.0913 - val_accuracy: 0.0111\n",
      "\n",
      "Epoch 00005: val_loss improved from 5.14125 to 5.09131, saving model to saved_models\\audio_classification.hdf5\n",
      "Epoch 6/100\n",
      "125/125 [==============================] - 1s 8ms/step - loss: 5.0887 - accuracy: 0.0156 - val_loss: 5.0464 - val_accuracy: 0.0111\n",
      "\n",
      "Epoch 00006: val_loss improved from 5.09131 to 5.04644, saving model to saved_models\\audio_classification.hdf5\n",
      "Epoch 7/100\n",
      "125/125 [==============================] - 1s 8ms/step - loss: 5.0581 - accuracy: 0.0161 - val_loss: 5.0067 - val_accuracy: 0.0111\n",
      "\n",
      "Epoch 00007: val_loss improved from 5.04644 to 5.00672, saving model to saved_models\\audio_classification.hdf5\n",
      "Epoch 8/100\n",
      "125/125 [==============================] - 1s 8ms/step - loss: 5.0000 - accuracy: 0.0156 - val_loss: 4.9705 - val_accuracy: 0.0111\n",
      "\n",
      "Epoch 00008: val_loss improved from 5.00672 to 4.97053, saving model to saved_models\\audio_classification.hdf5\n",
      "Epoch 9/100\n",
      "125/125 [==============================] - 1s 8ms/step - loss: 4.9657 - accuracy: 0.0153 - val_loss: 4.9381 - val_accuracy: 0.0111\n",
      "\n",
      "Epoch 00009: val_loss improved from 4.97053 to 4.93812, saving model to saved_models\\audio_classification.hdf5\n",
      "Epoch 10/100\n",
      "125/125 [==============================] - 1s 7ms/step - loss: 4.9283 - accuracy: 0.0158 - val_loss: 4.9092 - val_accuracy: 0.0111\n",
      "\n",
      "Epoch 00010: val_loss improved from 4.93812 to 4.90923, saving model to saved_models\\audio_classification.hdf5\n",
      "Epoch 11/100\n",
      "125/125 [==============================] - 1s 8ms/step - loss: 4.9029 - accuracy: 0.0141 - val_loss: 4.8834 - val_accuracy: 0.0111\n",
      "\n",
      "Epoch 00011: val_loss improved from 4.90923 to 4.88342, saving model to saved_models\\audio_classification.hdf5\n",
      "Epoch 12/100\n",
      "125/125 [==============================] - 1s 7ms/step - loss: 4.8725 - accuracy: 0.0161 - val_loss: 4.8603 - val_accuracy: 0.0111\n",
      "\n",
      "Epoch 00012: val_loss improved from 4.88342 to 4.86031, saving model to saved_models\\audio_classification.hdf5\n",
      "Epoch 13/100\n",
      "125/125 [==============================] - 1s 7ms/step - loss: 4.8476 - accuracy: 0.0133 - val_loss: 4.8397 - val_accuracy: 0.0040\n",
      "\n",
      "Epoch 00013: val_loss improved from 4.86031 to 4.83973, saving model to saved_models\\audio_classification.hdf5\n",
      "Epoch 14/100\n",
      "125/125 [==============================] - 1s 8ms/step - loss: 4.8284 - accuracy: 0.0141 - val_loss: 4.8213 - val_accuracy: 0.0040\n",
      "\n",
      "Epoch 00014: val_loss improved from 4.83973 to 4.82126, saving model to saved_models\\audio_classification.hdf5\n",
      "Epoch 15/100\n",
      "125/125 [==============================] - 1s 8ms/step - loss: 4.8096 - accuracy: 0.0146 - val_loss: 4.8047 - val_accuracy: 0.0040\n",
      "\n",
      "Epoch 00015: val_loss improved from 4.82126 to 4.80470, saving model to saved_models\\audio_classification.hdf5\n",
      "Epoch 16/100\n",
      "125/125 [==============================] - 1s 8ms/step - loss: 4.7868 - accuracy: 0.0163 - val_loss: 4.7897 - val_accuracy: 0.0111\n",
      "\n",
      "Epoch 00016: val_loss improved from 4.80470 to 4.78972, saving model to saved_models\\audio_classification.hdf5\n",
      "Epoch 17/100\n",
      "125/125 [==============================] - 1s 7ms/step - loss: 4.7797 - accuracy: 0.0161 - val_loss: 4.7766 - val_accuracy: 0.0040\n",
      "\n",
      "Epoch 00017: val_loss improved from 4.78972 to 4.77657, saving model to saved_models\\audio_classification.hdf5\n",
      "Epoch 18/100\n",
      "125/125 [==============================] - 1s 8ms/step - loss: 4.7589 - accuracy: 0.0169 - val_loss: 4.7617 - val_accuracy: 0.0070\n",
      "\n",
      "Epoch 00018: val_loss improved from 4.77657 to 4.76167, saving model to saved_models\\audio_classification.hdf5\n",
      "Epoch 19/100\n",
      "125/125 [==============================] - 1s 8ms/step - loss: 4.7512 - accuracy: 0.0161 - val_loss: 4.7498 - val_accuracy: 0.0141\n",
      "\n",
      "Epoch 00019: val_loss improved from 4.76167 to 4.74977, saving model to saved_models\\audio_classification.hdf5\n",
      "Epoch 20/100\n",
      "125/125 [==============================] - 1s 8ms/step - loss: 4.7366 - accuracy: 0.0186 - val_loss: 4.7360 - val_accuracy: 0.0101\n",
      "\n",
      "Epoch 00020: val_loss improved from 4.74977 to 4.73600, saving model to saved_models\\audio_classification.hdf5\n",
      "Epoch 21/100\n",
      "125/125 [==============================] - 1s 7ms/step - loss: 4.7268 - accuracy: 0.0181 - val_loss: 4.7290 - val_accuracy: 0.0070\n",
      "\n",
      "Epoch 00021: val_loss improved from 4.73600 to 4.72905, saving model to saved_models\\audio_classification.hdf5\n",
      "Epoch 22/100\n",
      "125/125 [==============================] - 1s 8ms/step - loss: 4.7146 - accuracy: 0.0196 - val_loss: 4.7133 - val_accuracy: 0.0131\n",
      "\n",
      "Epoch 00022: val_loss improved from 4.72905 to 4.71327, saving model to saved_models\\audio_classification.hdf5\n",
      "Epoch 23/100\n",
      "125/125 [==============================] - 1s 7ms/step - loss: 4.7095 - accuracy: 0.0171 - val_loss: 4.7127 - val_accuracy: 0.0151\n",
      "\n",
      "Epoch 00023: val_loss improved from 4.71327 to 4.71268, saving model to saved_models\\audio_classification.hdf5\n",
      "Epoch 24/100\n",
      "125/125 [==============================] - 1s 8ms/step - loss: 4.6884 - accuracy: 0.0211 - val_loss: 4.7003 - val_accuracy: 0.0161\n",
      "\n",
      "Epoch 00024: val_loss improved from 4.71268 to 4.70028, saving model to saved_models\\audio_classification.hdf5\n",
      "Epoch 25/100\n",
      "125/125 [==============================] - 1s 7ms/step - loss: 4.6826 - accuracy: 0.0204 - val_loss: 4.6879 - val_accuracy: 0.0131\n",
      "\n",
      "Epoch 00025: val_loss improved from 4.70028 to 4.68786, saving model to saved_models\\audio_classification.hdf5\n",
      "Epoch 26/100\n",
      "125/125 [==============================] - 1s 7ms/step - loss: 4.6708 - accuracy: 0.0221 - val_loss: 4.6813 - val_accuracy: 0.0181\n",
      "\n",
      "Epoch 00026: val_loss improved from 4.68786 to 4.68133, saving model to saved_models\\audio_classification.hdf5\n",
      "Epoch 27/100\n",
      "125/125 [==============================] - 1s 7ms/step - loss: 4.6685 - accuracy: 0.0219 - val_loss: 4.6824 - val_accuracy: 0.0111\n",
      "\n",
      "Epoch 00027: val_loss did not improve from 4.68133\n",
      "Epoch 28/100\n",
      "125/125 [==============================] - 1s 7ms/step - loss: 4.6643 - accuracy: 0.0221 - val_loss: 4.6810 - val_accuracy: 0.0161\n",
      "\n",
      "Epoch 00028: val_loss improved from 4.68133 to 4.68101, saving model to saved_models\\audio_classification.hdf5\n",
      "Epoch 29/100\n",
      "125/125 [==============================] - 1s 7ms/step - loss: 4.6544 - accuracy: 0.0231 - val_loss: 4.6687 - val_accuracy: 0.0191\n",
      "\n",
      "Epoch 00029: val_loss improved from 4.68101 to 4.66866, saving model to saved_models\\audio_classification.hdf5\n",
      "Epoch 30/100\n",
      "125/125 [==============================] - 1s 7ms/step - loss: 4.6399 - accuracy: 0.0219 - val_loss: 4.6684 - val_accuracy: 0.0181\n",
      "\n",
      "Epoch 00030: val_loss improved from 4.66866 to 4.66842, saving model to saved_models\\audio_classification.hdf5\n",
      "Epoch 31/100\n",
      "125/125 [==============================] - 1s 7ms/step - loss: 4.6380 - accuracy: 0.0196 - val_loss: 4.6682 - val_accuracy: 0.0181\n",
      "\n",
      "Epoch 00031: val_loss improved from 4.66842 to 4.66819, saving model to saved_models\\audio_classification.hdf5\n",
      "Epoch 32/100\n",
      "125/125 [==============================] - 1s 7ms/step - loss: 4.6398 - accuracy: 0.0231 - val_loss: 4.6663 - val_accuracy: 0.0181\n",
      "\n",
      "Epoch 00032: val_loss improved from 4.66819 to 4.66632, saving model to saved_models\\audio_classification.hdf5\n",
      "Epoch 33/100\n"
     ]
    },
    {
     "name": "stdout",
     "output_type": "stream",
     "text": [
      "125/125 [==============================] - 1s 7ms/step - loss: 4.6208 - accuracy: 0.0257 - val_loss: 4.6610 - val_accuracy: 0.0171\n",
      "\n",
      "Epoch 00033: val_loss improved from 4.66632 to 4.66102, saving model to saved_models\\audio_classification.hdf5\n",
      "Epoch 34/100\n",
      "125/125 [==============================] - 1s 7ms/step - loss: 4.6242 - accuracy: 0.0252 - val_loss: 4.6595 - val_accuracy: 0.0161\n",
      "\n",
      "Epoch 00034: val_loss improved from 4.66102 to 4.65949, saving model to saved_models\\audio_classification.hdf5\n",
      "Epoch 35/100\n",
      "125/125 [==============================] - 1s 8ms/step - loss: 4.6132 - accuracy: 0.0267 - val_loss: 4.6306 - val_accuracy: 0.0201\n",
      "\n",
      "Epoch 00035: val_loss improved from 4.65949 to 4.63063, saving model to saved_models\\audio_classification.hdf5\n",
      "Epoch 36/100\n",
      "125/125 [==============================] - 1s 7ms/step - loss: 4.6110 - accuracy: 0.0249 - val_loss: 4.6230 - val_accuracy: 0.0211\n",
      "\n",
      "Epoch 00036: val_loss improved from 4.63063 to 4.62302, saving model to saved_models\\audio_classification.hdf5\n",
      "Epoch 37/100\n",
      "125/125 [==============================] - 1s 7ms/step - loss: 4.5932 - accuracy: 0.0264 - val_loss: 4.6191 - val_accuracy: 0.0211\n",
      "\n",
      "Epoch 00037: val_loss improved from 4.62302 to 4.61907, saving model to saved_models\\audio_classification.hdf5\n",
      "Epoch 38/100\n",
      "125/125 [==============================] - 1s 7ms/step - loss: 4.5959 - accuracy: 0.0267 - val_loss: 4.6276 - val_accuracy: 0.0211\n",
      "\n",
      "Epoch 00038: val_loss did not improve from 4.61907\n",
      "Epoch 39/100\n",
      "125/125 [==============================] - 1s 7ms/step - loss: 4.5837 - accuracy: 0.0289 - val_loss: 4.6126 - val_accuracy: 0.0231\n",
      "\n",
      "Epoch 00039: val_loss improved from 4.61907 to 4.61263, saving model to saved_models\\audio_classification.hdf5\n",
      "Epoch 40/100\n",
      "125/125 [==============================] - 1s 7ms/step - loss: 4.5817 - accuracy: 0.0269 - val_loss: 4.6179 - val_accuracy: 0.0211\n",
      "\n",
      "Epoch 00040: val_loss did not improve from 4.61263\n",
      "Epoch 41/100\n",
      "125/125 [==============================] - 1s 7ms/step - loss: 4.5750 - accuracy: 0.0274 - val_loss: 4.6105 - val_accuracy: 0.0191\n",
      "\n",
      "Epoch 00041: val_loss improved from 4.61263 to 4.61046, saving model to saved_models\\audio_classification.hdf5\n",
      "Epoch 42/100\n",
      "125/125 [==============================] - 1s 7ms/step - loss: 4.5666 - accuracy: 0.0287 - val_loss: 4.6088 - val_accuracy: 0.0231\n",
      "\n",
      "Epoch 00042: val_loss improved from 4.61046 to 4.60878, saving model to saved_models\\audio_classification.hdf5\n",
      "Epoch 43/100\n",
      "125/125 [==============================] - 1s 7ms/step - loss: 4.5753 - accuracy: 0.0284 - val_loss: 4.5770 - val_accuracy: 0.0221\n",
      "\n",
      "Epoch 00043: val_loss improved from 4.60878 to 4.57701, saving model to saved_models\\audio_classification.hdf5\n",
      "Epoch 44/100\n",
      "125/125 [==============================] - 1s 7ms/step - loss: 4.5463 - accuracy: 0.0299 - val_loss: 4.5964 - val_accuracy: 0.0191\n",
      "\n",
      "Epoch 00044: val_loss did not improve from 4.57701\n",
      "Epoch 45/100\n",
      "125/125 [==============================] - 1s 7ms/step - loss: 4.5464 - accuracy: 0.0279 - val_loss: 4.5777 - val_accuracy: 0.0231\n",
      "\n",
      "Epoch 00045: val_loss did not improve from 4.57701\n",
      "Epoch 46/100\n",
      "125/125 [==============================] - 1s 7ms/step - loss: 4.5414 - accuracy: 0.0289 - val_loss: 4.5852 - val_accuracy: 0.0252\n",
      "\n",
      "Epoch 00046: val_loss did not improve from 4.57701\n",
      "Epoch 47/100\n",
      "125/125 [==============================] - 1s 7ms/step - loss: 4.5402 - accuracy: 0.0297 - val_loss: 4.5952 - val_accuracy: 0.0201\n",
      "\n",
      "Epoch 00047: val_loss did not improve from 4.57701\n",
      "Epoch 48/100\n",
      "125/125 [==============================] - 1s 7ms/step - loss: 4.5270 - accuracy: 0.0309 - val_loss: 4.5690 - val_accuracy: 0.0231\n",
      "\n",
      "Epoch 00048: val_loss improved from 4.57701 to 4.56897, saving model to saved_models\\audio_classification.hdf5\n",
      "Epoch 49/100\n",
      "125/125 [==============================] - 1s 8ms/step - loss: 4.5448 - accuracy: 0.0312 - val_loss: 4.5741 - val_accuracy: 0.0211\n",
      "\n",
      "Epoch 00049: val_loss did not improve from 4.56897\n",
      "Epoch 50/100\n",
      "125/125 [==============================] - 1s 7ms/step - loss: 4.5268 - accuracy: 0.0319 - val_loss: 4.5792 - val_accuracy: 0.0241\n",
      "\n",
      "Epoch 00050: val_loss did not improve from 4.56897\n",
      "Epoch 51/100\n",
      "125/125 [==============================] - 1s 7ms/step - loss: 4.5175 - accuracy: 0.0342 - val_loss: 4.5636 - val_accuracy: 0.0252\n",
      "\n",
      "Epoch 00051: val_loss improved from 4.56897 to 4.56356, saving model to saved_models\\audio_classification.hdf5\n",
      "Epoch 52/100\n",
      "125/125 [==============================] - 1s 7ms/step - loss: 4.5208 - accuracy: 0.0342 - val_loss: 4.5624 - val_accuracy: 0.0262\n",
      "\n",
      "Epoch 00052: val_loss improved from 4.56356 to 4.56236, saving model to saved_models\\audio_classification.hdf5\n",
      "Epoch 53/100\n",
      "125/125 [==============================] - 1s 7ms/step - loss: 4.4947 - accuracy: 0.0350 - val_loss: 4.5378 - val_accuracy: 0.0282\n",
      "\n",
      "Epoch 00053: val_loss improved from 4.56236 to 4.53776, saving model to saved_models\\audio_classification.hdf5\n",
      "Epoch 54/100\n",
      "125/125 [==============================] - 1s 7ms/step - loss: 4.5087 - accuracy: 0.0340 - val_loss: 4.5660 - val_accuracy: 0.0262\n",
      "\n",
      "Epoch 00054: val_loss did not improve from 4.53776\n",
      "Epoch 55/100\n",
      "125/125 [==============================] - 1s 7ms/step - loss: 4.4846 - accuracy: 0.0360 - val_loss: 4.5296 - val_accuracy: 0.0231\n",
      "\n",
      "Epoch 00055: val_loss improved from 4.53776 to 4.52956, saving model to saved_models\\audio_classification.hdf5\n",
      "Epoch 56/100\n",
      "125/125 [==============================] - 1s 7ms/step - loss: 4.4927 - accuracy: 0.0375 - val_loss: 4.5264 - val_accuracy: 0.0352\n",
      "\n",
      "Epoch 00056: val_loss improved from 4.52956 to 4.52636, saving model to saved_models\\audio_classification.hdf5\n",
      "Epoch 57/100\n",
      "125/125 [==============================] - 1s 7ms/step - loss: 4.4870 - accuracy: 0.0375 - val_loss: 4.5247 - val_accuracy: 0.0362\n",
      "\n",
      "Epoch 00057: val_loss improved from 4.52636 to 4.52472, saving model to saved_models\\audio_classification.hdf5\n",
      "Epoch 58/100\n",
      "125/125 [==============================] - 1s 7ms/step - loss: 4.4642 - accuracy: 0.0397 - val_loss: 4.5101 - val_accuracy: 0.0342\n",
      "\n",
      "Epoch 00058: val_loss improved from 4.52472 to 4.51014, saving model to saved_models\\audio_classification.hdf5\n",
      "Epoch 59/100\n",
      "125/125 [==============================] - 1s 8ms/step - loss: 4.4722 - accuracy: 0.0370 - val_loss: 4.5056 - val_accuracy: 0.0282\n",
      "\n",
      "Epoch 00059: val_loss improved from 4.51014 to 4.50559, saving model to saved_models\\audio_classification.hdf5\n",
      "Epoch 60/100\n",
      "125/125 [==============================] - 1s 8ms/step - loss: 4.4583 - accuracy: 0.0372 - val_loss: 4.4864 - val_accuracy: 0.0272\n",
      "\n",
      "Epoch 00060: val_loss improved from 4.50559 to 4.48642, saving model to saved_models\\audio_classification.hdf5\n",
      "Epoch 61/100\n",
      "125/125 [==============================] - 1s 7ms/step - loss: 4.4556 - accuracy: 0.0412 - val_loss: 4.4911 - val_accuracy: 0.0332\n",
      "\n",
      "Epoch 00061: val_loss did not improve from 4.48642\n",
      "Epoch 62/100\n",
      "125/125 [==============================] - 1s 7ms/step - loss: 4.4549 - accuracy: 0.0412 - val_loss: 4.5195 - val_accuracy: 0.0262\n",
      "\n",
      "Epoch 00062: val_loss did not improve from 4.48642\n",
      "Epoch 63/100\n",
      "125/125 [==============================] - 1s 7ms/step - loss: 4.4541 - accuracy: 0.0377 - val_loss: 4.4963 - val_accuracy: 0.0302\n",
      "\n",
      "Epoch 00063: val_loss did not improve from 4.48642\n",
      "Epoch 64/100\n",
      "125/125 [==============================] - 1s 7ms/step - loss: 4.4289 - accuracy: 0.0473 - val_loss: 4.4827 - val_accuracy: 0.0332\n",
      "\n",
      "Epoch 00064: val_loss improved from 4.48642 to 4.48274, saving model to saved_models\\audio_classification.hdf5\n",
      "Epoch 65/100\n",
      "125/125 [==============================] - 1s 7ms/step - loss: 4.4334 - accuracy: 0.0430 - val_loss: 4.4674 - val_accuracy: 0.0312\n",
      "\n",
      "Epoch 00065: val_loss improved from 4.48274 to 4.46742, saving model to saved_models\\audio_classification.hdf5\n",
      "Epoch 66/100\n",
      "125/125 [==============================] - 1s 7ms/step - loss: 4.4208 - accuracy: 0.0425 - val_loss: 4.4715 - val_accuracy: 0.0312\n",
      "\n",
      "Epoch 00066: val_loss did not improve from 4.46742\n",
      "Epoch 67/100\n",
      "125/125 [==============================] - 1s 7ms/step - loss: 4.4146 - accuracy: 0.0475 - val_loss: 4.4637 - val_accuracy: 0.0282\n",
      "\n",
      "Epoch 00067: val_loss improved from 4.46742 to 4.46366, saving model to saved_models\\audio_classification.hdf5\n",
      "Epoch 68/100\n"
     ]
    },
    {
     "name": "stdout",
     "output_type": "stream",
     "text": [
      "125/125 [==============================] - 1s 7ms/step - loss: 4.4043 - accuracy: 0.0488 - val_loss: 4.4553 - val_accuracy: 0.0332\n",
      "\n",
      "Epoch 00068: val_loss improved from 4.46366 to 4.45533, saving model to saved_models\\audio_classification.hdf5\n",
      "Epoch 69/100\n",
      "125/125 [==============================] - 1s 7ms/step - loss: 4.3874 - accuracy: 0.0480 - val_loss: 4.4585 - val_accuracy: 0.0312\n",
      "\n",
      "Epoch 00069: val_loss did not improve from 4.45533\n",
      "Epoch 70/100\n",
      "125/125 [==============================] - 1s 8ms/step - loss: 4.3967 - accuracy: 0.0470 - val_loss: 4.4230 - val_accuracy: 0.0332\n",
      "\n",
      "Epoch 00070: val_loss improved from 4.45533 to 4.42297, saving model to saved_models\\audio_classification.hdf5\n",
      "Epoch 71/100\n",
      "125/125 [==============================] - 1s 8ms/step - loss: 4.3890 - accuracy: 0.0498 - val_loss: 4.4290 - val_accuracy: 0.0332\n",
      "\n",
      "Epoch 00071: val_loss did not improve from 4.42297\n",
      "Epoch 72/100\n",
      "125/125 [==============================] - 1s 8ms/step - loss: 4.3979 - accuracy: 0.0470 - val_loss: 4.4289 - val_accuracy: 0.0362\n",
      "\n",
      "Epoch 00072: val_loss did not improve from 4.42297\n",
      "Epoch 73/100\n",
      "125/125 [==============================] - 1s 7ms/step - loss: 4.3816 - accuracy: 0.0488 - val_loss: 4.4410 - val_accuracy: 0.0382\n",
      "\n",
      "Epoch 00073: val_loss did not improve from 4.42297\n",
      "Epoch 74/100\n",
      "125/125 [==============================] - 1s 7ms/step - loss: 4.3632 - accuracy: 0.0463 - val_loss: 4.4482 - val_accuracy: 0.0362\n",
      "\n",
      "Epoch 00074: val_loss did not improve from 4.42297\n",
      "Epoch 75/100\n",
      "125/125 [==============================] - 1s 7ms/step - loss: 4.3697 - accuracy: 0.0506 - val_loss: 4.4052 - val_accuracy: 0.0463\n",
      "\n",
      "Epoch 00075: val_loss improved from 4.42297 to 4.40520, saving model to saved_models\\audio_classification.hdf5\n",
      "Epoch 76/100\n",
      "125/125 [==============================] - 1s 7ms/step - loss: 4.3646 - accuracy: 0.0558 - val_loss: 4.4315 - val_accuracy: 0.0412\n",
      "\n",
      "Epoch 00076: val_loss did not improve from 4.40520\n",
      "Epoch 77/100\n",
      "125/125 [==============================] - 1s 7ms/step - loss: 4.3507 - accuracy: 0.0528 - val_loss: 4.4086 - val_accuracy: 0.0402\n",
      "\n",
      "Epoch 00077: val_loss did not improve from 4.40520\n",
      "Epoch 78/100\n",
      "125/125 [==============================] - 1s 7ms/step - loss: 4.3386 - accuracy: 0.0506 - val_loss: 4.3789 - val_accuracy: 0.0533\n",
      "\n",
      "Epoch 00078: val_loss improved from 4.40520 to 4.37888, saving model to saved_models\\audio_classification.hdf5\n",
      "Epoch 79/100\n",
      "125/125 [==============================] - 1s 7ms/step - loss: 4.3544 - accuracy: 0.0503 - val_loss: 4.3722 - val_accuracy: 0.0473\n",
      "\n",
      "Epoch 00079: val_loss improved from 4.37888 to 4.37221, saving model to saved_models\\audio_classification.hdf5\n",
      "Epoch 80/100\n",
      "125/125 [==============================] - 1s 7ms/step - loss: 4.3329 - accuracy: 0.0558 - val_loss: 4.3697 - val_accuracy: 0.0553\n",
      "\n",
      "Epoch 00080: val_loss improved from 4.37221 to 4.36966, saving model to saved_models\\audio_classification.hdf5\n",
      "Epoch 81/100\n",
      "125/125 [==============================] - 1s 8ms/step - loss: 4.3363 - accuracy: 0.0606 - val_loss: 4.3852 - val_accuracy: 0.0443\n",
      "\n",
      "Epoch 00081: val_loss did not improve from 4.36966\n",
      "Epoch 82/100\n",
      "125/125 [==============================] - 1s 8ms/step - loss: 4.3450 - accuracy: 0.0513 - val_loss: 4.3924 - val_accuracy: 0.0453\n",
      "\n",
      "Epoch 00082: val_loss did not improve from 4.36966\n",
      "Epoch 83/100\n",
      "125/125 [==============================] - 1s 8ms/step - loss: 4.3244 - accuracy: 0.0578 - val_loss: 4.4016 - val_accuracy: 0.0483\n",
      "\n",
      "Epoch 00083: val_loss did not improve from 4.36966\n",
      "Epoch 84/100\n",
      "125/125 [==============================] - 1s 7ms/step - loss: 4.3202 - accuracy: 0.0563 - val_loss: 4.3709 - val_accuracy: 0.0543\n",
      "\n",
      "Epoch 00084: val_loss did not improve from 4.36966\n",
      "Epoch 85/100\n",
      "125/125 [==============================] - 1s 8ms/step - loss: 4.3169 - accuracy: 0.0543 - val_loss: 4.3922 - val_accuracy: 0.0473\n",
      "\n",
      "Epoch 00085: val_loss did not improve from 4.36966\n",
      "Epoch 86/100\n",
      "125/125 [==============================] - 1s 7ms/step - loss: 4.2864 - accuracy: 0.0604 - val_loss: 4.3686 - val_accuracy: 0.0513\n",
      "\n",
      "Epoch 00086: val_loss improved from 4.36966 to 4.36861, saving model to saved_models\\audio_classification.hdf5\n",
      "Epoch 87/100\n",
      "125/125 [==============================] - 1s 7ms/step - loss: 4.2880 - accuracy: 0.0589 - val_loss: 4.3674 - val_accuracy: 0.0493\n",
      "\n",
      "Epoch 00087: val_loss improved from 4.36861 to 4.36744, saving model to saved_models\\audio_classification.hdf5\n",
      "Epoch 88/100\n",
      "125/125 [==============================] - 1s 7ms/step - loss: 4.3059 - accuracy: 0.0546 - val_loss: 4.3851 - val_accuracy: 0.0533\n",
      "\n",
      "Epoch 00088: val_loss did not improve from 4.36744\n",
      "Epoch 89/100\n",
      "125/125 [==============================] - 1s 7ms/step - loss: 4.3220 - accuracy: 0.0556 - val_loss: 4.4199 - val_accuracy: 0.0493\n",
      "\n",
      "Epoch 00089: val_loss did not improve from 4.36744\n",
      "Epoch 90/100\n",
      "125/125 [==============================] - 1s 8ms/step - loss: 4.3062 - accuracy: 0.0578 - val_loss: 4.3889 - val_accuracy: 0.0523\n",
      "\n",
      "Epoch 00090: val_loss did not improve from 4.36744\n",
      "Epoch 91/100\n",
      "125/125 [==============================] - 1s 8ms/step - loss: 4.3056 - accuracy: 0.0518 - val_loss: 4.3811 - val_accuracy: 0.0523\n",
      "\n",
      "Epoch 00091: val_loss did not improve from 4.36744\n",
      "Epoch 92/100\n",
      "125/125 [==============================] - 1s 7ms/step - loss: 4.2802 - accuracy: 0.0551 - val_loss: 4.3601 - val_accuracy: 0.0553\n",
      "\n",
      "Epoch 00092: val_loss improved from 4.36744 to 4.36008, saving model to saved_models\\audio_classification.hdf5\n",
      "Epoch 93/100\n",
      "125/125 [==============================] - 1s 7ms/step - loss: 4.3083 - accuracy: 0.0511 - val_loss: 4.3569 - val_accuracy: 0.0543\n",
      "\n",
      "Epoch 00093: val_loss improved from 4.36008 to 4.35692, saving model to saved_models\\audio_classification.hdf5\n",
      "Epoch 94/100\n",
      "125/125 [==============================] - 1s 7ms/step - loss: 4.2771 - accuracy: 0.0619 - val_loss: 4.3534 - val_accuracy: 0.0584\n",
      "\n",
      "Epoch 00094: val_loss improved from 4.35692 to 4.35341, saving model to saved_models\\audio_classification.hdf5\n",
      "Epoch 95/100\n",
      "125/125 [==============================] - 1s 7ms/step - loss: 4.2642 - accuracy: 0.0631 - val_loss: 4.3503 - val_accuracy: 0.0523\n",
      "\n",
      "Epoch 00095: val_loss improved from 4.35341 to 4.35030, saving model to saved_models\\audio_classification.hdf5\n",
      "Epoch 96/100\n",
      "125/125 [==============================] - 1s 7ms/step - loss: 4.2738 - accuracy: 0.0619 - val_loss: 4.3270 - val_accuracy: 0.0604\n",
      "\n",
      "Epoch 00096: val_loss improved from 4.35030 to 4.32697, saving model to saved_models\\audio_classification.hdf5\n",
      "Epoch 97/100\n",
      "125/125 [==============================] - 1s 7ms/step - loss: 4.2467 - accuracy: 0.0621 - val_loss: 4.3238 - val_accuracy: 0.0573\n",
      "\n",
      "Epoch 00097: val_loss improved from 4.32697 to 4.32379, saving model to saved_models\\audio_classification.hdf5\n",
      "Epoch 98/100\n",
      "125/125 [==============================] - 1s 7ms/step - loss: 4.2985 - accuracy: 0.0611 - val_loss: 4.3434 - val_accuracy: 0.0614\n",
      "\n",
      "Epoch 00098: val_loss did not improve from 4.32379\n",
      "Epoch 99/100\n",
      "125/125 [==============================] - 1s 7ms/step - loss: 4.2434 - accuracy: 0.0581 - val_loss: 4.3119 - val_accuracy: 0.0604\n",
      "\n",
      "Epoch 00099: val_loss improved from 4.32379 to 4.31192, saving model to saved_models\\audio_classification.hdf5\n",
      "Epoch 100/100\n",
      "125/125 [==============================] - 1s 7ms/step - loss: 4.2466 - accuracy: 0.0669 - val_loss: 4.3491 - val_accuracy: 0.0573\n",
      "\n",
      "Epoch 00100: val_loss did not improve from 4.31192\n",
      "Training completed in time:  0:01:51.730861\n"
     ]
    }
   ],
   "source": [
    "## Trianing my model\n",
    "from tensorflow.keras.callbacks import ModelCheckpoint\n",
    "from datetime import datetime \n",
    "\n",
    "num_epochs = 100\n",
    "num_batch_size = 32\n",
    "\n",
    "checkpointer = ModelCheckpoint(filepath='saved_models/audio_classification.hdf5', \n",
    "                               verbose=1, save_best_only=True)\n",
    "start = datetime.now()\n",
    "\n",
    "model.fit(X_train, y_train, batch_size=num_batch_size, epochs=num_epochs, validation_data=(X_test, y_test), callbacks=[checkpointer], verbose=1)\n",
    "\n",
    "\n",
    "duration = datetime.now() - start\n",
    "print(\"Training completed in time: \", duration)"
   ]
  },
  {
   "cell_type": "code",
   "execution_count": 82,
   "metadata": {},
   "outputs": [
    {
     "name": "stdout",
     "output_type": "stream",
     "text": [
      "0.057344064116477966\n"
     ]
    }
   ],
   "source": [
    "test_accuracy=model.evaluate(X_test,y_test,verbose=0)\n",
    "print(test_accuracy[1])"
   ]
  },
  {
   "cell_type": "code",
   "execution_count": 83,
   "metadata": {},
   "outputs": [
    {
     "data": {
      "text/plain": [
       "array([-3.8631888e+02,  1.1394091e+02,  2.2778954e+01,  2.7213106e+01,\n",
       "        3.4477303e+00,  1.4580877e+01, -3.0526619e+00,  7.8149886e+00,\n",
       "       -7.4324431e+00,  3.6237550e+00, -1.1003078e+01, -2.4783158e+00,\n",
       "       -9.6370316e+00, -1.5010778e+00, -9.8639202e+00, -1.4472517e-02,\n",
       "       -5.6217299e+00,  8.8126719e-01, -2.9071529e+00,  5.0602169e+00,\n",
       "       -3.3164763e+00, -3.3738260e+00, -2.8611739e+00, -1.1423888e+00,\n",
       "       -9.3261927e-01,  9.3082213e-01, -3.3720849e+00, -1.7259069e-01,\n",
       "        5.1868933e-01,  6.6651732e-01,  1.1526679e+00, -1.7310987e+00,\n",
       "       -8.8329053e-01, -9.8791462e-01, -2.4830294e+00, -2.3493130e+00,\n",
       "        2.7852076e-01, -1.6887509e+00, -2.3718011e+00, -8.0870664e-01],\n",
       "      dtype=float32)"
      ]
     },
     "execution_count": 83,
     "metadata": {},
     "output_type": "execute_result"
    }
   ],
   "source": [
    "X_test[1]"
   ]
  },
  {
   "cell_type": "code",
   "execution_count": 84,
   "metadata": {},
   "outputs": [
    {
     "name": "stderr",
     "output_type": "stream",
     "text": [
      "C:\\Users\\Laptop\\anaconda\\lib\\site-packages\\tensorflow\\python\\keras\\engine\\sequential.py:455: UserWarning: `model.predict_classes()` is deprecated and will be removed after 2021-01-01. Please use instead:* `np.argmax(model.predict(x), axis=-1)`,   if your model does multi-class classification   (e.g. if it uses a `softmax` last-layer activation).* `(model.predict(x) > 0.5).astype(\"int32\")`,   if your model does binary classification   (e.g. if it uses a `sigmoid` last-layer activation).\n",
      "  warnings.warn('`model.predict_classes()` is deprecated and '\n"
     ]
    },
    {
     "data": {
      "text/plain": [
       "array([ 50,  14, 154, 164,  14,  14,  14,  14,  14,  14,  14,  14,  83,\n",
       "        14,   3,  14,  45, 164,  14,  14, 164,  14,  14,  14, 142,  14,\n",
       "       106, 164, 117,  14,  14, 164,  32,  14, 207,  14,  14,  14,  14,\n",
       "        14, 207,  14,  14,  14,  14,  14,  14,  14,  32,   3,  45,  20,\n",
       "       207,  14,  14,  14,  20,  14,  45,  14,  14,  50,  83,  14,  14,\n",
       "       124,  14,  14,  14,  45,  14,  38,  14,  14,  14,  14, 164,  14,\n",
       "       180,  14,  45,  50,  14,  30,  14,  14,  14, 106,  83,  14,  50,\n",
       "        14,  14,  14,  14, 164,  14,  14, 164,  32,  14,  14,  14, 106,\n",
       "        14,  14,  14,  14,  14,  14,  50, 164, 139, 120,  45,  14, 106,\n",
       "        14,  14,  20,  14,  45,  14,  30,  14,  14,  14,  14,  14,  14,\n",
       "        14,  14,  14, 164, 164,  14,  14,  14,  14,  14,  14, 117,  14,\n",
       "        14,  14,  14,  14, 164,  14,  14,   3,  14,  14,  14,  14,  14,\n",
       "        32,  14, 164,  14, 207,  14,  14, 154,  14,  14,  20,  14,  14,\n",
       "        14,  14,  14,  50,  20,  14,  14,  14,  14,  14, 164,  14,  14,\n",
       "        14,  14,  14, 164,  14, 154,  14,  14,  14,  14,  14,  14,   8,\n",
       "       207, 142, 193,  14,  14,  30,  14,  20, 164, 142,  14,  14,  14,\n",
       "         3, 164,  14,  14,  14,  32,  14,  14, 164,  14,  14,  14,  14,\n",
       "        14,  14,   8,  14,  14, 164,  14,  14,  14,  14,  14,  14, 207,\n",
       "        32,  14, 124,  14,  14,  32, 207,  14,  45, 164,  14,  45, 164,\n",
       "        14, 153,  14,  14,  14,  14,  14,  14,  14,  32, 164,  14, 207,\n",
       "        14,  14,  14, 164,  14,  45,  14,  14,  14, 142,  14,  14,  45,\n",
       "        14,  14,  14,  14,  14,  14,  14,  14,  14, 115,  14,  14, 164,\n",
       "         3,  14,  14, 142,  14,  32,  32, 164,  14,   3,  14,  14,  14,\n",
       "        30,  14,  14,  14,  50,  14,  14,  14,  14,  14,  20, 193, 164,\n",
       "       164,  14,  32,  14,  14,  14,  14,  14,  32, 115,  14,  14, 164,\n",
       "       164,  14,  14,  14,  14, 164,  14,  14,  14,  14,  32,  45,  14,\n",
       "       164,  14, 164,  28,  14,  32,  50, 207,  14,  14,  14,  50,  14,\n",
       "       142,  14,  14, 164,  14,  14,  83,  14,  14,  14,  14,  45, 164,\n",
       "        14,  14,  14,  14,  14,  14,  14,  14,  32,  14,  14,  14,  14,\n",
       "        14,  14,  14,  14, 164,  32,  45,  14,  14,  14,  14,  30,  14,\n",
       "        14,  32,  14,  14,  14, 164,  14,  14,  28,  14,  50, 164,  14,\n",
       "        28,  50,  14,  45, 164,  14,  14,  14,  14,  14, 106,  14,  14,\n",
       "        14,  14,  45,  30,  14,  14,  14,  50,  14,  14, 164,  14,  14,\n",
       "        14,  14,  14,  50,  14,  14,  14,  14,  14,  14, 153, 138,  14,\n",
       "        14,  14,  14,  14,  32,  14,  14,  14,  14,  14,  14,  14,  14,\n",
       "        14, 164,  14,  45, 180,  50,  14,  14, 106,  14, 153,  14,  28,\n",
       "        14, 164,   3,  14, 120,  14, 139,  14, 164,  14,  14,  14,  14,\n",
       "        14, 164,  14,  14,  14,  14, 164,  14,  14,  14,  14, 142,  14,\n",
       "        32,  14,  14,  14,  14,  14,  14, 164,  14,  14, 164,  14,  14,\n",
       "        28,  32,  14,  14,  14,  28, 120, 164,  14,  14, 207,  14, 153,\n",
       "        20,  14,  14, 120,  14,  14,  14,  14,  28,  14,  14,  20,  14,\n",
       "        14, 153,  14,  14,  14,  14,  14,  14, 164,  45,  14,  14,  14,\n",
       "       207,  14,  14,  14,  14,  14,  14, 207,   3,  14,  14,  14,  14,\n",
       "        49,  14,  14,  14,  14,  83,   3, 139,  14,  14,  14,  14,  14,\n",
       "       142,  14,  14,  14,  14, 142,  83,  14,  14,  14, 120, 153,  14,\n",
       "        14,  14,  14, 193, 193,  45, 154,  14,  14,  45,  32,  28,  50,\n",
       "        14,  14,  14,  14,  14,  14, 132,  14,  14,  14,  14,  32,  14,\n",
       "       117,  14,  14,  14,  14,  14,  45,  14,  92,  14,  14,  14,  14,\n",
       "        14,  14,  50, 164,  14,  14,  14,  14,  14,  14,  14,  14, 115,\n",
       "        38,  14,  14,  14,  14,  14, 106,  50,  14,  14,  14,  14,  14,\n",
       "        14,  14,  14,  50,  14,  14, 164,  14,  14,  50,  14,  14,  14,\n",
       "        14,  14, 164,  14,  14,  14,  14, 164,  38,  14,  14,  14, 207,\n",
       "        14,  14,  32, 164, 106, 120,  14,  14,  14,  14,  45,  14,  14,\n",
       "        14,  14,  14,  50,  14,  14,  20,  14,  14,  14,  14,  14, 142,\n",
       "        14,  14,  14, 164,  14, 164,  14, 164,  14,  14,  14,  14, 164,\n",
       "        28,   3,  14,  14, 164,  14, 164,  14,  14,  83,  14,  14,  14,\n",
       "        14,  14,  14,  30,  14,  14, 142,  14,   3,  14,  14,  14,  14,\n",
       "        45,  14,  50,  14,   3,  14,  14,  50,  14,  45,  14,  14,  14,\n",
       "        14,  14,  14,  45,  14,  14, 164,  45, 164,  50,  14, 164,  32,\n",
       "        20,  14,  14,  14,  14,  14,  14,  14,  14,  14, 106,  14,  14,\n",
       "        14,  14,  14,  14, 164,  14,  14,  50,  14, 164,  14,  83,  14,\n",
       "        14, 106, 142,  14,  14,  14,  14, 164,  14, 139,  14,  14,  14,\n",
       "        14,  14, 132, 164,  45,  14,  83,  14, 154,  14,  14,  14,  14,\n",
       "        14,  45, 180,  28,  14,  14,  14,  14,  14,  14,  14,  14,  14,\n",
       "        14,  14,  14,  14,  14,  14,  14,  14,  32,  14,  14, 139,  14,\n",
       "       139,  14,  14,  14,  14,  14,  14,  14,  14, 139,  14,  45,  45,\n",
       "        45,  14,  14,  14,  14,  14, 120,  14,  45, 207,  14,  14,  14,\n",
       "        14,  50,  14,  32,  14,  14, 106,  14,  30,  14, 120,  14,  14,\n",
       "        14,  83,  14,  14,  14,  14, 120,   3,  14,  14,  14, 164,  14,\n",
       "        14,  14,  14,  14, 164, 142,  14,  14,  14,  14,  14, 164,  14,\n",
       "        83,  14,  14,  14, 164,  14, 180,  14,  14,  14,  14,  32, 164,\n",
       "        14,  49,  14,  32,  32,  14,  14,  14,  14,  45,  45, 164,  14,\n",
       "        14,  14,  14,  14,  14,  14,  14,   3,  14,  45,  14, 153, 164,\n",
       "        28,  14,  14,  14,  14,  14,  14,  14,  14,  14,   3,  90,  14,\n",
       "        14,  30,  14,  50,  32,  32,  14,  14,  14,  14,  14,  30,  14,\n",
       "        14,  14,  14, 164,  14,  14,   3,  14,  50,  14,  14,  14,  32,\n",
       "        14, 164,  14,  14,  14,  14], dtype=int64)"
      ]
     },
     "execution_count": 84,
     "metadata": {},
     "output_type": "execute_result"
    }
   ],
   "source": [
    "model.predict_classes(X_test)"
   ]
  },
  {
   "cell_type": "markdown",
   "metadata": {},
   "source": [
    "### Testing Some Test Audio Data\n",
    "\n",
    "Steps\n",
    "- Preprocess the new audio data\n",
    "- predict the classes\n",
    "- Invere transform your Predicted Label"
   ]
  },
  {
   "cell_type": "code",
   "execution_count": 86,
   "metadata": {
    "scrolled": true
   },
   "outputs": [
    {
     "name": "stdout",
     "output_type": "stream",
     "text": [
      "[-2.9296814e+02  1.2391682e+02 -1.8529112e+01 -1.8954836e+01\n",
      " -3.5278355e+01 -4.6438189e+00 -3.3969311e+01 -1.4433401e+01\n",
      " -1.1227983e+01  2.4050300e+00 -2.6364820e+00 -5.0397472e+00\n",
      " -1.0891813e+01  6.3180178e-01  5.7777534e+00  3.5287609e+00\n",
      " -1.0371912e+00 -5.6258307e+00 -6.2410922e+00 -1.2665101e+00\n",
      " -5.5122018e+00 -1.0807478e+01 -8.8814754e+00 -1.5831902e+00\n",
      " -2.8123370e-01  1.4680792e+00  3.4335568e+00  1.3397698e+00\n",
      "  4.9608355e+00  2.7071643e+00 -5.8373487e-01 -1.8241671e+00\n",
      "  4.1228521e-01  1.5152587e-01 -2.9500377e-01 -8.0371064e-01\n",
      " -1.9485896e+00  1.0221021e+00  1.2124017e+00  7.5649929e-01]\n",
      "[[-2.9296814e+02  1.2391682e+02 -1.8529112e+01 -1.8954836e+01\n",
      "  -3.5278355e+01 -4.6438189e+00 -3.3969311e+01 -1.4433401e+01\n",
      "  -1.1227983e+01  2.4050300e+00 -2.6364820e+00 -5.0397472e+00\n",
      "  -1.0891813e+01  6.3180178e-01  5.7777534e+00  3.5287609e+00\n",
      "  -1.0371912e+00 -5.6258307e+00 -6.2410922e+00 -1.2665101e+00\n",
      "  -5.5122018e+00 -1.0807478e+01 -8.8814754e+00 -1.5831902e+00\n",
      "  -2.8123370e-01  1.4680792e+00  3.4335568e+00  1.3397698e+00\n",
      "   4.9608355e+00  2.7071643e+00 -5.8373487e-01 -1.8241671e+00\n",
      "   4.1228521e-01  1.5152587e-01 -2.9500377e-01 -8.0371064e-01\n",
      "  -1.9485896e+00  1.0221021e+00  1.2124017e+00  7.5649929e-01]]\n",
      "(1, 40)\n",
      "[14]\n"
     ]
    },
    {
     "data": {
      "text/plain": [
       "array(['Bark'], dtype='<U87')"
      ]
     },
     "execution_count": 86,
     "metadata": {},
     "output_type": "execute_result"
    }
   ],
   "source": [
    "\n",
    "filename=\"C:\\\\Users\\\\Laptop\\\\Downloads\\\\UrbanSound8K\\\\dog.wav\"\n",
    "audio, sample_rate = librosa.load(filename, res_type='kaiser_fast') \n",
    "mfccs_features = librosa.feature.mfcc(y=audio, sr=sample_rate, n_mfcc=40)\n",
    "mfccs_scaled_features = np.mean(mfccs_features.T,axis=0)\n",
    "\n",
    "print(mfccs_scaled_features)\n",
    "mfccs_scaled_features=mfccs_scaled_features.reshape(1,-1)\n",
    "print(mfccs_scaled_features)\n",
    "print(mfccs_scaled_features.shape)\n",
    "predicted_label=model.predict_classes(mfccs_scaled_features)\n",
    "print(predicted_label)\n",
    "prediction_class = labelencoder.inverse_transform(predicted_label) \n",
    "prediction_class\n"
   ]
  },
  {
   "cell_type": "code",
   "execution_count": null,
   "metadata": {},
   "outputs": [],
   "source": []
  }
 ],
 "metadata": {
  "kernelspec": {
   "display_name": "Python 3",
   "language": "python",
   "name": "python3"
  },
  "language_info": {
   "codemirror_mode": {
    "name": "ipython",
    "version": 3
   },
   "file_extension": ".py",
   "mimetype": "text/x-python",
   "name": "python",
   "nbconvert_exporter": "python",
   "pygments_lexer": "ipython3",
   "version": "3.7.6"
  }
 },
 "nbformat": 4,
 "nbformat_minor": 5
}
